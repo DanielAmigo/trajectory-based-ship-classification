{
 "nbformat": 4,
 "nbformat_minor": 2,
 "metadata": {
  "language_info": {
   "name": "python",
   "codemirror_mode": {
    "name": "ipython",
    "version": 3
   },
   "version": "3.7.6-final"
  },
  "orig_nbformat": 2,
  "file_extension": ".py",
  "mimetype": "text/x-python",
  "name": "python",
  "npconvert_exporter": "python",
  "pygments_lexer": "ipython3",
  "version": 3,
  "kernelspec": {
   "name": "python3",
   "display_name": "Python 3"
  }
 },
 "cells": [
  {
   "cell_type": "code",
   "execution_count": 1,
   "metadata": {},
   "outputs": [],
   "source": [
    "#### Se importan todas las librerías necesarias ####\n",
    "import plotly as px                         # Cosas de plotly generales. Como los colores\n",
    "import plotly.graph_objs as go              # Para generar las figuras y los charts\n",
    "import plotly.io as pio                     # Interfaz para guardar en SVG\n",
    "import pandas as pd                         # Para leer el CSV con los datos"
   ]
  },
  {
   "cell_type": "code",
   "execution_count": 2,
   "metadata": {},
   "outputs": [
    {
     "output_type": "error",
     "ename": "NameError",
     "evalue": "name 'init_notebook_mode' is not defined",
     "traceback": [
      "\u001b[1;31m---------------------------------------------------------------------------\u001b[0m",
      "\u001b[1;31mNameError\u001b[0m                                 Traceback (most recent call last)",
      "\u001b[1;32m<ipython-input-2-b87cbc689711>\u001b[0m in \u001b[0;36m<module>\u001b[1;34m\u001b[0m\n\u001b[0;32m      1\u001b[0m \u001b[1;31m# You can also plot your graphs offline inside a Jupyter Notebook Environment. First you need to initiate the Plotly Notebook mode as below:\u001b[0m\u001b[1;33m\u001b[0m\u001b[1;33m\u001b[0m\u001b[1;33m\u001b[0m\u001b[0m\n\u001b[1;32m----> 2\u001b[1;33m \u001b[0minit_notebook_mode\u001b[0m\u001b[1;33m(\u001b[0m\u001b[0mconnected\u001b[0m\u001b[1;33m=\u001b[0m\u001b[1;32mTrue\u001b[0m\u001b[1;33m)\u001b[0m \u001b[1;31m# Hola\u001b[0m\u001b[1;33m\u001b[0m\u001b[1;33m\u001b[0m\u001b[0m\n\u001b[0m",
      "\u001b[1;31mNameError\u001b[0m: name 'init_notebook_mode' is not defined"
     ]
    }
   ],
   "source": [
    "# You can also plot your graphs offline inside a Jupyter Notebook Environment. First you need to initiate the Plotly Notebook mode as below:\n",
    "#init_notebook_mode(connected=True) # Hola"
   ]
  },
  {
   "cell_type": "code",
   "execution_count": 3,
   "metadata": {},
   "outputs": [
    {
     "output_type": "execute_result",
     "data": {
      "text/plain": "     labels  Segments  Cleaned  MMSI\n0     Cargo     33847    15875   565\n1  Dredging      2668     1695    35\n2   Fishing     22009    13493   281\n3       HSC      6725     1326    38\n4     Other      3982     2058    52",
      "text/html": "<div>\n<style scoped>\n    .dataframe tbody tr th:only-of-type {\n        vertical-align: middle;\n    }\n\n    .dataframe tbody tr th {\n        vertical-align: top;\n    }\n\n    .dataframe thead th {\n        text-align: right;\n    }\n</style>\n<table border=\"1\" class=\"dataframe\">\n  <thead>\n    <tr style=\"text-align: right;\">\n      <th></th>\n      <th>labels</th>\n      <th>Segments</th>\n      <th>Cleaned</th>\n      <th>MMSI</th>\n    </tr>\n  </thead>\n  <tbody>\n    <tr>\n      <th>0</th>\n      <td>Cargo</td>\n      <td>33847</td>\n      <td>15875</td>\n      <td>565</td>\n    </tr>\n    <tr>\n      <th>1</th>\n      <td>Dredging</td>\n      <td>2668</td>\n      <td>1695</td>\n      <td>35</td>\n    </tr>\n    <tr>\n      <th>2</th>\n      <td>Fishing</td>\n      <td>22009</td>\n      <td>13493</td>\n      <td>281</td>\n    </tr>\n    <tr>\n      <th>3</th>\n      <td>HSC</td>\n      <td>6725</td>\n      <td>1326</td>\n      <td>38</td>\n    </tr>\n    <tr>\n      <th>4</th>\n      <td>Other</td>\n      <td>3982</td>\n      <td>2058</td>\n      <td>52</td>\n    </tr>\n  </tbody>\n</table>\n</div>"
     },
     "metadata": {},
     "execution_count": 3
    }
   ],
   "source": [
    "#### Se cargan los datos en CSV con la librería Pandas ####\n",
    "data1 = pd.read_csv(\"data.csv\",\n",
    "                    sep=';',        # Por defecto es ,\n",
    "                    decimal=\",\",     # Por defecto es .\n",
    "                    )\n",
    "#print(data1) # Muestra todas las líneas en texto feo mal colocado\n",
    "data1.head() # Muestra las 5 primeras pero bien colocadas, hasta la columna de los índices"
   ]
  },
  {
   "cell_type": "code",
   "execution_count": null,
   "metadata": {},
   "outputs": [],
   "source": [
    "#### Se crean el diagrama con las tres filas ####\n",
    "Cargo     = data1.iloc[0, 1:]\n",
    "Dredging  = data1.iloc[1, 1:]\n",
    "Fishing   = data1.iloc[2, 1:]\n",
    "HSC       = data1.iloc[3, 1:]\n",
    "Other     = data1.iloc[4, 1:]\n",
    "Passenger = data1.iloc[5, 1:]\n",
    "Pilot     = data1.iloc[6, 1:]\n",
    "SAR       = data1.iloc[7, 1:]\n",
    "Sailing   = data1.iloc[8, 1:]\n",
    "Tanker    = data1.iloc[9, 1:]\n",
    "Tug       = data1.iloc[10,1:]\n",
    "Minimal   = data1.iloc[11,1:]\n",
    "\n",
    "colors = px.colors.qualitative.T10 # Colores cargados https://plot.ly/python/discrete-color/\n",
    "x=['Segments', 'Cleaned', 'MMSI']\n",
    "\n",
    "fig = go.Figure(go.Bar(x=Cargo,     y=x, orientation='h', name='Cargo'))\n",
    "fig.add_trace(  go.Bar(x=Dredging,  y=x, orientation='h', name='Dredging'))\n",
    "fig.add_trace(  go.Bar(x=Fishing,   y=x, orientation='h', name='Fishing'))\n",
    "fig.add_trace(  go.Bar(x=HSC,       y=x, orientation='h', name='HSC'))\n",
    "fig.add_trace(  go.Bar(x=Minimal,   y=x, orientation='h', name='Minimal'))\n",
    "fig.add_trace(  go.Bar(x=Other,     y=x, orientation='h', name='Other'))\n",
    "fig.add_trace(  go.Bar(x=Passenger, y=x, orientation='h', name='Passenger'))\n",
    "fig.add_trace(  go.Bar(x=Pilot,     y=x, orientation='h', name='Pilot'))\n",
    "fig.add_trace(  go.Bar(x=SAR,       y=x, orientation='h', name='SAR'))\n",
    "fig.add_trace(  go.Bar(x=Sailing,   y=x, orientation='h', name='Sailing'))\n",
    "fig.add_trace(  go.Bar(x=Tanker,    y=x, orientation='h', name='Tanker'))\n",
    "fig.add_trace(  go.Bar(x=Tug,       y=x, orientation='h', name='Tug'))\n",
    "fig.update_layout(barmode='stack', xaxis={'categoryorder':'category descending'})\n",
    "\n",
    "fig.show() # Para que salga el resultado\n",
    "\n",
    "#### Se guarda el diagrama ####\n",
    "pio.write_image(fig, \"fig1.svg\")"
   ]
  },
  {
   "cell_type": "code",
   "execution_count": null,
   "metadata": {},
   "outputs": [],
   "source": [
    "#### Se crean el diagrama con SOLO MMSI ####\n",
    "Cargo     = [data1.iloc[0,  3]]\n",
    "Dredging  = [data1.iloc[1,  3]]\n",
    "Fishing   = [data1.iloc[2,  3]]\n",
    "HSC       = [data1.iloc[3,  3]]\n",
    "Other     = [data1.iloc[4,  3]]\n",
    "Passenger = [data1.iloc[5,  3]]\n",
    "Pilot     = [data1.iloc[6,  3]]\n",
    "SAR       = [data1.iloc[7,  3]]\n",
    "Sailing   = [data1.iloc[8,  3]]\n",
    "Tanker    = [data1.iloc[9,  3]]\n",
    "Tug       = [data1.iloc[10, 3]]\n",
    "Minimal   = [data1.iloc[11, 3]]\n",
    "\n",
    "x=['MMSI']\n",
    "\n",
    "fig = go.Figure(go.Bar(x=Cargo,     y=x, orientation='h', name='Cargo'))\n",
    "fig.add_trace(  go.Bar(x=Dredging,  y=x, orientation='h', name='Dredging'))\n",
    "fig.add_trace(  go.Bar(x=Fishing,   y=x, orientation='h', name='Fishing'))\n",
    "fig.add_trace(  go.Bar(x=HSC,       y=x, orientation='h', name='HSC'))\n",
    "fig.add_trace(  go.Bar(x=Minimal,   y=x, orientation='h', name='Minimal'))\n",
    "fig.add_trace(  go.Bar(x=Other,     y=x, orientation='h', name='Other'))\n",
    "fig.add_trace(  go.Bar(x=Passenger, y=x, orientation='h', name='Passenger'))\n",
    "fig.add_trace(  go.Bar(x=Pilot,     y=x, orientation='h', name='Pilot'))\n",
    "fig.add_trace(  go.Bar(x=SAR,       y=x, orientation='h', name='SAR'))\n",
    "fig.add_trace(  go.Bar(x=Sailing,   y=x, orientation='h', name='Sailing'))\n",
    "fig.add_trace(  go.Bar(x=Tanker,    y=x, orientation='h', name='Tanker'))\n",
    "fig.add_trace(  go.Bar(x=Tug,       y=x, orientation='h', name='Tug'))\n",
    "fig.update_layout(barmode='stack', xaxis={'categoryorder':'category descending'})\n",
    "\n",
    "fig.show() # Para que salga el resultado\n",
    "\n",
    "#### Se guarda el diagrama ####\n",
    "pio.write_image(fig, \"fig2.svg\")"
   ]
  }
 ]
}