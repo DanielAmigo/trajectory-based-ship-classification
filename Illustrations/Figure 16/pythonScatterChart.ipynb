{
 "cells": [
  {
   "cell_type": "code",
   "execution_count": 1,
   "metadata": {},
   "outputs": [],
   "source": [
    "#### Se importan todas las librerías necesarias ####\n",
    "import plotly as px                         # Cosas de plotly generales. Como los colores\n",
    "import plotly.graph_objs as go              # Para generar las figuras y los charts\n",
    "import plotly.io as pio                     # Interfaz para guardar en SVG\n",
    "import pandas as pd                         # Para leer el CSV con los datos\n",
    "import numpy as np"
   ]
  },
  {
   "cell_type": "code",
   "execution_count": 2,
   "metadata": {},
   "outputs": [],
   "source": [
    "# You can also plot your graphs offline inside a Jupyter Notebook Environment. First you need to initiate the Plotly Notebook mode as below:\n",
    "#init_notebook_mode(connected=True) # Hola"
   ]
  },
  {
   "cell_type": "code",
   "execution_count": 3,
   "metadata": {},
   "outputs": [
    {
     "output_type": "execute_result",
     "data": {
      "text/plain": "           Label ClassifierType          BalancerType   Setting  Accuracy  \\\n0   Complete SVM            SVM            Imbalanced  Complete   81.0850   \n1   Complete SVM            SVM  random undersampling  Complete   75.5450   \n2   Complete SVM            SVM                 Smote  Complete   77.9549   \n3  Complete Tree           Tree            Imbalanced  Complete   78.3949   \n4  Complete Tree           Tree  random undersampling  Complete   74.0206   \n\n    Fmeasure  \n0   0.000000  \n1  57.756910  \n2  56.994479  \n3  37.722132  \n4  51.432762  ",
      "text/html": "<div>\n<style scoped>\n    .dataframe tbody tr th:only-of-type {\n        vertical-align: middle;\n    }\n\n    .dataframe tbody tr th {\n        vertical-align: top;\n    }\n\n    .dataframe thead th {\n        text-align: right;\n    }\n</style>\n<table border=\"1\" class=\"dataframe\">\n  <thead>\n    <tr style=\"text-align: right;\">\n      <th></th>\n      <th>Label</th>\n      <th>ClassifierType</th>\n      <th>BalancerType</th>\n      <th>Setting</th>\n      <th>Accuracy</th>\n      <th>Fmeasure</th>\n    </tr>\n  </thead>\n  <tbody>\n    <tr>\n      <th>0</th>\n      <td>Complete SVM</td>\n      <td>SVM</td>\n      <td>Imbalanced</td>\n      <td>Complete</td>\n      <td>81.0850</td>\n      <td>0.000000</td>\n    </tr>\n    <tr>\n      <th>1</th>\n      <td>Complete SVM</td>\n      <td>SVM</td>\n      <td>random undersampling</td>\n      <td>Complete</td>\n      <td>75.5450</td>\n      <td>57.756910</td>\n    </tr>\n    <tr>\n      <th>2</th>\n      <td>Complete SVM</td>\n      <td>SVM</td>\n      <td>Smote</td>\n      <td>Complete</td>\n      <td>77.9549</td>\n      <td>56.994479</td>\n    </tr>\n    <tr>\n      <th>3</th>\n      <td>Complete Tree</td>\n      <td>Tree</td>\n      <td>Imbalanced</td>\n      <td>Complete</td>\n      <td>78.3949</td>\n      <td>37.722132</td>\n    </tr>\n    <tr>\n      <th>4</th>\n      <td>Complete Tree</td>\n      <td>Tree</td>\n      <td>random undersampling</td>\n      <td>Complete</td>\n      <td>74.0206</td>\n      <td>51.432762</td>\n    </tr>\n  </tbody>\n</table>\n</div>"
     },
     "metadata": {},
     "execution_count": 3
    }
   ],
   "source": [
    "#### Se cargan los datos en CSV con la librería Pandas ####\n",
    "data1 = pd.read_csv(\"data.csv\",\n",
    "                    sep=';',        # Por defecto es ,\n",
    "                    decimal=\",\",     # Por defecto es .\n",
    "                    )\n",
    "#print(data1) # Muestra todas las líneas en texto feo mal colocado\n",
    "data1.head() # Muestra las 5 primeras pero bien colocadas, hasta la columna de los índices"
   ]
  },
  {
   "cell_type": "code",
   "execution_count": 4,
   "metadata": {
    "tags": []
   },
   "outputs": [
    {
     "output_type": "display_data",
     "data": {
      "application/vnd.plotly.v1+json": {
       "config": {
        "plotlyServerURL": "https://plot.ly"
       },
       "data": [
        {
         "line": {
          "color": "#636EFA",
          "width": 3
         },
         "mode": "lines",
         "type": "scatter",
         "x": [
          75.304,
          77.9437,
          77.9549,
          79.66970079999999,
          80.3789,
          81.0878
         ],
         "y": [
          72.623175,
          67.425069,
          56.99447876,
          49.255061299999994,
          37.043984,
          0
         ]
        },
        {
         "marker": {
          "color": "#4C78A8",
          "line": {
           "color": "#FF9DA6",
           "width": 1.5
          },
          "size": 10,
          "symbol": 0
         },
         "mode": "markers",
         "type": "scatter",
         "x": [
          81.085
         ],
         "y": [
          0
         ]
        },
        {
         "marker": {
          "color": "#4C78A8",
          "line": {
           "color": "#FF9DA6",
           "width": 1.5
          },
          "size": 10,
          "symbol": 5
         },
         "mode": "markers",
         "type": "scatter",
         "x": [
          75.545
         ],
         "y": [
          57.75690982
         ]
        },
        {
         "marker": {
          "color": "#4C78A8",
          "line": {
           "color": "#FF9DA6",
           "width": 1.5
          },
          "size": 10,
          "symbol": 2
         },
         "mode": "markers",
         "type": "scatter",
         "x": [
          77.9549
         ],
         "y": [
          56.99447876
         ]
        },
        {
         "marker": {
          "color": "#4C78A8",
          "line": {
           "color": "#222A2A",
           "width": 1.5
          },
          "size": 10,
          "symbol": 0
         },
         "mode": "markers",
         "type": "scatter",
         "x": [
          78.3949
         ],
         "y": [
          37.72213247
         ]
        },
        {
         "marker": {
          "color": "#4C78A8",
          "line": {
           "color": "#222A2A",
           "width": 1.5
          },
          "size": 10,
          "symbol": 5
         },
         "mode": "markers",
         "type": "scatter",
         "x": [
          74.0206
         ],
         "y": [
          51.43276232
         ]
        },
        {
         "marker": {
          "color": "#4C78A8",
          "line": {
           "color": "#222A2A",
           "width": 1.5
          },
          "size": 10,
          "symbol": 2
         },
         "mode": "markers",
         "type": "scatter",
         "x": [
          79.1319
         ],
         "y": [
          32.90386521
         ]
        },
        {
         "marker": {
          "color": "#E45756",
          "line": {
           "color": "#FF9DA6",
           "width": 1.5
          },
          "size": 10,
          "symbol": 0
         },
         "mode": "markers",
         "type": "scatter",
         "x": [
          75.1026
         ],
         "y": [
          4.837
         ]
        },
        {
         "marker": {
          "color": "#E45756",
          "line": {
           "color": "#FF9DA6",
           "width": 1.5
          },
          "size": 10,
          "symbol": 5
         },
         "mode": "markers",
         "type": "scatter",
         "x": [
          27.3508
         ],
         "y": [
          50.318999999999996
         ]
        },
        {
         "marker": {
          "color": "#E45756",
          "line": {
           "color": "#FF9DA6",
           "width": 1.5
          },
          "size": 10,
          "symbol": 2
         },
         "mode": "markers",
         "type": "scatter",
         "x": [
          27.3131
         ],
         "y": [
          50.298
         ]
        },
        {
         "marker": {
          "color": "#E45756",
          "line": {
           "color": "#222A2A",
           "width": 1.5
          },
          "size": 10,
          "symbol": 0
         },
         "mode": "markers",
         "type": "scatter",
         "x": [
          63.6736
         ],
         "y": [
          46.708
         ]
        },
        {
         "marker": {
          "color": "#E45756",
          "line": {
           "color": "#222A2A",
           "width": 1.5
          },
          "size": 10,
          "symbol": 5
         },
         "mode": "markers",
         "type": "scatter",
         "x": [
          51.4929
         ],
         "y": [
          31.968000000000004
         ]
        },
        {
         "marker": {
          "color": "#E45756",
          "line": {
           "color": "#222A2A",
           "width": 1.5
          },
          "size": 10,
          "symbol": 2
         },
         "mode": "markers",
         "type": "scatter",
         "x": [
          63.4332
         ],
         "y": [
          44.118
         ]
        },
        {
         "marker": {
          "color": "#F58518",
          "line": {
           "color": "#FF9DA6",
           "width": 1.5
          },
          "size": 10,
          "symbol": 0
         },
         "mode": "markers",
         "type": "scatter",
         "x": [
          80.92670079999999
         ],
         "y": [
          0.00008
         ]
        },
        {
         "marker": {
          "color": "#F58518",
          "line": {
           "color": "#FF9DA6",
           "width": 1.5
          },
          "size": 10,
          "symbol": 5
         },
         "mode": "markers",
         "type": "scatter",
         "x": [
          44.2753008
         ],
         "y": [
          40.34136434
         ]
        },
        {
         "marker": {
          "color": "#F58518",
          "line": {
           "color": "#FF9DA6",
           "width": 1.5
          },
          "size": 10,
          "symbol": 2
         },
         "mode": "markers",
         "type": "scatter",
         "x": [
          33.154400800000005
         ],
         "y": [
          36.05938775
         ]
        },
        {
         "marker": {
          "color": "#F58518",
          "line": {
           "color": "#222A2A",
           "width": 1.5
          },
          "size": 10,
          "symbol": 0
         },
         "mode": "markers",
         "type": "scatter",
         "x": [
          79.66970079999999
         ],
         "y": [
          49.255061299999994
         ]
        },
        {
         "marker": {
          "color": "#F58518",
          "line": {
           "color": "#222A2A",
           "width": 1.5
          },
          "size": 10,
          "symbol": 5
         },
         "mode": "markers",
         "type": "scatter",
         "x": [
          74.6228008
         ],
         "y": [
          45.14303796
         ]
        },
        {
         "marker": {
          "color": "#F58518",
          "line": {
           "color": "#222A2A",
           "width": 1.5
          },
          "size": 10,
          "symbol": 2
         },
         "mode": "markers",
         "type": "scatter",
         "x": [
          61.79590079999999
         ],
         "y": [
          44.16260582
         ]
        },
        {
         "marker": {
          "color": "#72B7B2",
          "line": {
           "color": "#FF9DA6",
           "width": 1.5
          },
          "size": 10,
          "symbol": 0
         },
         "mode": "markers",
         "type": "scatter",
         "x": [
          76.3236008
         ],
         "y": [
          16.05532615
         ]
        },
        {
         "marker": {
          "color": "#72B7B2",
          "line": {
           "color": "#FF9DA6",
           "width": 1.5
          },
          "size": 10,
          "symbol": 5
         },
         "mode": "markers",
         "type": "scatter",
         "x": [
          69.0223008
         ],
         "y": [
          59.66360703
         ]
        },
        {
         "marker": {
          "color": "#72B7B2",
          "line": {
           "color": "#FF9DA6",
           "width": 1.5
          },
          "size": 10,
          "symbol": 2
         },
         "mode": "markers",
         "type": "scatter",
         "x": [
          68.9594008
         ],
         "y": [
          59.65077186
         ]
        },
        {
         "marker": {
          "color": "#72B7B2",
          "line": {
           "color": "#222A2A",
           "width": 1.5
          },
          "size": 10,
          "symbol": 0
         },
         "mode": "markers",
         "type": "scatter",
         "x": [
          63.89940079999999
         ],
         "y": [
          29.68830304
         ]
        },
        {
         "marker": {
          "color": "#72B7B2",
          "line": {
           "color": "#222A2A",
           "width": 1.5
          },
          "size": 10,
          "symbol": 5
         },
         "mode": "markers",
         "type": "scatter",
         "x": [
          75.2316008
         ],
         "y": [
          52.75909438
         ]
        },
        {
         "marker": {
          "color": "#72B7B2",
          "line": {
           "color": "#222A2A",
           "width": 1.5
          },
          "size": 10,
          "symbol": 2
         },
         "mode": "markers",
         "type": "scatter",
         "x": [
          49.7370008
         ],
         "y": [
          46.52358073
         ]
        },
        {
         "marker": {
          "color": "#54A24B",
          "line": {
           "color": "#FF9DA6",
           "width": 1.5
          },
          "size": 10,
          "symbol": 0
         },
         "mode": "markers",
         "type": "scatter",
         "x": [
          81.0878
         ],
         "y": [
          0
         ]
        },
        {
         "marker": {
          "color": "#54A24B",
          "line": {
           "color": "#FF9DA6",
           "width": 1.5
          },
          "size": 10,
          "symbol": 5
         },
         "mode": "markers",
         "type": "scatter",
         "x": [
          75.304
         ],
         "y": [
          72.623175
         ]
        },
        {
         "marker": {
          "color": "#54A24B",
          "line": {
           "color": "#FF9DA6",
           "width": 1.5
          },
          "size": 10,
          "symbol": 2
         },
         "mode": "markers",
         "type": "scatter",
         "x": [
          77.9437
         ],
         "y": [
          67.425069
         ]
        },
        {
         "marker": {
          "color": "#54A24B",
          "line": {
           "color": "#222A2A",
           "width": 1.5
          },
          "size": 10,
          "symbol": 0
         },
         "mode": "markers",
         "type": "scatter",
         "x": [
          79.75399999999999
         ],
         "y": [
          16.981068
         ]
        },
        {
         "marker": {
          "color": "#54A24B",
          "line": {
           "color": "#222A2A",
           "width": 1.5
          },
          "size": 10,
          "symbol": 5
         },
         "mode": "markers",
         "type": "scatter",
         "x": [
          69.3465
         ],
         "y": [
          60.957277000000005
         ]
        },
        {
         "marker": {
          "color": "#54A24B",
          "line": {
           "color": "#222A2A",
           "width": 1.5
          },
          "size": 10,
          "symbol": 2
         },
         "mode": "markers",
         "type": "scatter",
         "x": [
          80.3789
         ],
         "y": [
          37.043984
         ]
        }
       ],
       "layout": {
        "height": 750,
        "legend": {
         "bordercolor": "Black",
         "borderwidth": 1,
         "font": {
          "color": "black",
          "size": 14
         },
         "orientation": "h",
         "traceorder": "normal",
         "x": 0.5,
         "xanchor": "center"
        },
        "margin": {
         "b": 10,
         "l": 10,
         "pad": 2,
         "r": 10,
         "t": 10
        },
        "template": {
         "data": {
          "bar": [
           {
            "error_x": {
             "color": "#2a3f5f"
            },
            "error_y": {
             "color": "#2a3f5f"
            },
            "marker": {
             "line": {
              "color": "#E5ECF6",
              "width": 0.5
             }
            },
            "type": "bar"
           }
          ],
          "barpolar": [
           {
            "marker": {
             "line": {
              "color": "#E5ECF6",
              "width": 0.5
             }
            },
            "type": "barpolar"
           }
          ],
          "carpet": [
           {
            "aaxis": {
             "endlinecolor": "#2a3f5f",
             "gridcolor": "white",
             "linecolor": "white",
             "minorgridcolor": "white",
             "startlinecolor": "#2a3f5f"
            },
            "baxis": {
             "endlinecolor": "#2a3f5f",
             "gridcolor": "white",
             "linecolor": "white",
             "minorgridcolor": "white",
             "startlinecolor": "#2a3f5f"
            },
            "type": "carpet"
           }
          ],
          "choropleth": [
           {
            "colorbar": {
             "outlinewidth": 0,
             "ticks": ""
            },
            "type": "choropleth"
           }
          ],
          "contour": [
           {
            "colorbar": {
             "outlinewidth": 0,
             "ticks": ""
            },
            "colorscale": [
             [
              0,
              "#0d0887"
             ],
             [
              0.1111111111111111,
              "#46039f"
             ],
             [
              0.2222222222222222,
              "#7201a8"
             ],
             [
              0.3333333333333333,
              "#9c179e"
             ],
             [
              0.4444444444444444,
              "#bd3786"
             ],
             [
              0.5555555555555556,
              "#d8576b"
             ],
             [
              0.6666666666666666,
              "#ed7953"
             ],
             [
              0.7777777777777778,
              "#fb9f3a"
             ],
             [
              0.8888888888888888,
              "#fdca26"
             ],
             [
              1,
              "#f0f921"
             ]
            ],
            "type": "contour"
           }
          ],
          "contourcarpet": [
           {
            "colorbar": {
             "outlinewidth": 0,
             "ticks": ""
            },
            "type": "contourcarpet"
           }
          ],
          "heatmap": [
           {
            "colorbar": {
             "outlinewidth": 0,
             "ticks": ""
            },
            "colorscale": [
             [
              0,
              "#0d0887"
             ],
             [
              0.1111111111111111,
              "#46039f"
             ],
             [
              0.2222222222222222,
              "#7201a8"
             ],
             [
              0.3333333333333333,
              "#9c179e"
             ],
             [
              0.4444444444444444,
              "#bd3786"
             ],
             [
              0.5555555555555556,
              "#d8576b"
             ],
             [
              0.6666666666666666,
              "#ed7953"
             ],
             [
              0.7777777777777778,
              "#fb9f3a"
             ],
             [
              0.8888888888888888,
              "#fdca26"
             ],
             [
              1,
              "#f0f921"
             ]
            ],
            "type": "heatmap"
           }
          ],
          "heatmapgl": [
           {
            "colorbar": {
             "outlinewidth": 0,
             "ticks": ""
            },
            "colorscale": [
             [
              0,
              "#0d0887"
             ],
             [
              0.1111111111111111,
              "#46039f"
             ],
             [
              0.2222222222222222,
              "#7201a8"
             ],
             [
              0.3333333333333333,
              "#9c179e"
             ],
             [
              0.4444444444444444,
              "#bd3786"
             ],
             [
              0.5555555555555556,
              "#d8576b"
             ],
             [
              0.6666666666666666,
              "#ed7953"
             ],
             [
              0.7777777777777778,
              "#fb9f3a"
             ],
             [
              0.8888888888888888,
              "#fdca26"
             ],
             [
              1,
              "#f0f921"
             ]
            ],
            "type": "heatmapgl"
           }
          ],
          "histogram": [
           {
            "marker": {
             "colorbar": {
              "outlinewidth": 0,
              "ticks": ""
             }
            },
            "type": "histogram"
           }
          ],
          "histogram2d": [
           {
            "colorbar": {
             "outlinewidth": 0,
             "ticks": ""
            },
            "colorscale": [
             [
              0,
              "#0d0887"
             ],
             [
              0.1111111111111111,
              "#46039f"
             ],
             [
              0.2222222222222222,
              "#7201a8"
             ],
             [
              0.3333333333333333,
              "#9c179e"
             ],
             [
              0.4444444444444444,
              "#bd3786"
             ],
             [
              0.5555555555555556,
              "#d8576b"
             ],
             [
              0.6666666666666666,
              "#ed7953"
             ],
             [
              0.7777777777777778,
              "#fb9f3a"
             ],
             [
              0.8888888888888888,
              "#fdca26"
             ],
             [
              1,
              "#f0f921"
             ]
            ],
            "type": "histogram2d"
           }
          ],
          "histogram2dcontour": [
           {
            "colorbar": {
             "outlinewidth": 0,
             "ticks": ""
            },
            "colorscale": [
             [
              0,
              "#0d0887"
             ],
             [
              0.1111111111111111,
              "#46039f"
             ],
             [
              0.2222222222222222,
              "#7201a8"
             ],
             [
              0.3333333333333333,
              "#9c179e"
             ],
             [
              0.4444444444444444,
              "#bd3786"
             ],
             [
              0.5555555555555556,
              "#d8576b"
             ],
             [
              0.6666666666666666,
              "#ed7953"
             ],
             [
              0.7777777777777778,
              "#fb9f3a"
             ],
             [
              0.8888888888888888,
              "#fdca26"
             ],
             [
              1,
              "#f0f921"
             ]
            ],
            "type": "histogram2dcontour"
           }
          ],
          "mesh3d": [
           {
            "colorbar": {
             "outlinewidth": 0,
             "ticks": ""
            },
            "type": "mesh3d"
           }
          ],
          "parcoords": [
           {
            "line": {
             "colorbar": {
              "outlinewidth": 0,
              "ticks": ""
             }
            },
            "type": "parcoords"
           }
          ],
          "pie": [
           {
            "automargin": true,
            "type": "pie"
           }
          ],
          "scatter": [
           {
            "marker": {
             "colorbar": {
              "outlinewidth": 0,
              "ticks": ""
             }
            },
            "type": "scatter"
           }
          ],
          "scatter3d": [
           {
            "line": {
             "colorbar": {
              "outlinewidth": 0,
              "ticks": ""
             }
            },
            "marker": {
             "colorbar": {
              "outlinewidth": 0,
              "ticks": ""
             }
            },
            "type": "scatter3d"
           }
          ],
          "scattercarpet": [
           {
            "marker": {
             "colorbar": {
              "outlinewidth": 0,
              "ticks": ""
             }
            },
            "type": "scattercarpet"
           }
          ],
          "scattergeo": [
           {
            "marker": {
             "colorbar": {
              "outlinewidth": 0,
              "ticks": ""
             }
            },
            "type": "scattergeo"
           }
          ],
          "scattergl": [
           {
            "marker": {
             "colorbar": {
              "outlinewidth": 0,
              "ticks": ""
             }
            },
            "type": "scattergl"
           }
          ],
          "scattermapbox": [
           {
            "marker": {
             "colorbar": {
              "outlinewidth": 0,
              "ticks": ""
             }
            },
            "type": "scattermapbox"
           }
          ],
          "scatterpolar": [
           {
            "marker": {
             "colorbar": {
              "outlinewidth": 0,
              "ticks": ""
             }
            },
            "type": "scatterpolar"
           }
          ],
          "scatterpolargl": [
           {
            "marker": {
             "colorbar": {
              "outlinewidth": 0,
              "ticks": ""
             }
            },
            "type": "scatterpolargl"
           }
          ],
          "scatterternary": [
           {
            "marker": {
             "colorbar": {
              "outlinewidth": 0,
              "ticks": ""
             }
            },
            "type": "scatterternary"
           }
          ],
          "surface": [
           {
            "colorbar": {
             "outlinewidth": 0,
             "ticks": ""
            },
            "colorscale": [
             [
              0,
              "#0d0887"
             ],
             [
              0.1111111111111111,
              "#46039f"
             ],
             [
              0.2222222222222222,
              "#7201a8"
             ],
             [
              0.3333333333333333,
              "#9c179e"
             ],
             [
              0.4444444444444444,
              "#bd3786"
             ],
             [
              0.5555555555555556,
              "#d8576b"
             ],
             [
              0.6666666666666666,
              "#ed7953"
             ],
             [
              0.7777777777777778,
              "#fb9f3a"
             ],
             [
              0.8888888888888888,
              "#fdca26"
             ],
             [
              1,
              "#f0f921"
             ]
            ],
            "type": "surface"
           }
          ],
          "table": [
           {
            "cells": {
             "fill": {
              "color": "#EBF0F8"
             },
             "line": {
              "color": "white"
             }
            },
            "header": {
             "fill": {
              "color": "#C8D4E3"
             },
             "line": {
              "color": "white"
             }
            },
            "type": "table"
           }
          ]
         },
         "layout": {
          "annotationdefaults": {
           "arrowcolor": "#2a3f5f",
           "arrowhead": 0,
           "arrowwidth": 1
          },
          "coloraxis": {
           "colorbar": {
            "outlinewidth": 0,
            "ticks": ""
           }
          },
          "colorscale": {
           "diverging": [
            [
             0,
             "#8e0152"
            ],
            [
             0.1,
             "#c51b7d"
            ],
            [
             0.2,
             "#de77ae"
            ],
            [
             0.3,
             "#f1b6da"
            ],
            [
             0.4,
             "#fde0ef"
            ],
            [
             0.5,
             "#f7f7f7"
            ],
            [
             0.6,
             "#e6f5d0"
            ],
            [
             0.7,
             "#b8e186"
            ],
            [
             0.8,
             "#7fbc41"
            ],
            [
             0.9,
             "#4d9221"
            ],
            [
             1,
             "#276419"
            ]
           ],
           "sequential": [
            [
             0,
             "#0d0887"
            ],
            [
             0.1111111111111111,
             "#46039f"
            ],
            [
             0.2222222222222222,
             "#7201a8"
            ],
            [
             0.3333333333333333,
             "#9c179e"
            ],
            [
             0.4444444444444444,
             "#bd3786"
            ],
            [
             0.5555555555555556,
             "#d8576b"
            ],
            [
             0.6666666666666666,
             "#ed7953"
            ],
            [
             0.7777777777777778,
             "#fb9f3a"
            ],
            [
             0.8888888888888888,
             "#fdca26"
            ],
            [
             1,
             "#f0f921"
            ]
           ],
           "sequentialminus": [
            [
             0,
             "#0d0887"
            ],
            [
             0.1111111111111111,
             "#46039f"
            ],
            [
             0.2222222222222222,
             "#7201a8"
            ],
            [
             0.3333333333333333,
             "#9c179e"
            ],
            [
             0.4444444444444444,
             "#bd3786"
            ],
            [
             0.5555555555555556,
             "#d8576b"
            ],
            [
             0.6666666666666666,
             "#ed7953"
            ],
            [
             0.7777777777777778,
             "#fb9f3a"
            ],
            [
             0.8888888888888888,
             "#fdca26"
            ],
            [
             1,
             "#f0f921"
            ]
           ]
          },
          "colorway": [
           "#636efa",
           "#EF553B",
           "#00cc96",
           "#ab63fa",
           "#FFA15A",
           "#19d3f3",
           "#FF6692",
           "#B6E880",
           "#FF97FF",
           "#FECB52"
          ],
          "font": {
           "color": "#2a3f5f"
          },
          "geo": {
           "bgcolor": "white",
           "lakecolor": "white",
           "landcolor": "#E5ECF6",
           "showlakes": true,
           "showland": true,
           "subunitcolor": "white"
          },
          "hoverlabel": {
           "align": "left"
          },
          "hovermode": "closest",
          "mapbox": {
           "style": "light"
          },
          "paper_bgcolor": "white",
          "plot_bgcolor": "#E5ECF6",
          "polar": {
           "angularaxis": {
            "gridcolor": "white",
            "linecolor": "white",
            "ticks": ""
           },
           "bgcolor": "#E5ECF6",
           "radialaxis": {
            "gridcolor": "white",
            "linecolor": "white",
            "ticks": ""
           }
          },
          "scene": {
           "xaxis": {
            "backgroundcolor": "#E5ECF6",
            "gridcolor": "white",
            "gridwidth": 2,
            "linecolor": "white",
            "showbackground": true,
            "ticks": "",
            "zerolinecolor": "white"
           },
           "yaxis": {
            "backgroundcolor": "#E5ECF6",
            "gridcolor": "white",
            "gridwidth": 2,
            "linecolor": "white",
            "showbackground": true,
            "ticks": "",
            "zerolinecolor": "white"
           },
           "zaxis": {
            "backgroundcolor": "#E5ECF6",
            "gridcolor": "white",
            "gridwidth": 2,
            "linecolor": "white",
            "showbackground": true,
            "ticks": "",
            "zerolinecolor": "white"
           }
          },
          "shapedefaults": {
           "line": {
            "color": "#2a3f5f"
           }
          },
          "ternary": {
           "aaxis": {
            "gridcolor": "white",
            "linecolor": "white",
            "ticks": ""
           },
           "baxis": {
            "gridcolor": "white",
            "linecolor": "white",
            "ticks": ""
           },
           "bgcolor": "#E5ECF6",
           "caxis": {
            "gridcolor": "white",
            "linecolor": "white",
            "ticks": ""
           }
          },
          "title": {
           "x": 0.05
          },
          "xaxis": {
           "automargin": true,
           "gridcolor": "white",
           "linecolor": "white",
           "ticks": "",
           "title": {
            "standoff": 15
           },
           "zerolinecolor": "white",
           "zerolinewidth": 2
          },
          "yaxis": {
           "automargin": true,
           "gridcolor": "white",
           "linecolor": "white",
           "ticks": "",
           "title": {
            "standoff": 15
           },
           "zerolinecolor": "white",
           "zerolinewidth": 2
          }
         }
        },
        "width": 750,
        "xaxis": {
         "dtick": 5,
         "linecolor": "black",
         "linewidth": 1,
         "mirror": true,
         "tick0": 0,
         "tickfont": {
          "color": "rgb(107, 107, 107)",
          "size": 16
         },
         "title": {
          "font": {
           "color": "rgb(107, 107, 107)",
           "size": 20
          },
          "text": "Accuracy"
         }
        },
        "yaxis": {
         "dtick": 5,
         "linecolor": "black",
         "linewidth": 1,
         "mirror": true,
         "tick0": 25,
         "tickfont": {
          "color": "rgb(107, 107, 107)",
          "size": 16
         },
         "title": {
          "font": {
           "color": "rgb(107, 107, 107)",
           "size": 20
          },
          "text": "F-measure"
         }
        }
       }
      }
     },
     "metadata": {}
    }
   ],
   "source": [
    "# function below sets the color based on amount\n",
    "def SetMarkerForm(x):\n",
    "    Symbol1=0 # Imbalanced\n",
    "    Symbol2=5 # Random\n",
    "    Symbol3=2 # SMOTE\n",
    "\n",
    "    if(x==\"Imbalanced\"):\n",
    "        return Symbol1\n",
    "    elif(x==\"random undersampling\"):\n",
    "        return Symbol2\n",
    "    else:\n",
    "        return Symbol3\n",
    "\n",
    "# function below sets the color based on amount\n",
    "def SetMarkerColor(x):\n",
    "    color1=px.colors.qualitative.T10[0] # Complete - blue\n",
    "    color2=px.colors.qualitative.T10[2] # No cleaning - red\n",
    "    color3=px.colors.qualitative.T10[1] # No filtering - orange\n",
    "    color4=px.colors.qualitative.T10[3] # No segment - celeste\n",
    "    color5=px.colors.qualitative.T10[4] # Reduced inputs - green\n",
    "\n",
    "    if(x==\"Complete\"):\n",
    "        return color1\n",
    "    elif(x==\"No cleaning\"):\n",
    "        return color2\n",
    "    elif(x==\"No filtering\"):\n",
    "        return color3\n",
    "    elif(x==\"No segment\"):\n",
    "        return color4\n",
    "    else:\n",
    "        return color5\n",
    "\n",
    "# function below sets the color based on amount\n",
    "def SetBorderMarkerColor(x):\n",
    "    borderColorSVM  = px.colors.qualitative.T10[7]    # Pastel pink\n",
    "    borderColorTree = px.colors.qualitative.Dark24[5] # Black\n",
    "    if(x==\"SVM\"):\n",
    "        return borderColorSVM\n",
    "    elif(x==\"Tree\"):\n",
    "        return borderColorTree\n",
    "    else:\n",
    "        return borderColorTree\n",
    "\n",
    "# Frente de Pareto\n",
    "A = data1[(data1.BalancerType == \"random undersampling\") & (data1.Setting == \"Minimum inputs\") & (data1.ClassifierType == \"SVM\")]\n",
    "B = data1[(data1.BalancerType == \"Smote\")                & (data1.Setting == \"Minimum inputs\") & (data1.ClassifierType == \"SVM\")]\n",
    "C = data1[(data1.BalancerType == \"Smote\")                & (data1.Setting == \"Complete\")       & (data1.ClassifierType == \"SVM\")]\n",
    "D = data1[(data1.BalancerType == \"Imbalanced\")           & (data1.Setting == \"No filtering\")   & (data1.ClassifierType == \"Tree\")]\n",
    "E = data1[(data1.BalancerType == \"Smote\")                & (data1.Setting == \"Minimum inputs\") & (data1.ClassifierType == \"Tree\")]\n",
    "F = data1[(data1.BalancerType == \"Imbalanced\")           & (data1.Setting == \"Minimum inputs\") & (data1.ClassifierType == \"SVM\")]\n",
    "LineAccuracy = [A.Accuracy.values[0], B.Accuracy.values[0], C.Accuracy.values[0], D.Accuracy.values[0], E.Accuracy.values[0], F.Accuracy.values[0]]\n",
    "LineFmeasure = [A.Fmeasure.values[0], B.Fmeasure.values[0], C.Fmeasure.values[0], D.Fmeasure.values[0], E.Fmeasure.values[0], F.Fmeasure.values[0]]\n",
    "\n",
    "paretoFrontColor=px.colors.qualitative.Plotly[0]\n",
    "\n",
    "fig = go.Figure()\n",
    "\n",
    "# Linea que une el frente de Pareto\n",
    "fig.add_trace(\n",
    "    go.Scatter(\n",
    "        x=LineAccuracy,\n",
    "        y=LineFmeasure,\n",
    "        mode='lines',\n",
    "        line={\n",
    "            'width': 3,\n",
    "            'color': paretoFrontColor,\n",
    "        },\n",
    "    )\n",
    ")\n",
    "\n",
    "# Puntos\n",
    "for i in range(len(data1)):\n",
    "    markerSel   = SetMarkerForm(data1.BalancerType[i])\n",
    "    colorSel    = SetMarkerColor(data1.Setting[i])\n",
    "    borderColor = SetBorderMarkerColor(data1.ClassifierType[i])\n",
    "\n",
    "    fig.add_trace(\n",
    "        go.Scatter(\n",
    "            x=[data1.Accuracy.values[i]],\n",
    "            y=[data1.Fmeasure.values[i]],\n",
    "            mode='markers',\n",
    "            marker={\n",
    "                'symbol': markerSel,\n",
    "                'color' : colorSel,\n",
    "                'size'  : 10,\n",
    "                'line'  : {\n",
    "                    'width': 1.5,\n",
    "                    'color': borderColor,\n",
    "                },\n",
    "            },\n",
    "        )\n",
    "    )\n",
    "\n",
    "fig.update_layout(\n",
    "    legend=dict(\n",
    "        traceorder=\"normal\",\n",
    "        font=dict(\n",
    "            size=14,\n",
    "            color=\"black\"\n",
    "        ),\n",
    "        bordercolor=\"Black\",\n",
    "        borderwidth=1,\n",
    "        xanchor = \"center\", # Para centrarla horizontalmente\n",
    "        x = 0.5,            # Para centrarla horizontalmente\n",
    "        orientation=\"h\",    # Para centrarla horizontalmente\n",
    "    ),\n",
    "    #autosize=False,\n",
    "    width=750,\n",
    "    height=750,\n",
    "    xaxis_title=\"Accuracy\",\n",
    "    yaxis_title=\"F-measure\",\n",
    "    xaxis= {\n",
    "        'linecolor': 'black',\n",
    "        'linewidth': 1,\n",
    "        'mirror': True,\n",
    "        'titlefont': {\n",
    "            'size':20,\n",
    "            'color':'rgb(107, 107, 107)'\n",
    "        },\n",
    "        'tickfont': {\n",
    "            'size':16,\n",
    "            'color':'rgb(107, 107, 107)'\n",
    "        },\n",
    "        'tick0':      0,\n",
    "        'dtick':      5,\n",
    "        #\"range\":      [ 23, 75 ],\n",
    "    },\n",
    "    yaxis= {\n",
    "        'linecolor': 'black',\n",
    "        'linewidth': 1,\n",
    "        'mirror': True,\n",
    "        'titlefont': {\n",
    "            'size':20,\n",
    "            'color':'rgb(107, 107, 107)'\n",
    "        },\n",
    "        'tickfont': {\n",
    "            'size':16,\n",
    "            'color':'rgb(107, 107, 107)'\n",
    "        },\n",
    "        'tick0':      25,\n",
    "        'dtick':      5,\n",
    "        #\"range\":      [ -2, 85 ],\n",
    "    },\n",
    "    margin={\n",
    "        'l':   10,\n",
    "        'r':   10,\n",
    "        'b':   10,\n",
    "        't':   10,\n",
    "        'pad': 2\n",
    "    },\n",
    "    \n",
    ")\n",
    "\n",
    "fig.show() # Para que salga el resultado\n",
    "\n",
    "#### Se guarda el diagrama ####\n",
    "pio.write_image(fig, \"figura.svg\")"
   ]
  },
  {
   "cell_type": "code",
   "execution_count": null,
   "metadata": {},
   "outputs": [],
   "source": []
  }
 ],
 "metadata": {
  "language_info": {
   "name": "python",
   "codemirror_mode": {
    "name": "ipython",
    "version": 3
   },
   "version": "3.7.6-final"
  },
  "orig_nbformat": 2,
  "file_extension": ".py",
  "mimetype": "text/x-python",
  "name": "python",
  "npconvert_exporter": "python",
  "pygments_lexer": "ipython3",
  "version": 3,
  "kernelspec": {
   "name": "python3",
   "display_name": "Python 3"
  }
 },
 "nbformat": 4,
 "nbformat_minor": 2
}