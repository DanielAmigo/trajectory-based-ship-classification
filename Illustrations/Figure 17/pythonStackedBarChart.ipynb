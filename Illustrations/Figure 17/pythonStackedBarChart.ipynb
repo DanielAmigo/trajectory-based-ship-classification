{
 "cells": [
  {
   "cell_type": "code",
   "execution_count": 281,
   "metadata": {},
   "outputs": [],
   "source": [
    "#### Se importan todas las librerías necesarias ####\n",
    "import plotly as px                         # Cosas de plotly generales. Como los colores\n",
    "from plotly.offline import iplot, init_notebook_mode\n",
    "from plotly.subplots import make_subplots\n",
    "import plotly.graph_objs as go              # Para generar las figuras y los charts\n",
    "import plotly.io as pio                     # Interfaz para guardar en SVG\n",
    "import os                                   # Para crear carpetas\n",
    "import pandas as pd                         # Para leer el CSV con los datos\n",
    "import math"
   ]
  },
  {
   "cell_type": "code",
   "execution_count": 282,
   "metadata": {},
   "outputs": [
    {
     "output_type": "display_data",
     "data": {
      "text/html": "        <script type=\"text/javascript\">\n        window.PlotlyConfig = {MathJaxConfig: 'local'};\n        if (window.MathJax) {MathJax.Hub.Config({SVG: {font: \"STIX-Web\"}});}\n        if (typeof require !== 'undefined') {\n        require.undef(\"plotly\");\n        requirejs.config({\n            paths: {\n                'plotly': ['https://cdn.plot.ly/plotly-latest.min']\n            }\n        });\n        require(['plotly'], function(Plotly) {\n            window._Plotly = Plotly;\n        });\n        }\n        </script>\n        "
     },
     "metadata": {}
    }
   ],
   "source": [
    "# You can also plot your graphs offline inside a Jupyter Notebook Environment. First you need to initiate the Plotly Notebook mode as below:\n",
    "init_notebook_mode(connected=True) # Hola"
   ]
  },
  {
   "cell_type": "code",
   "execution_count": 283,
   "metadata": {},
   "outputs": [],
   "source": [
    "#### Se cargan los datos en CSV con la librería Pandas ####\n",
    "data = pd.read_csv(\n",
    "    \"test_data.csv\",\n",
    "    sep=';',        # Por defecto es ,\n",
    "    decimal=\",\",     # Por defecto es .\n",
    ")\n",
    "dataTest = pd.read_csv(\n",
    "    \"dataMeanTest.csv\",\n",
    "    sep=';',        # Por defecto es ,\n",
    "    decimal=\",\",     # Por defecto es .\n",
    ")"
   ]
  },
  {
   "cell_type": "code",
   "execution_count": 284,
   "metadata": {
    "tags": []
   },
   "outputs": [
    {
     "output_type": "display_data",
     "data": {
      "application/vnd.plotly.v1+json": {
       "config": {
        "plotlyServerURL": "https://plot.ly"
       },
       "data": [
        {
         "marker": {
          "color": "#F58518",
          "line": {
           "color": "rgb(8,48,107)",
           "width": 1.5
          }
         },
         "name": "MeanAccuracy",
         "offset": -0.5,
         "opacity": 0.6,
         "showlegend": false,
         "type": "bar",
         "width": 10,
         "x": [
          [
           "orange imbalanced tree"
          ],
          [
           1
          ]
         ],
         "y": [
          76.09133696
         ]
        },
        {
         "marker": {
          "color": "#F58518"
         },
         "name": "Accuracy",
         "showlegend": false,
         "type": "bar",
         "width": 0.7,
         "x": [
          [
           "orange imbalanced tree"
          ],
          [
           1
          ]
         ],
         "y": [
          73.3116
         ]
        },
        {
         "marker": {
          "color": "#E45756",
          "line": {
           "color": "rgb(8,48,107)",
           "width": 1.5
          }
         },
         "name": "MeanFmeasure",
         "offset": -0.5,
         "opacity": 0.6,
         "showlegend": false,
         "type": "bar",
         "width": 10,
         "x": [
          [
           "orange imbalanced tree"
          ],
          [
           1
          ]
         ],
         "y": [
          41.60912125
         ]
        },
        {
         "marker": {
          "color": "#E45756"
         },
         "name": "Fmeasure",
         "showlegend": false,
         "type": "bar",
         "width": 0.7,
         "x": [
          [
           "orange imbalanced tree"
          ],
          [
           1
          ]
         ],
         "y": [
          41.523616700000005
         ]
        },
        {
         "marker": {
          "color": "#F58518",
          "line": {
           "color": "rgb(8,48,107)",
           "width": 1.5
          }
         },
         "name": "MeanAccuracy",
         "offset": -0.5,
         "opacity": 0.6,
         "showlegend": true,
         "type": "bar",
         "width": 10,
         "x": [
          [
           "orange imbalanced tree"
          ],
          [
           2
          ]
         ],
         "y": [
          null
         ]
        },
        {
         "marker": {
          "color": "#F58518"
         },
         "name": "Accuracy",
         "showlegend": true,
         "type": "bar",
         "width": 0.7,
         "x": [
          [
           "orange imbalanced tree"
          ],
          [
           2
          ]
         ],
         "y": [
          74.1449
         ]
        },
        {
         "marker": {
          "color": "#E45756",
          "line": {
           "color": "rgb(8,48,107)",
           "width": 1.5
          }
         },
         "name": "MeanFmeasure",
         "offset": -0.5,
         "opacity": 0.6,
         "showlegend": true,
         "type": "bar",
         "width": 10,
         "x": [
          [
           "orange imbalanced tree"
          ],
          [
           2
          ]
         ],
         "y": [
          null
         ]
        },
        {
         "marker": {
          "color": "#E45756"
         },
         "name": "Fmeasure",
         "showlegend": true,
         "type": "bar",
         "width": 0.7,
         "x": [
          [
           "orange imbalanced tree"
          ],
          [
           2
          ]
         ],
         "y": [
          45.573133500000004
         ]
        },
        {
         "marker": {
          "color": "#F58518",
          "line": {
           "color": "rgb(8,48,107)",
           "width": 1.5
          }
         },
         "name": "MeanAccuracy",
         "offset": -0.5,
         "opacity": 0.6,
         "showlegend": false,
         "type": "bar",
         "width": 10,
         "x": [
          [
           "orange imbalanced tree"
          ],
          [
           3
          ]
         ],
         "y": [
          null
         ]
        },
        {
         "marker": {
          "color": "#F58518"
         },
         "name": "Accuracy",
         "showlegend": false,
         "type": "bar",
         "width": 0.7,
         "x": [
          [
           "orange imbalanced tree"
          ],
          [
           3
          ]
         ],
         "y": [
          78.7636
         ]
        },
        {
         "marker": {
          "color": "#E45756",
          "line": {
           "color": "rgb(8,48,107)",
           "width": 1.5
          }
         },
         "name": "MeanFmeasure",
         "offset": -0.5,
         "opacity": 0.6,
         "showlegend": false,
         "type": "bar",
         "width": 10,
         "x": [
          [
           "orange imbalanced tree"
          ],
          [
           3
          ]
         ],
         "y": [
          null
         ]
        },
        {
         "marker": {
          "color": "#E45756"
         },
         "name": "Fmeasure",
         "showlegend": false,
         "type": "bar",
         "width": 0.7,
         "x": [
          [
           "orange imbalanced tree"
          ],
          [
           3
          ]
         ],
         "y": [
          47.673174700000004
         ]
        },
        {
         "marker": {
          "color": "#F58518",
          "line": {
           "color": "rgb(8,48,107)",
           "width": 1.5
          }
         },
         "name": "MeanAccuracy",
         "offset": -0.5,
         "opacity": 0.6,
         "showlegend": false,
         "type": "bar",
         "width": 10,
         "x": [
          [
           "orange imbalanced tree"
          ],
          [
           4
          ]
         ],
         "y": [
          null
         ]
        },
        {
         "marker": {
          "color": "#F58518"
         },
         "name": "Accuracy",
         "showlegend": false,
         "type": "bar",
         "width": 0.7,
         "x": [
          [
           "orange imbalanced tree"
          ],
          [
           4
          ]
         ],
         "y": [
          78.8271
         ]
        },
        {
         "marker": {
          "color": "#E45756",
          "line": {
           "color": "rgb(8,48,107)",
           "width": 1.5
          }
         },
         "name": "MeanFmeasure",
         "offset": -0.5,
         "opacity": 0.6,
         "showlegend": false,
         "type": "bar",
         "width": 10,
         "x": [
          [
           "orange imbalanced tree"
          ],
          [
           4
          ]
         ],
         "y": [
          null
         ]
        },
        {
         "marker": {
          "color": "#E45756"
         },
         "name": "Fmeasure",
         "showlegend": false,
         "type": "bar",
         "width": 0.7,
         "x": [
          [
           "orange imbalanced tree"
          ],
          [
           4
          ]
         ],
         "y": [
          42.549618200000005
         ]
        },
        {
         "marker": {
          "color": "#F58518",
          "line": {
           "color": "rgb(8,48,107)",
           "width": 1.5
          }
         },
         "name": "MeanAccuracy",
         "offset": -0.5,
         "opacity": 0.6,
         "showlegend": false,
         "type": "bar",
         "width": 10,
         "x": [
          [
           "orange imbalanced tree"
          ],
          [
           5
          ]
         ],
         "y": [
          null
         ]
        },
        {
         "marker": {
          "color": "#F58518"
         },
         "name": "Accuracy",
         "showlegend": false,
         "type": "bar",
         "width": 0.7,
         "x": [
          [
           "orange imbalanced tree"
          ],
          [
           5
          ]
         ],
         "y": [
          80.4063
         ]
        },
        {
         "marker": {
          "color": "#E45756",
          "line": {
           "color": "rgb(8,48,107)",
           "width": 1.5
          }
         },
         "name": "MeanFmeasure",
         "offset": -0.5,
         "opacity": 0.6,
         "showlegend": false,
         "type": "bar",
         "width": 10,
         "x": [
          [
           "orange imbalanced tree"
          ],
          [
           5
          ]
         ],
         "y": [
          null
         ]
        },
        {
         "marker": {
          "color": "#E45756"
         },
         "name": "Fmeasure",
         "showlegend": false,
         "type": "bar",
         "width": 0.7,
         "x": [
          [
           "orange imbalanced tree"
          ],
          [
           5
          ]
         ],
         "y": [
          49.249751
         ]
        },
        {
         "marker": {
          "color": "#F58518",
          "line": {
           "color": "rgb(8,48,107)",
           "width": 1.5
          }
         },
         "name": "MeanAccuracy",
         "offset": -0.5,
         "opacity": 0.6,
         "showlegend": false,
         "type": "bar",
         "width": 10,
         "x": [
          [
           "orange imbalanced tree"
          ],
          [
           6
          ]
         ],
         "y": [
          null
         ]
        },
        {
         "marker": {
          "color": "#F58518"
         },
         "name": "Accuracy",
         "showlegend": false,
         "type": "bar",
         "width": 0.7,
         "x": [
          [
           "orange imbalanced tree"
          ],
          [
           6
          ]
         ],
         "y": [
          73.3275
         ]
        },
        {
         "marker": {
          "color": "#E45756",
          "line": {
           "color": "rgb(8,48,107)",
           "width": 1.5
          }
         },
         "name": "MeanFmeasure",
         "offset": -0.5,
         "opacity": 0.6,
         "showlegend": false,
         "type": "bar",
         "width": 10,
         "x": [
          [
           "orange imbalanced tree"
          ],
          [
           6
          ]
         ],
         "y": [
          null
         ]
        },
        {
         "marker": {
          "color": "#E45756"
         },
         "name": "Fmeasure",
         "showlegend": false,
         "type": "bar",
         "width": 0.7,
         "x": [
          [
           "orange imbalanced tree"
          ],
          [
           6
          ]
         ],
         "y": [
          45.0010531
         ]
        },
        {
         "marker": {
          "color": "#F58518",
          "line": {
           "color": "#222A2A",
           "width": 1.5
          },
          "opacity": 0.75,
          "size": 10,
          "symbol": 2
         },
         "mode": "markers",
         "type": "scatter",
         "x": [
          [
           "orange imbalanced tree"
          ],
          [
           6
          ]
         ],
         "y": [
          79.66970079999999
         ]
        },
        {
         "marker": {
          "color": "#E45756",
          "line": {
           "color": "#222A2A",
           "width": 1.5
          },
          "opacity": 0.75,
          "size": 10,
          "symbol": 2
         },
         "mode": "markers",
         "type": "scatter",
         "x": [
          [
           "orange imbalanced tree"
          ],
          [
           6
          ]
         ],
         "y": [
          49.255061299999994
         ]
        },
        {
         "marker": {
          "color": "#F58518",
          "line": {
           "color": "rgb(8,48,107)",
           "width": 1.5
          }
         },
         "name": "MeanAccuracy",
         "offset": -0.5,
         "opacity": 0.6,
         "showlegend": false,
         "type": "bar",
         "width": 10,
         "x": [
          [
           "orange imbalanced tree"
          ],
          [
           7
          ]
         ],
         "y": [
          null
         ]
        },
        {
         "marker": {
          "color": "#F58518"
         },
         "name": "Accuracy",
         "showlegend": false,
         "type": "bar",
         "width": 0.7,
         "x": [
          [
           "orange imbalanced tree"
          ],
          [
           7
          ]
         ],
         "y": [
          74.6052
         ]
        },
        {
         "marker": {
          "color": "#E45756",
          "line": {
           "color": "rgb(8,48,107)",
           "width": 1.5
          }
         },
         "name": "MeanFmeasure",
         "offset": -0.5,
         "opacity": 0.6,
         "showlegend": false,
         "type": "bar",
         "width": 10,
         "x": [
          [
           "orange imbalanced tree"
          ],
          [
           7
          ]
         ],
         "y": [
          null
         ]
        },
        {
         "marker": {
          "color": "#E45756"
         },
         "name": "Fmeasure",
         "showlegend": false,
         "type": "bar",
         "width": 0.7,
         "x": [
          [
           "orange imbalanced tree"
          ],
          [
           7
          ]
         ],
         "y": [
          33.9389076
         ]
        },
        {
         "marker": {
          "color": "#F58518",
          "line": {
           "color": "rgb(8,48,107)",
           "width": 1.5
          }
         },
         "name": "MeanAccuracy",
         "offset": -0.5,
         "opacity": 0.6,
         "showlegend": false,
         "type": "bar",
         "width": 10,
         "x": [
          [
           "orange imbalanced tree"
          ],
          [
           8
          ]
         ],
         "y": [
          null
         ]
        },
        {
         "marker": {
          "color": "#F58518"
         },
         "name": "Accuracy",
         "showlegend": false,
         "type": "bar",
         "width": 0.7,
         "x": [
          [
           "orange imbalanced tree"
          ],
          [
           8
          ]
         ],
         "y": [
          71.9387
         ]
        },
        {
         "marker": {
          "color": "#E45756",
          "line": {
           "color": "rgb(8,48,107)",
           "width": 1.5
          }
         },
         "name": "MeanFmeasure",
         "offset": -0.5,
         "opacity": 0.6,
         "showlegend": false,
         "type": "bar",
         "width": 10,
         "x": [
          [
           "orange imbalanced tree"
          ],
          [
           8
          ]
         ],
         "y": [
          null
         ]
        },
        {
         "marker": {
          "color": "#E45756"
         },
         "name": "Fmeasure",
         "showlegend": false,
         "type": "bar",
         "width": 0.7,
         "x": [
          [
           "orange imbalanced tree"
          ],
          [
           8
          ]
         ],
         "y": [
          39.26459679999999
         ]
        },
        {
         "marker": {
          "color": "#F58518",
          "line": {
           "color": "rgb(8,48,107)",
           "width": 1.5
          }
         },
         "name": "MeanAccuracy",
         "offset": -0.5,
         "opacity": 0.6,
         "showlegend": false,
         "type": "bar",
         "width": 10,
         "x": [
          [
           "orange imbalanced tree"
          ],
          [
           9
          ]
         ],
         "y": [
          null
         ]
        },
        {
         "marker": {
          "color": "#F58518"
         },
         "name": "Accuracy",
         "showlegend": false,
         "type": "bar",
         "width": 0.7,
         "x": [
          [
           "orange imbalanced tree"
          ],
          [
           9
          ]
         ],
         "y": [
          77.4304
         ]
        },
        {
         "marker": {
          "color": "#E45756",
          "line": {
           "color": "rgb(8,48,107)",
           "width": 1.5
          }
         },
         "name": "MeanFmeasure",
         "offset": -0.5,
         "opacity": 0.6,
         "showlegend": false,
         "type": "bar",
         "width": 10,
         "x": [
          [
           "orange imbalanced tree"
          ],
          [
           9
          ]
         ],
         "y": [
          null
         ]
        },
        {
         "marker": {
          "color": "#E45756"
         },
         "name": "Fmeasure",
         "showlegend": false,
         "type": "bar",
         "width": 0.7,
         "x": [
          [
           "orange imbalanced tree"
          ],
          [
           9
          ]
         ],
         "y": [
          35.422335100000005
         ]
        },
        {
         "marker": {
          "color": "#F58518",
          "line": {
           "color": "rgb(8,48,107)",
           "width": 1.5
          }
         },
         "name": "MeanAccuracy",
         "offset": -0.5,
         "opacity": 0.6,
         "showlegend": false,
         "type": "bar",
         "width": 10,
         "x": [
          [
           "orange imbalanced tree"
          ],
          [
           10
          ]
         ],
         "y": [
          null
         ]
        },
        {
         "marker": {
          "color": "#F58518"
         },
         "name": "Accuracy",
         "showlegend": false,
         "type": "bar",
         "width": 0.7,
         "x": [
          [
           "orange imbalanced tree"
          ],
          [
           10
          ]
         ],
         "y": [
          78.6859
         ]
        },
        {
         "marker": {
          "color": "#E45756",
          "line": {
           "color": "rgb(8,48,107)",
           "width": 1.5
          }
         },
         "name": "MeanFmeasure",
         "offset": -0.5,
         "opacity": 0.6,
         "showlegend": false,
         "type": "bar",
         "width": 10,
         "x": [
          [
           "orange imbalanced tree"
          ],
          [
           10
          ]
         ],
         "y": [
          null
         ]
        },
        {
         "marker": {
          "color": "#E45756"
         },
         "name": "Fmeasure",
         "showlegend": false,
         "type": "bar",
         "width": 0.7,
         "x": [
          [
           "orange imbalanced tree"
          ],
          [
           10
          ]
         ],
         "y": [
          35.8950258
         ]
        },
        {
         "marker": {
          "color": "#54A24B",
          "line": {
           "color": "rgb(8,48,107)",
           "width": 1.5
          }
         },
         "name": "MeanAccuracy",
         "offset": -0.5,
         "opacity": 0.6,
         "showlegend": false,
         "type": "bar",
         "width": 10,
         "x": [
          [
           "green imbalanced SVM"
          ],
          [
           1
          ]
         ],
         "y": [
          81.01062325
         ]
        },
        {
         "marker": {
          "color": "#54A24B"
         },
         "name": "Accuracy",
         "showlegend": false,
         "type": "bar",
         "width": 0.7,
         "x": [
          [
           "green imbalanced SVM"
          ],
          [
           1
          ]
         ],
         "y": [
          81.1997
         ]
        },
        {
         "marker": {
          "color": "#E45756",
          "line": {
           "color": "rgb(8,48,107)",
           "width": 1.5
          }
         },
         "name": "MeanFmeasure",
         "offset": -0.5,
         "opacity": 0.6,
         "showlegend": false,
         "type": "bar",
         "width": 10,
         "x": [
          [
           "green imbalanced SVM"
          ],
          [
           1
          ]
         ],
         "y": [
          1.24842747
         ]
        },
        {
         "marker": {
          "color": "#E45756"
         },
         "name": "Fmeasure",
         "showlegend": false,
         "type": "bar",
         "width": 0.7,
         "x": [
          [
           "green imbalanced SVM"
          ],
          [
           1
          ]
         ],
         "y": [
          8.9011508
         ]
        },
        {
         "marker": {
          "color": "#54A24B",
          "line": {
           "color": "rgb(8,48,107)",
           "width": 1.5
          }
         },
         "name": "MeanAccuracy",
         "offset": -0.5,
         "opacity": 0.6,
         "showlegend": false,
         "type": "bar",
         "width": 10,
         "x": [
          [
           "green imbalanced SVM"
          ],
          [
           2
          ]
         ],
         "y": [
          null
         ]
        },
        {
         "marker": {
          "color": "#54A24B"
         },
         "name": "Accuracy",
         "showlegend": false,
         "type": "bar",
         "width": 0.7,
         "x": [
          [
           "green imbalanced SVM"
          ],
          [
           2
          ]
         ],
         "y": [
          80.964
         ]
        },
        {
         "marker": {
          "color": "#E45756",
          "line": {
           "color": "rgb(8,48,107)",
           "width": 1.5
          }
         },
         "name": "MeanFmeasure",
         "offset": -0.5,
         "opacity": 0.6,
         "showlegend": false,
         "type": "bar",
         "width": 10,
         "x": [
          [
           "green imbalanced SVM"
          ],
          [
           2
          ]
         ],
         "y": [
          null
         ]
        },
        {
         "marker": {
          "color": "#E45756"
         },
         "name": "Fmeasure",
         "showlegend": false,
         "type": "bar",
         "width": 0.7,
         "x": [
          [
           "green imbalanced SVM"
          ],
          [
           2
          ]
         ],
         "y": [
          0
         ]
        },
        {
         "marker": {
          "color": "#54A24B",
          "line": {
           "color": "rgb(8,48,107)",
           "width": 1.5
          }
         },
         "name": "MeanAccuracy",
         "offset": -0.5,
         "opacity": 0.6,
         "showlegend": false,
         "type": "bar",
         "width": 10,
         "x": [
          [
           "green imbalanced SVM"
          ],
          [
           3
          ]
         ],
         "y": [
          null
         ]
        },
        {
         "marker": {
          "color": "#54A24B"
         },
         "name": "Accuracy",
         "showlegend": false,
         "type": "bar",
         "width": 0.7,
         "x": [
          [
           "green imbalanced SVM"
          ],
          [
           3
          ]
         ],
         "y": [
          80.9721
         ]
        },
        {
         "marker": {
          "color": "#E45756",
          "line": {
           "color": "rgb(8,48,107)",
           "width": 1.5
          }
         },
         "name": "MeanFmeasure",
         "offset": -0.5,
         "opacity": 0.6,
         "showlegend": false,
         "type": "bar",
         "width": 10,
         "x": [
          [
           "green imbalanced SVM"
          ],
          [
           3
          ]
         ],
         "y": [
          null
         ]
        },
        {
         "marker": {
          "color": "#E45756"
         },
         "name": "Fmeasure",
         "showlegend": false,
         "type": "bar",
         "width": 0.7,
         "x": [
          [
           "green imbalanced SVM"
          ],
          [
           3
          ]
         ],
         "y": [
          0
         ]
        },
        {
         "marker": {
          "color": "#54A24B",
          "line": {
           "color": "rgb(8,48,107)",
           "width": 1.5
          }
         },
         "name": "MeanAccuracy",
         "offset": -0.5,
         "opacity": 0.6,
         "showlegend": false,
         "type": "bar",
         "width": 10,
         "x": [
          [
           "green imbalanced SVM"
          ],
          [
           4
          ]
         ],
         "y": [
          null
         ]
        },
        {
         "marker": {
          "color": "#54A24B"
         },
         "name": "Accuracy",
         "showlegend": false,
         "type": "bar",
         "width": 0.7,
         "x": [
          [
           "green imbalanced SVM"
          ],
          [
           4
          ]
         ],
         "y": [
          80.9721
         ]
        },
        {
         "marker": {
          "color": "#E45756",
          "line": {
           "color": "rgb(8,48,107)",
           "width": 1.5
          }
         },
         "name": "MeanFmeasure",
         "offset": -0.5,
         "opacity": 0.6,
         "showlegend": false,
         "type": "bar",
         "width": 10,
         "x": [
          [
           "green imbalanced SVM"
          ],
          [
           4
          ]
         ],
         "y": [
          null
         ]
        },
        {
         "marker": {
          "color": "#E45756"
         },
         "name": "Fmeasure",
         "showlegend": false,
         "type": "bar",
         "width": 0.7,
         "x": [
          [
           "green imbalanced SVM"
          ],
          [
           4
          ]
         ],
         "y": [
          0
         ]
        },
        {
         "marker": {
          "color": "#54A24B",
          "line": {
           "color": "rgb(8,48,107)",
           "width": 1.5
          }
         },
         "name": "MeanAccuracy",
         "offset": -0.5,
         "opacity": 0.6,
         "showlegend": false,
         "type": "bar",
         "width": 10,
         "x": [
          [
           "green imbalanced SVM"
          ],
          [
           5
          ]
         ],
         "y": [
          null
         ]
        },
        {
         "marker": {
          "color": "#54A24B"
         },
         "name": "Accuracy",
         "showlegend": false,
         "type": "bar",
         "width": 0.7,
         "x": [
          [
           "green imbalanced SVM"
          ],
          [
           5
          ]
         ],
         "y": [
          80.9802
         ]
        },
        {
         "marker": {
          "color": "#E45756",
          "line": {
           "color": "rgb(8,48,107)",
           "width": 1.5
          }
         },
         "name": "MeanFmeasure",
         "offset": -0.5,
         "opacity": 0.6,
         "showlegend": false,
         "type": "bar",
         "width": 10,
         "x": [
          [
           "green imbalanced SVM"
          ],
          [
           5
          ]
         ],
         "y": [
          null
         ]
        },
        {
         "marker": {
          "color": "#E45756"
         },
         "name": "Fmeasure",
         "showlegend": false,
         "type": "bar",
         "width": 0.7,
         "x": [
          [
           "green imbalanced SVM"
          ],
          [
           5
          ]
         ],
         "y": [
          0.085963
         ]
        },
        {
         "marker": {
          "color": "#54A24B",
          "line": {
           "color": "rgb(8,48,107)",
           "width": 1.5
          }
         },
         "name": "MeanAccuracy",
         "offset": -0.5,
         "opacity": 0.6,
         "showlegend": false,
         "type": "bar",
         "width": 10,
         "x": [
          [
           "green imbalanced SVM"
          ],
          [
           6
          ]
         ],
         "y": [
          null
         ]
        },
        {
         "marker": {
          "color": "#54A24B"
         },
         "name": "Accuracy",
         "showlegend": false,
         "type": "bar",
         "width": 0.7,
         "x": [
          [
           "green imbalanced SVM"
          ],
          [
           6
          ]
         ],
         "y": [
          80.9721
         ]
        },
        {
         "marker": {
          "color": "#E45756",
          "line": {
           "color": "rgb(8,48,107)",
           "width": 1.5
          }
         },
         "name": "MeanFmeasure",
         "offset": -0.5,
         "opacity": 0.6,
         "showlegend": false,
         "type": "bar",
         "width": 10,
         "x": [
          [
           "green imbalanced SVM"
          ],
          [
           6
          ]
         ],
         "y": [
          null
         ]
        },
        {
         "marker": {
          "color": "#E45756"
         },
         "name": "Fmeasure",
         "showlegend": false,
         "type": "bar",
         "width": 0.7,
         "x": [
          [
           "green imbalanced SVM"
          ],
          [
           6
          ]
         ],
         "y": [
          0
         ]
        },
        {
         "marker": {
          "color": "#54A24B",
          "line": {
           "color": "#222A2A",
           "width": 1.5
          },
          "opacity": 0.75,
          "size": 10,
          "symbol": 2
         },
         "mode": "markers",
         "type": "scatter",
         "x": [
          [
           "green imbalanced SVM"
          ],
          [
           6
          ]
         ],
         "y": [
          81.0878
         ]
        },
        {
         "marker": {
          "color": "#E45756",
          "line": {
           "color": "#222A2A",
           "width": 1.5
          },
          "opacity": 0.75,
          "size": 10,
          "symbol": 2
         },
         "mode": "markers",
         "type": "scatter",
         "x": [
          [
           "green imbalanced SVM"
          ],
          [
           6
          ]
         ],
         "y": [
          0
         ]
        },
        {
         "marker": {
          "color": "#54A24B",
          "line": {
           "color": "rgb(8,48,107)",
           "width": 1.5
          }
         },
         "name": "MeanAccuracy",
         "offset": -0.5,
         "opacity": 0.6,
         "showlegend": false,
         "type": "bar",
         "width": 10,
         "x": [
          [
           "green imbalanced SVM"
          ],
          [
           7
          ]
         ],
         "y": [
          null
         ]
        },
        {
         "marker": {
          "color": "#54A24B"
         },
         "name": "Accuracy",
         "showlegend": false,
         "type": "bar",
         "width": 0.7,
         "x": [
          [
           "green imbalanced SVM"
          ],
          [
           7
          ]
         ],
         "y": [
          80.9721
         ]
        },
        {
         "marker": {
          "color": "#E45756",
          "line": {
           "color": "rgb(8,48,107)",
           "width": 1.5
          }
         },
         "name": "MeanFmeasure",
         "offset": -0.5,
         "opacity": 0.6,
         "showlegend": false,
         "type": "bar",
         "width": 10,
         "x": [
          [
           "green imbalanced SVM"
          ],
          [
           7
          ]
         ],
         "y": [
          null
         ]
        },
        {
         "marker": {
          "color": "#E45756"
         },
         "name": "Fmeasure",
         "showlegend": false,
         "type": "bar",
         "width": 0.7,
         "x": [
          [
           "green imbalanced SVM"
          ],
          [
           7
          ]
         ],
         "y": [
          0
         ]
        },
        {
         "marker": {
          "color": "#54A24B",
          "line": {
           "color": "rgb(8,48,107)",
           "width": 1.5
          }
         },
         "name": "MeanAccuracy",
         "offset": -0.5,
         "opacity": 0.6,
         "showlegend": false,
         "type": "bar",
         "width": 10,
         "x": [
          [
           "green imbalanced SVM"
          ],
          [
           8
          ]
         ],
         "y": [
          null
         ]
        },
        {
         "marker": {
          "color": "#54A24B"
         },
         "name": "Accuracy",
         "showlegend": false,
         "type": "bar",
         "width": 0.7,
         "x": [
          [
           "green imbalanced SVM"
          ],
          [
           8
          ]
         ],
         "y": [
          80.9721
         ]
        },
        {
         "marker": {
          "color": "#E45756",
          "line": {
           "color": "rgb(8,48,107)",
           "width": 1.5
          }
         },
         "name": "MeanFmeasure",
         "offset": -0.5,
         "opacity": 0.6,
         "showlegend": false,
         "type": "bar",
         "width": 10,
         "x": [
          [
           "green imbalanced SVM"
          ],
          [
           8
          ]
         ],
         "y": [
          null
         ]
        },
        {
         "marker": {
          "color": "#E45756"
         },
         "name": "Fmeasure",
         "showlegend": false,
         "type": "bar",
         "width": 0.7,
         "x": [
          [
           "green imbalanced SVM"
          ],
          [
           8
          ]
         ],
         "y": [
          0
         ]
        },
        {
         "marker": {
          "color": "#54A24B",
          "line": {
           "color": "rgb(8,48,107)",
           "width": 1.5
          }
         },
         "name": "MeanAccuracy",
         "offset": -0.5,
         "opacity": 0.6,
         "showlegend": false,
         "type": "bar",
         "width": 10,
         "x": [
          [
           "green imbalanced SVM"
          ],
          [
           9
          ]
         ],
         "y": [
          null
         ]
        },
        {
         "marker": {
          "color": "#54A24B"
         },
         "name": "Accuracy",
         "showlegend": false,
         "type": "bar",
         "width": 0.7,
         "x": [
          [
           "green imbalanced SVM"
          ],
          [
           9
          ]
         ],
         "y": [
          80.9802
         ]
        },
        {
         "marker": {
          "color": "#E45756",
          "line": {
           "color": "rgb(8,48,107)",
           "width": 1.5
          }
         },
         "name": "MeanFmeasure",
         "offset": -0.5,
         "opacity": 0.6,
         "showlegend": false,
         "type": "bar",
         "width": 10,
         "x": [
          [
           "green imbalanced SVM"
          ],
          [
           9
          ]
         ],
         "y": [
          null
         ]
        },
        {
         "marker": {
          "color": "#E45756"
         },
         "name": "Fmeasure",
         "showlegend": false,
         "type": "bar",
         "width": 0.7,
         "x": [
          [
           "green imbalanced SVM"
          ],
          [
           9
          ]
         ],
         "y": [
          0.085963
         ]
        },
        {
         "marker": {
          "color": "#54A24B",
          "line": {
           "color": "rgb(8,48,107)",
           "width": 1.5
          }
         },
         "name": "MeanAccuracy",
         "offset": -0.5,
         "opacity": 0.6,
         "showlegend": false,
         "type": "bar",
         "width": 10,
         "x": [
          [
           "green imbalanced SVM"
          ],
          [
           10
          ]
         ],
         "y": [
          null
         ]
        },
        {
         "marker": {
          "color": "#54A24B"
         },
         "name": "Accuracy",
         "showlegend": false,
         "type": "bar",
         "width": 0.7,
         "x": [
          [
           "green imbalanced SVM"
          ],
          [
           10
          ]
         ],
         "y": [
          81.122
         ]
        },
        {
         "marker": {
          "color": "#E45756",
          "line": {
           "color": "rgb(8,48,107)",
           "width": 1.5
          }
         },
         "name": "MeanFmeasure",
         "offset": -0.5,
         "opacity": 0.6,
         "showlegend": false,
         "type": "bar",
         "width": 10,
         "x": [
          [
           "green imbalanced SVM"
          ],
          [
           10
          ]
         ],
         "y": [
          null
         ]
        },
        {
         "marker": {
          "color": "#E45756"
         },
         "name": "Fmeasure",
         "showlegend": false,
         "type": "bar",
         "width": 0.7,
         "x": [
          [
           "green imbalanced SVM"
          ],
          [
           10
          ]
         ],
         "y": [
          3.4111979
         ]
        },
        {
         "marker": {
          "color": "#54A24B",
          "line": {
           "color": "rgb(8,48,107)",
           "width": 1.5
          }
         },
         "name": "MeanAccuracy",
         "offset": -0.5,
         "opacity": 0.6,
         "showlegend": false,
         "type": "bar",
         "width": 10,
         "x": [
          [
           "green random SVM"
          ],
          [
           1
          ]
         ],
         "y": [
          65.47001297
         ]
        },
        {
         "marker": {
          "color": "#54A24B"
         },
         "name": "Accuracy",
         "showlegend": false,
         "type": "bar",
         "width": 0.7,
         "x": [
          [
           "green random SVM"
          ],
          [
           1
          ]
         ],
         "y": [
          70.2755
         ]
        },
        {
         "marker": {
          "color": "#E45756",
          "line": {
           "color": "rgb(8,48,107)",
           "width": 1.5
          }
         },
         "name": "MeanFmeasure",
         "offset": -0.5,
         "opacity": 0.6,
         "showlegend": false,
         "type": "bar",
         "width": 10,
         "x": [
          [
           "green random SVM"
          ],
          [
           1
          ]
         ],
         "y": [
          53.41376268
         ]
        },
        {
         "marker": {
          "color": "#E45756"
         },
         "name": "Fmeasure",
         "showlegend": false,
         "type": "bar",
         "width": 0.7,
         "x": [
          [
           "green random SVM"
          ],
          [
           1
          ]
         ],
         "y": [
          54.712423099999995
         ]
        },
        {
         "marker": {
          "color": "#54A24B",
          "line": {
           "color": "rgb(8,48,107)",
           "width": 1.5
          }
         },
         "name": "MeanAccuracy",
         "offset": -0.5,
         "opacity": 0.6,
         "showlegend": false,
         "type": "bar",
         "width": 10,
         "x": [
          [
           "green random SVM"
          ],
          [
           2
          ]
         ],
         "y": [
          null
         ]
        },
        {
         "marker": {
          "color": "#54A24B"
         },
         "name": "Accuracy",
         "showlegend": false,
         "type": "bar",
         "width": 0.7,
         "x": [
          [
           "green random SVM"
          ],
          [
           2
          ]
         ],
         "y": [
          77.16
         ]
        },
        {
         "marker": {
          "color": "#E45756",
          "line": {
           "color": "rgb(8,48,107)",
           "width": 1.5
          }
         },
         "name": "MeanFmeasure",
         "offset": -0.5,
         "opacity": 0.6,
         "showlegend": false,
         "type": "bar",
         "width": 10,
         "x": [
          [
           "green random SVM"
          ],
          [
           2
          ]
         ],
         "y": [
          null
         ]
        },
        {
         "marker": {
          "color": "#E45756"
         },
         "name": "Fmeasure",
         "showlegend": false,
         "type": "bar",
         "width": 0.7,
         "x": [
          [
           "green random SVM"
          ],
          [
           2
          ]
         ],
         "y": [
          56.461465700000005
         ]
        },
        {
         "marker": {
          "color": "#54A24B",
          "line": {
           "color": "rgb(8,48,107)",
           "width": 1.5
          }
         },
         "name": "MeanAccuracy",
         "offset": -0.5,
         "opacity": 0.6,
         "showlegend": false,
         "type": "bar",
         "width": 10,
         "x": [
          [
           "green random SVM"
          ],
          [
           3
          ]
         ],
         "y": [
          null
         ]
        },
        {
         "marker": {
          "color": "#54A24B"
         },
         "name": "Accuracy",
         "showlegend": false,
         "type": "bar",
         "width": 0.7,
         "x": [
          [
           "green random SVM"
          ],
          [
           3
          ]
         ],
         "y": [
          76.8918
         ]
        },
        {
         "marker": {
          "color": "#E45756",
          "line": {
           "color": "rgb(8,48,107)",
           "width": 1.5
          }
         },
         "name": "MeanFmeasure",
         "offset": -0.5,
         "opacity": 0.6,
         "showlegend": false,
         "type": "bar",
         "width": 10,
         "x": [
          [
           "green random SVM"
          ],
          [
           3
          ]
         ],
         "y": [
          null
         ]
        },
        {
         "marker": {
          "color": "#E45756"
         },
         "name": "Fmeasure",
         "showlegend": false,
         "type": "bar",
         "width": 0.7,
         "x": [
          [
           "green random SVM"
          ],
          [
           3
          ]
         ],
         "y": [
          55.333445700000006
         ]
        },
        {
         "marker": {
          "color": "#54A24B",
          "line": {
           "color": "rgb(8,48,107)",
           "width": 1.5
          }
         },
         "name": "MeanAccuracy",
         "offset": -0.5,
         "opacity": 0.6,
         "showlegend": false,
         "type": "bar",
         "width": 10,
         "x": [
          [
           "green random SVM"
          ],
          [
           4
          ]
         ],
         "y": [
          null
         ]
        },
        {
         "marker": {
          "color": "#54A24B"
         },
         "name": "Accuracy",
         "showlegend": false,
         "type": "bar",
         "width": 0.7,
         "x": [
          [
           "green random SVM"
          ],
          [
           4
          ]
         ],
         "y": [
          74.0714
         ]
        },
        {
         "marker": {
          "color": "#E45756",
          "line": {
           "color": "rgb(8,48,107)",
           "width": 1.5
          }
         },
         "name": "MeanFmeasure",
         "offset": -0.5,
         "opacity": 0.6,
         "showlegend": false,
         "type": "bar",
         "width": 10,
         "x": [
          [
           "green random SVM"
          ],
          [
           4
          ]
         ],
         "y": [
          null
         ]
        },
        {
         "marker": {
          "color": "#E45756"
         },
         "name": "Fmeasure",
         "showlegend": false,
         "type": "bar",
         "width": 0.7,
         "x": [
          [
           "green random SVM"
          ],
          [
           4
          ]
         ],
         "y": [
          57.2617174
         ]
        },
        {
         "marker": {
          "color": "#54A24B",
          "line": {
           "color": "rgb(8,48,107)",
           "width": 1.5
          }
         },
         "name": "MeanAccuracy",
         "offset": -0.5,
         "opacity": 0.6,
         "showlegend": false,
         "type": "bar",
         "width": 10,
         "x": [
          [
           "green random SVM"
          ],
          [
           5
          ]
         ],
         "y": [
          null
         ]
        },
        {
         "marker": {
          "color": "#54A24B"
         },
         "name": "Accuracy",
         "showlegend": false,
         "type": "bar",
         "width": 0.7,
         "x": [
          [
           "green random SVM"
          ],
          [
           5
          ]
         ],
         "y": [
          71.51100000000001
         ]
        },
        {
         "marker": {
          "color": "#E45756",
          "line": {
           "color": "rgb(8,48,107)",
           "width": 1.5
          }
         },
         "name": "MeanFmeasure",
         "offset": -0.5,
         "opacity": 0.6,
         "showlegend": false,
         "type": "bar",
         "width": 10,
         "x": [
          [
           "green random SVM"
          ],
          [
           5
          ]
         ],
         "y": [
          null
         ]
        },
        {
         "marker": {
          "color": "#E45756"
         },
         "name": "Fmeasure",
         "showlegend": false,
         "type": "bar",
         "width": 0.7,
         "x": [
          [
           "green random SVM"
          ],
          [
           5
          ]
         ],
         "y": [
          55.26523320000001
         ]
        },
        {
         "marker": {
          "color": "#54A24B",
          "line": {
           "color": "rgb(8,48,107)",
           "width": 1.5
          }
         },
         "name": "MeanAccuracy",
         "offset": -0.5,
         "opacity": 0.6,
         "showlegend": false,
         "type": "bar",
         "width": 10,
         "x": [
          [
           "green random SVM"
          ],
          [
           6
          ]
         ],
         "y": [
          null
         ]
        },
        {
         "marker": {
          "color": "#54A24B"
         },
         "name": "Accuracy",
         "showlegend": false,
         "type": "bar",
         "width": 0.7,
         "x": [
          [
           "green random SVM"
          ],
          [
           6
          ]
         ],
         "y": [
          21.4582
         ]
        },
        {
         "marker": {
          "color": "#E45756",
          "line": {
           "color": "rgb(8,48,107)",
           "width": 1.5
          }
         },
         "name": "MeanFmeasure",
         "offset": -0.5,
         "opacity": 0.6,
         "showlegend": false,
         "type": "bar",
         "width": 10,
         "x": [
          [
           "green random SVM"
          ],
          [
           6
          ]
         ],
         "y": [
          null
         ]
        },
        {
         "marker": {
          "color": "#E45756"
         },
         "name": "Fmeasure",
         "showlegend": false,
         "type": "bar",
         "width": 0.7,
         "x": [
          [
           "green random SVM"
          ],
          [
           6
          ]
         ],
         "y": [
          32.6387843
         ]
        },
        {
         "marker": {
          "color": "#54A24B",
          "line": {
           "color": "#222A2A",
           "width": 1.5
          },
          "opacity": 0.75,
          "size": 10,
          "symbol": 2
         },
         "mode": "markers",
         "type": "scatter",
         "x": [
          [
           "green random SVM"
          ],
          [
           6
          ]
         ],
         "y": [
          75.304
         ]
        },
        {
         "marker": {
          "color": "#E45756",
          "line": {
           "color": "#222A2A",
           "width": 1.5
          },
          "opacity": 0.75,
          "size": 10,
          "symbol": 2
         },
         "mode": "markers",
         "type": "scatter",
         "x": [
          [
           "green random SVM"
          ],
          [
           6
          ]
         ],
         "y": [
          72.623175
         ]
        },
        {
         "marker": {
          "color": "#54A24B",
          "line": {
           "color": "rgb(8,48,107)",
           "width": 1.5
          }
         },
         "name": "MeanAccuracy",
         "offset": -0.5,
         "opacity": 0.6,
         "showlegend": false,
         "type": "bar",
         "width": 10,
         "x": [
          [
           "green random SVM"
          ],
          [
           7
          ]
         ],
         "y": [
          null
         ]
        },
        {
         "marker": {
          "color": "#54A24B"
         },
         "name": "Accuracy",
         "showlegend": false,
         "type": "bar",
         "width": 0.7,
         "x": [
          [
           "green random SVM"
          ],
          [
           7
          ]
         ],
         "y": [
          76.396
         ]
        },
        {
         "marker": {
          "color": "#E45756",
          "line": {
           "color": "rgb(8,48,107)",
           "width": 1.5
          }
         },
         "name": "MeanFmeasure",
         "offset": -0.5,
         "opacity": 0.6,
         "showlegend": false,
         "type": "bar",
         "width": 10,
         "x": [
          [
           "green random SVM"
          ],
          [
           7
          ]
         ],
         "y": [
          null
         ]
        },
        {
         "marker": {
          "color": "#E45756"
         },
         "name": "Fmeasure",
         "showlegend": false,
         "type": "bar",
         "width": 0.7,
         "x": [
          [
           "green random SVM"
          ],
          [
           7
          ]
         ],
         "y": [
          54.7096623
         ]
        },
        {
         "marker": {
          "color": "#54A24B",
          "line": {
           "color": "rgb(8,48,107)",
           "width": 1.5
          }
         },
         "name": "MeanAccuracy",
         "offset": -0.5,
         "opacity": 0.6,
         "showlegend": false,
         "type": "bar",
         "width": 10,
         "x": [
          [
           "green random SVM"
          ],
          [
           8
          ]
         ],
         "y": [
          null
         ]
        },
        {
         "marker": {
          "color": "#54A24B"
         },
         "name": "Accuracy",
         "showlegend": false,
         "type": "bar",
         "width": 0.7,
         "x": [
          [
           "green random SVM"
          ],
          [
           8
          ]
         ],
         "y": [
          71.6898
         ]
        },
        {
         "marker": {
          "color": "#E45756",
          "line": {
           "color": "rgb(8,48,107)",
           "width": 1.5
          }
         },
         "name": "MeanFmeasure",
         "offset": -0.5,
         "opacity": 0.6,
         "showlegend": false,
         "type": "bar",
         "width": 10,
         "x": [
          [
           "green random SVM"
          ],
          [
           8
          ]
         ],
         "y": [
          null
         ]
        },
        {
         "marker": {
          "color": "#E45756"
         },
         "name": "Fmeasure",
         "showlegend": false,
         "type": "bar",
         "width": 0.7,
         "x": [
          [
           "green random SVM"
          ],
          [
           8
          ]
         ],
         "y": [
          55.8383692
         ]
        },
        {
         "marker": {
          "color": "#54A24B",
          "line": {
           "color": "rgb(8,48,107)",
           "width": 1.5
          }
         },
         "name": "MeanAccuracy",
         "offset": -0.5,
         "opacity": 0.6,
         "showlegend": false,
         "type": "bar",
         "width": 10,
         "x": [
          [
           "green random SVM"
          ],
          [
           9
          ]
         ],
         "y": [
          null
         ]
        },
        {
         "marker": {
          "color": "#54A24B"
         },
         "name": "Accuracy",
         "showlegend": false,
         "type": "bar",
         "width": 0.7,
         "x": [
          [
           "green random SVM"
          ],
          [
           9
          ]
         ],
         "y": [
          73.1448
         ]
        },
        {
         "marker": {
          "color": "#E45756",
          "line": {
           "color": "rgb(8,48,107)",
           "width": 1.5
          }
         },
         "name": "MeanFmeasure",
         "offset": -0.5,
         "opacity": 0.6,
         "showlegend": false,
         "type": "bar",
         "width": 10,
         "x": [
          [
           "green random SVM"
          ],
          [
           9
          ]
         ],
         "y": [
          null
         ]
        },
        {
         "marker": {
          "color": "#E45756"
         },
         "name": "Fmeasure",
         "showlegend": false,
         "type": "bar",
         "width": 0.7,
         "x": [
          [
           "green random SVM"
          ],
          [
           9
          ]
         ],
         "y": [
          56.821776400000005
         ]
        },
        {
         "marker": {
          "color": "#54A24B",
          "line": {
           "color": "rgb(8,48,107)",
           "width": 1.5
          }
         },
         "name": "MeanAccuracy",
         "offset": -0.5,
         "opacity": 0.6,
         "showlegend": false,
         "type": "bar",
         "width": 10,
         "x": [
          [
           "green random SVM"
          ],
          [
           10
          ]
         ],
         "y": [
          null
         ]
        },
        {
         "marker": {
          "color": "#54A24B"
         },
         "name": "Accuracy",
         "showlegend": false,
         "type": "bar",
         "width": 0.7,
         "x": [
          [
           "green random SVM"
          ],
          [
           10
          ]
         ],
         "y": [
          76.2114
         ]
        },
        {
         "marker": {
          "color": "#E45756",
          "line": {
           "color": "rgb(8,48,107)",
           "width": 1.5
          }
         },
         "name": "MeanFmeasure",
         "offset": -0.5,
         "opacity": 0.6,
         "showlegend": false,
         "type": "bar",
         "width": 10,
         "x": [
          [
           "green random SVM"
          ],
          [
           10
          ]
         ],
         "y": [
          null
         ]
        },
        {
         "marker": {
          "color": "#E45756"
         },
         "name": "Fmeasure",
         "showlegend": false,
         "type": "bar",
         "width": 0.7,
         "x": [
          [
           "green random SVM"
          ],
          [
           10
          ]
         ],
         "y": [
          55.09474949999999
         ]
        },
        {
         "marker": {
          "color": "#54A24B",
          "line": {
           "color": "rgb(8,48,107)",
           "width": 1.5
          }
         },
         "name": "MeanAccuracy",
         "offset": -0.5,
         "opacity": 0.6,
         "showlegend": false,
         "type": "bar",
         "width": 10,
         "x": [
          [
           "green smote SVM"
          ],
          [
           1
          ]
         ],
         "y": [
          67.15451633
         ]
        },
        {
         "marker": {
          "color": "#54A24B"
         },
         "name": "Accuracy",
         "showlegend": false,
         "type": "bar",
         "width": 0.7,
         "x": [
          [
           "green smote SVM"
          ],
          [
           1
          ]
         ],
         "y": [
          76.4285
         ]
        },
        {
         "marker": {
          "color": "#E45756",
          "line": {
           "color": "rgb(8,48,107)",
           "width": 1.5
          }
         },
         "name": "MeanFmeasure",
         "offset": -0.5,
         "opacity": 0.6,
         "showlegend": false,
         "type": "bar",
         "width": 10,
         "x": [
          [
           "green smote SVM"
          ],
          [
           1
          ]
         ],
         "y": [
          51.66593954
         ]
        },
        {
         "marker": {
          "color": "#E45756"
         },
         "name": "Fmeasure",
         "showlegend": false,
         "type": "bar",
         "width": 0.7,
         "x": [
          [
           "green smote SVM"
          ],
          [
           1
          ]
         ],
         "y": [
          56.02050820000001
         ]
        },
        {
         "marker": {
          "color": "#54A24B",
          "line": {
           "color": "rgb(8,48,107)",
           "width": 1.5
          }
         },
         "name": "MeanAccuracy",
         "offset": -0.5,
         "opacity": 0.6,
         "showlegend": false,
         "type": "bar",
         "width": 10,
         "x": [
          [
           "green smote SVM"
          ],
          [
           2
          ]
         ],
         "y": [
          null
         ]
        },
        {
         "marker": {
          "color": "#54A24B"
         },
         "name": "Accuracy",
         "showlegend": false,
         "type": "bar",
         "width": 0.7,
         "x": [
          [
           "green smote SVM"
          ],
          [
           2
          ]
         ],
         "y": [
          77.3876
         ]
        },
        {
         "marker": {
          "color": "#E45756",
          "line": {
           "color": "rgb(8,48,107)",
           "width": 1.5
          }
         },
         "name": "MeanFmeasure",
         "offset": -0.5,
         "opacity": 0.6,
         "showlegend": false,
         "type": "bar",
         "width": 10,
         "x": [
          [
           "green smote SVM"
          ],
          [
           2
          ]
         ],
         "y": [
          null
         ]
        },
        {
         "marker": {
          "color": "#E45756"
         },
         "name": "Fmeasure",
         "showlegend": false,
         "type": "bar",
         "width": 0.7,
         "x": [
          [
           "green smote SVM"
          ],
          [
           2
          ]
         ],
         "y": [
          56.3813502
         ]
        },
        {
         "marker": {
          "color": "#54A24B",
          "line": {
           "color": "rgb(8,48,107)",
           "width": 1.5
          }
         },
         "name": "MeanAccuracy",
         "offset": -0.5,
         "opacity": 0.6,
         "showlegend": false,
         "type": "bar",
         "width": 10,
         "x": [
          [
           "green smote SVM"
          ],
          [
           3
          ]
         ],
         "y": [
          null
         ]
        },
        {
         "marker": {
          "color": "#54A24B"
         },
         "name": "Accuracy",
         "showlegend": false,
         "type": "bar",
         "width": 0.7,
         "x": [
          [
           "green smote SVM"
          ],
          [
           3
          ]
         ],
         "y": [
          80.5657
         ]
        },
        {
         "marker": {
          "color": "#E45756",
          "line": {
           "color": "rgb(8,48,107)",
           "width": 1.5
          }
         },
         "name": "MeanFmeasure",
         "offset": -0.5,
         "opacity": 0.6,
         "showlegend": false,
         "type": "bar",
         "width": 10,
         "x": [
          [
           "green smote SVM"
          ],
          [
           3
          ]
         ],
         "y": [
          null
         ]
        },
        {
         "marker": {
          "color": "#E45756"
         },
         "name": "Fmeasure",
         "showlegend": false,
         "type": "bar",
         "width": 0.7,
         "x": [
          [
           "green smote SVM"
          ],
          [
           3
          ]
         ],
         "y": [
          38.676132700000004
         ]
        },
        {
         "marker": {
          "color": "#54A24B",
          "line": {
           "color": "rgb(8,48,107)",
           "width": 1.5
          }
         },
         "name": "MeanAccuracy",
         "offset": -0.5,
         "opacity": 0.6,
         "showlegend": false,
         "type": "bar",
         "width": 10,
         "x": [
          [
           "green smote SVM"
          ],
          [
           4
          ]
         ],
         "y": [
          null
         ]
        },
        {
         "marker": {
          "color": "#54A24B"
         },
         "name": "Accuracy",
         "showlegend": false,
         "type": "bar",
         "width": 0.7,
         "x": [
          [
           "green smote SVM"
          ],
          [
           4
          ]
         ],
         "y": [
          77.4039
         ]
        },
        {
         "marker": {
          "color": "#E45756",
          "line": {
           "color": "rgb(8,48,107)",
           "width": 1.5
          }
         },
         "name": "MeanFmeasure",
         "offset": -0.5,
         "opacity": 0.6,
         "showlegend": false,
         "type": "bar",
         "width": 10,
         "x": [
          [
           "green smote SVM"
          ],
          [
           4
          ]
         ],
         "y": [
          null
         ]
        },
        {
         "marker": {
          "color": "#E45756"
         },
         "name": "Fmeasure",
         "showlegend": false,
         "type": "bar",
         "width": 0.7,
         "x": [
          [
           "green smote SVM"
          ],
          [
           4
          ]
         ],
         "y": [
          56.15135
         ]
        },
        {
         "marker": {
          "color": "#54A24B",
          "line": {
           "color": "rgb(8,48,107)",
           "width": 1.5
          }
         },
         "name": "MeanAccuracy",
         "offset": -0.5,
         "opacity": 0.6,
         "showlegend": false,
         "type": "bar",
         "width": 10,
         "x": [
          [
           "green smote SVM"
          ],
          [
           5
          ]
         ],
         "y": [
          null
         ]
        },
        {
         "marker": {
          "color": "#54A24B"
         },
         "name": "Accuracy",
         "showlegend": false,
         "type": "bar",
         "width": 0.7,
         "x": [
          [
           "green smote SVM"
          ],
          [
           5
          ]
         ],
         "y": [
          76.1196
         ]
        },
        {
         "marker": {
          "color": "#E45756",
          "line": {
           "color": "rgb(8,48,107)",
           "width": 1.5
          }
         },
         "name": "MeanFmeasure",
         "offset": -0.5,
         "opacity": 0.6,
         "showlegend": false,
         "type": "bar",
         "width": 10,
         "x": [
          [
           "green smote SVM"
          ],
          [
           5
          ]
         ],
         "y": [
          null
         ]
        },
        {
         "marker": {
          "color": "#E45756"
         },
         "name": "Fmeasure",
         "showlegend": false,
         "type": "bar",
         "width": 0.7,
         "x": [
          [
           "green smote SVM"
          ],
          [
           5
          ]
         ],
         "y": [
          55.0763337
         ]
        },
        {
         "marker": {
          "color": "#54A24B",
          "line": {
           "color": "rgb(8,48,107)",
           "width": 1.5
          }
         },
         "name": "MeanAccuracy",
         "offset": -0.5,
         "opacity": 0.6,
         "showlegend": false,
         "type": "bar",
         "width": 10,
         "x": [
          [
           "green smote SVM"
          ],
          [
           6
          ]
         ],
         "y": [
          null
         ]
        },
        {
         "marker": {
          "color": "#54A24B"
         },
         "name": "Accuracy",
         "showlegend": false,
         "type": "bar",
         "width": 0.7,
         "x": [
          [
           "green smote SVM"
          ],
          [
           6
          ]
         ],
         "y": [
          19.1335
         ]
        },
        {
         "marker": {
          "color": "#E45756",
          "line": {
           "color": "rgb(8,48,107)",
           "width": 1.5
          }
         },
         "name": "MeanFmeasure",
         "offset": -0.5,
         "opacity": 0.6,
         "showlegend": false,
         "type": "bar",
         "width": 10,
         "x": [
          [
           "green smote SVM"
          ],
          [
           6
          ]
         ],
         "y": [
          null
         ]
        },
        {
         "marker": {
          "color": "#E45756"
         },
         "name": "Fmeasure",
         "showlegend": false,
         "type": "bar",
         "width": 0.7,
         "x": [
          [
           "green smote SVM"
          ],
          [
           6
          ]
         ],
         "y": [
          32.0005376
         ]
        },
        {
         "marker": {
          "color": "#54A24B",
          "line": {
           "color": "#222A2A",
           "width": 1.5
          },
          "opacity": 0.75,
          "size": 10,
          "symbol": 2
         },
         "mode": "markers",
         "type": "scatter",
         "x": [
          [
           "green smote SVM"
          ],
          [
           6
          ]
         ],
         "y": [
          77.9437
         ]
        },
        {
         "marker": {
          "color": "#E45756",
          "line": {
           "color": "#222A2A",
           "width": 1.5
          },
          "opacity": 0.75,
          "size": 10,
          "symbol": 2
         },
         "mode": "markers",
         "type": "scatter",
         "x": [
          [
           "green smote SVM"
          ],
          [
           6
          ]
         ],
         "y": [
          67.425069
         ]
        },
        {
         "marker": {
          "color": "#54A24B",
          "line": {
           "color": "rgb(8,48,107)",
           "width": 1.5
          }
         },
         "name": "MeanAccuracy",
         "offset": -0.5,
         "opacity": 0.6,
         "showlegend": false,
         "type": "bar",
         "width": 10,
         "x": [
          [
           "green smote SVM"
          ],
          [
           7
          ]
         ],
         "y": [
          null
         ]
        },
        {
         "marker": {
          "color": "#54A24B"
         },
         "name": "Accuracy",
         "showlegend": false,
         "type": "bar",
         "width": 0.7,
         "x": [
          [
           "green smote SVM"
          ],
          [
           7
          ]
         ],
         "y": [
          76.4935
         ]
        },
        {
         "marker": {
          "color": "#E45756",
          "line": {
           "color": "rgb(8,48,107)",
           "width": 1.5
          }
         },
         "name": "MeanFmeasure",
         "offset": -0.5,
         "opacity": 0.6,
         "showlegend": false,
         "type": "bar",
         "width": 10,
         "x": [
          [
           "green smote SVM"
          ],
          [
           7
          ]
         ],
         "y": [
          null
         ]
        },
        {
         "marker": {
          "color": "#E45756"
         },
         "name": "Fmeasure",
         "showlegend": false,
         "type": "bar",
         "width": 0.7,
         "x": [
          [
           "green smote SVM"
          ],
          [
           7
          ]
         ],
         "y": [
          54.86891189999999
         ]
        },
        {
         "marker": {
          "color": "#54A24B",
          "line": {
           "color": "rgb(8,48,107)",
           "width": 1.5
          }
         },
         "name": "MeanAccuracy",
         "offset": -0.5,
         "opacity": 0.6,
         "showlegend": false,
         "type": "bar",
         "width": 10,
         "x": [
          [
           "green smote SVM"
          ],
          [
           8
          ]
         ],
         "y": [
          null
         ]
        },
        {
         "marker": {
          "color": "#54A24B"
         },
         "name": "Accuracy",
         "showlegend": false,
         "type": "bar",
         "width": 0.7,
         "x": [
          [
           "green smote SVM"
          ],
          [
           8
          ]
         ],
         "y": [
          77.3551
         ]
        },
        {
         "marker": {
          "color": "#E45756",
          "line": {
           "color": "rgb(8,48,107)",
           "width": 1.5
          }
         },
         "name": "MeanFmeasure",
         "offset": -0.5,
         "opacity": 0.6,
         "showlegend": false,
         "type": "bar",
         "width": 10,
         "x": [
          [
           "green smote SVM"
          ],
          [
           8
          ]
         ],
         "y": [
          null
         ]
        },
        {
         "marker": {
          "color": "#E45756"
         },
         "name": "Fmeasure",
         "showlegend": false,
         "type": "bar",
         "width": 0.7,
         "x": [
          [
           "green smote SVM"
          ],
          [
           8
          ]
         ],
         "y": [
          57.05951
         ]
        },
        {
         "marker": {
          "color": "#54A24B",
          "line": {
           "color": "rgb(8,48,107)",
           "width": 1.5
          }
         },
         "name": "MeanAccuracy",
         "offset": -0.5,
         "opacity": 0.6,
         "showlegend": false,
         "type": "bar",
         "width": 10,
         "x": [
          [
           "green smote SVM"
          ],
          [
           9
          ]
         ],
         "y": [
          null
         ]
        },
        {
         "marker": {
          "color": "#54A24B"
         },
         "name": "Accuracy",
         "showlegend": false,
         "type": "bar",
         "width": 0.7,
         "x": [
          [
           "green smote SVM"
          ],
          [
           9
          ]
         ],
         "y": [
          76.5261
         ]
        },
        {
         "marker": {
          "color": "#E45756",
          "line": {
           "color": "rgb(8,48,107)",
           "width": 1.5
          }
         },
         "name": "MeanFmeasure",
         "offset": -0.5,
         "opacity": 0.6,
         "showlegend": false,
         "type": "bar",
         "width": 10,
         "x": [
          [
           "green smote SVM"
          ],
          [
           9
          ]
         ],
         "y": [
          null
         ]
        },
        {
         "marker": {
          "color": "#E45756"
         },
         "name": "Fmeasure",
         "showlegend": false,
         "type": "bar",
         "width": 0.7,
         "x": [
          [
           "green smote SVM"
          ],
          [
           9
          ]
         ],
         "y": [
          55.3357609
         ]
        },
        {
         "marker": {
          "color": "#54A24B",
          "line": {
           "color": "rgb(8,48,107)",
           "width": 1.5
          }
         },
         "name": "MeanAccuracy",
         "offset": -0.5,
         "opacity": 0.6,
         "showlegend": false,
         "type": "bar",
         "width": 10,
         "x": [
          [
           "green smote SVM"
          ],
          [
           10
          ]
         ],
         "y": [
          null
         ]
        },
        {
         "marker": {
          "color": "#54A24B"
         },
         "name": "Accuracy",
         "showlegend": false,
         "type": "bar",
         "width": 0.7,
         "x": [
          [
           "green smote SVM"
          ],
          [
           10
          ]
         ],
         "y": [
          76.6829
         ]
        },
        {
         "marker": {
          "color": "#E45756",
          "line": {
           "color": "rgb(8,48,107)",
           "width": 1.5
          }
         },
         "name": "MeanFmeasure",
         "offset": -0.5,
         "opacity": 0.6,
         "showlegend": false,
         "type": "bar",
         "width": 10,
         "x": [
          [
           "green smote SVM"
          ],
          [
           10
          ]
         ],
         "y": [
          null
         ]
        },
        {
         "marker": {
          "color": "#E45756"
         },
         "name": "Fmeasure",
         "showlegend": false,
         "type": "bar",
         "width": 0.7,
         "x": [
          [
           "green smote SVM"
          ],
          [
           10
          ]
         ],
         "y": [
          55.0890002
         ]
        },
        {
         "marker": {
          "color": "#54A24B",
          "line": {
           "color": "rgb(8,48,107)",
           "width": 1.5
          }
         },
         "name": "MeanAccuracy",
         "offset": -0.5,
         "opacity": 0.6,
         "showlegend": false,
         "type": "bar",
         "width": 10,
         "x": [
          [
           "green smote tree"
          ],
          [
           1
          ]
         ],
         "y": [
          73.64797474
         ]
        },
        {
         "marker": {
          "color": "#54A24B"
         },
         "name": "Accuracy",
         "showlegend": false,
         "type": "bar",
         "width": 0.7,
         "x": [
          [
           "green smote tree"
          ],
          [
           1
          ]
         ],
         "y": [
          79.6635
         ]
        },
        {
         "marker": {
          "color": "#E45756",
          "line": {
           "color": "rgb(8,48,107)",
           "width": 1.5
          }
         },
         "name": "MeanFmeasure",
         "offset": -0.5,
         "opacity": 0.6,
         "showlegend": false,
         "type": "bar",
         "width": 10,
         "x": [
          [
           "green smote tree"
          ],
          [
           1
          ]
         ],
         "y": [
          33.07811182
         ]
        },
        {
         "marker": {
          "color": "#E45756"
         },
         "name": "Fmeasure",
         "showlegend": false,
         "type": "bar",
         "width": 0.7,
         "x": [
          [
           "green smote tree"
          ],
          [
           1
          ]
         ],
         "y": [
          22.4421577
         ]
        },
        {
         "marker": {
          "color": "#54A24B",
          "line": {
           "color": "rgb(8,48,107)",
           "width": 1.5
          }
         },
         "name": "MeanAccuracy",
         "offset": -0.5,
         "opacity": 0.6,
         "showlegend": false,
         "type": "bar",
         "width": 10,
         "x": [
          [
           "green smote tree"
          ],
          [
           2
          ]
         ],
         "y": [
          null
         ]
        },
        {
         "marker": {
          "color": "#54A24B"
         },
         "name": "Accuracy",
         "showlegend": false,
         "type": "bar",
         "width": 0.7,
         "x": [
          [
           "green smote tree"
          ],
          [
           2
          ]
         ],
         "y": [
          72.8196
         ]
        },
        {
         "marker": {
          "color": "#E45756",
          "line": {
           "color": "rgb(8,48,107)",
           "width": 1.5
          }
         },
         "name": "MeanFmeasure",
         "offset": -0.5,
         "opacity": 0.6,
         "showlegend": false,
         "type": "bar",
         "width": 10,
         "x": [
          [
           "green smote tree"
          ],
          [
           2
          ]
         ],
         "y": [
          null
         ]
        },
        {
         "marker": {
          "color": "#E45756"
         },
         "name": "Fmeasure",
         "showlegend": false,
         "type": "bar",
         "width": 0.7,
         "x": [
          [
           "green smote tree"
          ],
          [
           2
          ]
         ],
         "y": [
          21.978794699999998
         ]
        },
        {
         "marker": {
          "color": "#54A24B",
          "line": {
           "color": "rgb(8,48,107)",
           "width": 1.5
          }
         },
         "name": "MeanAccuracy",
         "offset": -0.5,
         "opacity": 0.6,
         "showlegend": false,
         "type": "bar",
         "width": 10,
         "x": [
          [
           "green smote tree"
          ],
          [
           3
          ]
         ],
         "y": [
          null
         ]
        },
        {
         "marker": {
          "color": "#54A24B"
         },
         "name": "Accuracy",
         "showlegend": false,
         "type": "bar",
         "width": 0.7,
         "x": [
          [
           "green smote tree"
          ],
          [
           3
          ]
         ],
         "y": [
          64.277
         ]
        },
        {
         "marker": {
          "color": "#E45756",
          "line": {
           "color": "rgb(8,48,107)",
           "width": 1.5
          }
         },
         "name": "MeanFmeasure",
         "offset": -0.5,
         "opacity": 0.6,
         "showlegend": false,
         "type": "bar",
         "width": 10,
         "x": [
          [
           "green smote tree"
          ],
          [
           3
          ]
         ],
         "y": [
          null
         ]
        },
        {
         "marker": {
          "color": "#E45756"
         },
         "name": "Fmeasure",
         "showlegend": false,
         "type": "bar",
         "width": 0.7,
         "x": [
          [
           "green smote tree"
          ],
          [
           3
          ]
         ],
         "y": [
          34.373320299999996
         ]
        },
        {
         "marker": {
          "color": "#54A24B",
          "line": {
           "color": "rgb(8,48,107)",
           "width": 1.5
          }
         },
         "name": "MeanAccuracy",
         "offset": -0.5,
         "opacity": 0.6,
         "showlegend": false,
         "type": "bar",
         "width": 10,
         "x": [
          [
           "green smote tree"
          ],
          [
           4
          ]
         ],
         "y": [
          null
         ]
        },
        {
         "marker": {
          "color": "#54A24B"
         },
         "name": "Accuracy",
         "showlegend": false,
         "type": "bar",
         "width": 0.7,
         "x": [
          [
           "green smote tree"
          ],
          [
           4
          ]
         ],
         "y": [
          66.9999
         ]
        },
        {
         "marker": {
          "color": "#E45756",
          "line": {
           "color": "rgb(8,48,107)",
           "width": 1.5
          }
         },
         "name": "MeanFmeasure",
         "offset": -0.5,
         "opacity": 0.6,
         "showlegend": false,
         "type": "bar",
         "width": 10,
         "x": [
          [
           "green smote tree"
          ],
          [
           4
          ]
         ],
         "y": [
          null
         ]
        },
        {
         "marker": {
          "color": "#E45756"
         },
         "name": "Fmeasure",
         "showlegend": false,
         "type": "bar",
         "width": 0.7,
         "x": [
          [
           "green smote tree"
          ],
          [
           4
          ]
         ],
         "y": [
          30.0478886
         ]
        },
        {
         "marker": {
          "color": "#54A24B",
          "line": {
           "color": "rgb(8,48,107)",
           "width": 1.5
          }
         },
         "name": "MeanAccuracy",
         "offset": -0.5,
         "opacity": 0.6,
         "showlegend": false,
         "type": "bar",
         "width": 10,
         "x": [
          [
           "green smote tree"
          ],
          [
           5
          ]
         ],
         "y": [
          null
         ]
        },
        {
         "marker": {
          "color": "#54A24B"
         },
         "name": "Accuracy",
         "showlegend": false,
         "type": "bar",
         "width": 0.7,
         "x": [
          [
           "green smote tree"
          ],
          [
           5
          ]
         ],
         "y": [
          80.0293
         ]
        },
        {
         "marker": {
          "color": "#E45756",
          "line": {
           "color": "rgb(8,48,107)",
           "width": 1.5
          }
         },
         "name": "MeanFmeasure",
         "offset": -0.5,
         "opacity": 0.6,
         "showlegend": false,
         "type": "bar",
         "width": 10,
         "x": [
          [
           "green smote tree"
          ],
          [
           5
          ]
         ],
         "y": [
          null
         ]
        },
        {
         "marker": {
          "color": "#E45756"
         },
         "name": "Fmeasure",
         "showlegend": false,
         "type": "bar",
         "width": 0.7,
         "x": [
          [
           "green smote tree"
          ],
          [
           5
          ]
         ],
         "y": [
          44.922473000000004
         ]
        },
        {
         "marker": {
          "color": "#54A24B",
          "line": {
           "color": "rgb(8,48,107)",
           "width": 1.5
          }
         },
         "name": "MeanAccuracy",
         "offset": -0.5,
         "opacity": 0.6,
         "showlegend": false,
         "type": "bar",
         "width": 10,
         "x": [
          [
           "green smote tree"
          ],
          [
           6
          ]
         ],
         "y": [
          null
         ]
        },
        {
         "marker": {
          "color": "#54A24B"
         },
         "name": "Accuracy",
         "showlegend": false,
         "type": "bar",
         "width": 0.7,
         "x": [
          [
           "green smote tree"
          ],
          [
           6
          ]
         ],
         "y": [
          60.8226
         ]
        },
        {
         "marker": {
          "color": "#E45756",
          "line": {
           "color": "rgb(8,48,107)",
           "width": 1.5
          }
         },
         "name": "MeanFmeasure",
         "offset": -0.5,
         "opacity": 0.6,
         "showlegend": false,
         "type": "bar",
         "width": 10,
         "x": [
          [
           "green smote tree"
          ],
          [
           6
          ]
         ],
         "y": [
          null
         ]
        },
        {
         "marker": {
          "color": "#E45756"
         },
         "name": "Fmeasure",
         "showlegend": false,
         "type": "bar",
         "width": 0.7,
         "x": [
          [
           "green smote tree"
          ],
          [
           6
          ]
         ],
         "y": [
          35.9380473
         ]
        },
        {
         "marker": {
          "color": "#54A24B",
          "line": {
           "color": "#222A2A",
           "width": 1.5
          },
          "opacity": 0.75,
          "size": 10,
          "symbol": 2
         },
         "mode": "markers",
         "type": "scatter",
         "x": [
          [
           "green smote tree"
          ],
          [
           6
          ]
         ],
         "y": [
          80.3789
         ]
        },
        {
         "marker": {
          "color": "#E45756",
          "line": {
           "color": "#222A2A",
           "width": 1.5
          },
          "opacity": 0.75,
          "size": 10,
          "symbol": 2
         },
         "mode": "markers",
         "type": "scatter",
         "x": [
          [
           "green smote tree"
          ],
          [
           6
          ]
         ],
         "y": [
          37.043984
         ]
        },
        {
         "marker": {
          "color": "#54A24B",
          "line": {
           "color": "rgb(8,48,107)",
           "width": 1.5
          }
         },
         "name": "MeanAccuracy",
         "offset": -0.5,
         "opacity": 0.6,
         "showlegend": false,
         "type": "bar",
         "width": 10,
         "x": [
          [
           "green smote tree"
          ],
          [
           7
          ]
         ],
         "y": [
          null
         ]
        },
        {
         "marker": {
          "color": "#54A24B"
         },
         "name": "Accuracy",
         "showlegend": false,
         "type": "bar",
         "width": 0.7,
         "x": [
          [
           "green smote tree"
          ],
          [
           7
          ]
         ],
         "y": [
          80.3463
         ]
        },
        {
         "marker": {
          "color": "#E45756",
          "line": {
           "color": "rgb(8,48,107)",
           "width": 1.5
          }
         },
         "name": "MeanFmeasure",
         "offset": -0.5,
         "opacity": 0.6,
         "showlegend": false,
         "type": "bar",
         "width": 10,
         "x": [
          [
           "green smote tree"
          ],
          [
           7
          ]
         ],
         "y": [
          null
         ]
        },
        {
         "marker": {
          "color": "#E45756"
         },
         "name": "Fmeasure",
         "showlegend": false,
         "type": "bar",
         "width": 0.7,
         "x": [
          [
           "green smote tree"
          ],
          [
           7
          ]
         ],
         "y": [
          33.241831899999994
         ]
        },
        {
         "marker": {
          "color": "#54A24B",
          "line": {
           "color": "rgb(8,48,107)",
           "width": 1.5
          }
         },
         "name": "MeanAccuracy",
         "offset": -0.5,
         "opacity": 0.6,
         "showlegend": false,
         "type": "bar",
         "width": 10,
         "x": [
          [
           "green smote tree"
          ],
          [
           8
          ]
         ],
         "y": [
          null
         ]
        },
        {
         "marker": {
          "color": "#54A24B"
         },
         "name": "Accuracy",
         "showlegend": false,
         "type": "bar",
         "width": 0.7,
         "x": [
          [
           "green smote tree"
          ],
          [
           8
          ]
         ],
         "y": [
          79.4603
         ]
        },
        {
         "marker": {
          "color": "#E45756",
          "line": {
           "color": "rgb(8,48,107)",
           "width": 1.5
          }
         },
         "name": "MeanFmeasure",
         "offset": -0.5,
         "opacity": 0.6,
         "showlegend": false,
         "type": "bar",
         "width": 10,
         "x": [
          [
           "green smote tree"
          ],
          [
           8
          ]
         ],
         "y": [
          null
         ]
        },
        {
         "marker": {
          "color": "#E45756"
         },
         "name": "Fmeasure",
         "showlegend": false,
         "type": "bar",
         "width": 0.7,
         "x": [
          [
           "green smote tree"
          ],
          [
           8
          ]
         ],
         "y": [
          26.647292
         ]
        },
        {
         "marker": {
          "color": "#54A24B",
          "line": {
           "color": "rgb(8,48,107)",
           "width": 1.5
          }
         },
         "name": "MeanAccuracy",
         "offset": -0.5,
         "opacity": 0.6,
         "showlegend": false,
         "type": "bar",
         "width": 10,
         "x": [
          [
           "green smote tree"
          ],
          [
           9
          ]
         ],
         "y": [
          null
         ]
        },
        {
         "marker": {
          "color": "#54A24B"
         },
         "name": "Accuracy",
         "showlegend": false,
         "type": "bar",
         "width": 0.7,
         "x": [
          [
           "green smote tree"
          ],
          [
           9
          ]
         ],
         "y": [
          77.5177
         ]
        },
        {
         "marker": {
          "color": "#E45756",
          "line": {
           "color": "rgb(8,48,107)",
           "width": 1.5
          }
         },
         "name": "MeanFmeasure",
         "offset": -0.5,
         "opacity": 0.6,
         "showlegend": false,
         "type": "bar",
         "width": 10,
         "x": [
          [
           "green smote tree"
          ],
          [
           9
          ]
         ],
         "y": [
          null
         ]
        },
        {
         "marker": {
          "color": "#E45756"
         },
         "name": "Fmeasure",
         "showlegend": false,
         "type": "bar",
         "width": 0.7,
         "x": [
          [
           "green smote tree"
          ],
          [
           9
          ]
         ],
         "y": [
          45.486918200000005
         ]
        },
        {
         "marker": {
          "color": "#54A24B",
          "line": {
           "color": "rgb(8,48,107)",
           "width": 1.5
          }
         },
         "name": "MeanAccuracy",
         "offset": -0.5,
         "opacity": 0.6,
         "showlegend": false,
         "type": "bar",
         "width": 10,
         "x": [
          [
           "green smote tree"
          ],
          [
           10
          ]
         ],
         "y": [
          null
         ]
        },
        {
         "marker": {
          "color": "#54A24B"
         },
         "name": "Accuracy",
         "showlegend": false,
         "type": "bar",
         "width": 0.7,
         "x": [
          [
           "green smote tree"
          ],
          [
           10
          ]
         ],
         "y": [
          78.0081
         ]
        },
        {
         "marker": {
          "color": "#E45756",
          "line": {
           "color": "rgb(8,48,107)",
           "width": 1.5
          }
         },
         "name": "MeanFmeasure",
         "offset": -0.5,
         "opacity": 0.6,
         "showlegend": false,
         "type": "bar",
         "width": 10,
         "x": [
          [
           "green smote tree"
          ],
          [
           10
          ]
         ],
         "y": [
          null
         ]
        },
        {
         "marker": {
          "color": "#E45756"
         },
         "name": "Fmeasure",
         "showlegend": false,
         "type": "bar",
         "width": 0.7,
         "x": [
          [
           "green smote tree"
          ],
          [
           10
          ]
         ],
         "y": [
          35.702394500000004
         ]
        },
        {
         "marker": {
          "color": "#4C78A8",
          "line": {
           "color": "rgb(8,48,107)",
           "width": 1.5
          }
         },
         "name": "MeanAccuracy",
         "offset": -0.5,
         "opacity": 0.6,
         "showlegend": false,
         "type": "bar",
         "width": 10,
         "x": [
          [
           "blue smote SVM"
          ],
          [
           1
          ]
         ],
         "y": [
          67.07253751
         ]
        },
        {
         "marker": {
          "color": "#4C78A8"
         },
         "name": "Accuracy",
         "showlegend": false,
         "type": "bar",
         "width": 0.7,
         "x": [
          [
           "blue smote SVM"
          ],
          [
           1
          ]
         ],
         "y": [
          76.4204
         ]
        },
        {
         "marker": {
          "color": "#E45756",
          "line": {
           "color": "rgb(8,48,107)",
           "width": 1.5
          }
         },
         "name": "MeanFmeasure",
         "offset": -0.5,
         "opacity": 0.6,
         "showlegend": false,
         "type": "bar",
         "width": 10,
         "x": [
          [
           "blue smote SVM"
          ],
          [
           1
          ]
         ],
         "y": [
          48.14122575
         ]
        },
        {
         "marker": {
          "color": "#E45756"
         },
         "name": "Fmeasure",
         "showlegend": false,
         "type": "bar",
         "width": 0.7,
         "x": [
          [
           "blue smote SVM"
          ],
          [
           1
          ]
         ],
         "y": [
          55.3758505
         ]
        },
        {
         "marker": {
          "color": "#4C78A8",
          "line": {
           "color": "rgb(8,48,107)",
           "width": 1.5
          }
         },
         "name": "MeanAccuracy",
         "offset": -0.5,
         "opacity": 0.6,
         "showlegend": false,
         "type": "bar",
         "width": 10,
         "x": [
          [
           "blue smote SVM"
          ],
          [
           2
          ]
         ],
         "y": [
          null
         ]
        },
        {
         "marker": {
          "color": "#4C78A8"
         },
         "name": "Accuracy",
         "showlegend": false,
         "type": "bar",
         "width": 0.7,
         "x": [
          [
           "blue smote SVM"
          ],
          [
           2
          ]
         ],
         "y": [
          77.1438
         ]
        },
        {
         "marker": {
          "color": "#E45756",
          "line": {
           "color": "rgb(8,48,107)",
           "width": 1.5
          }
         },
         "name": "MeanFmeasure",
         "offset": -0.5,
         "opacity": 0.6,
         "showlegend": false,
         "type": "bar",
         "width": 10,
         "x": [
          [
           "blue smote SVM"
          ],
          [
           2
          ]
         ],
         "y": [
          null
         ]
        },
        {
         "marker": {
          "color": "#E45756"
         },
         "name": "Fmeasure",
         "showlegend": false,
         "type": "bar",
         "width": 0.7,
         "x": [
          [
           "blue smote SVM"
          ],
          [
           2
          ]
         ],
         "y": [
          56.7116324
         ]
        },
        {
         "marker": {
          "color": "#4C78A8",
          "line": {
           "color": "rgb(8,48,107)",
           "width": 1.5
          }
         },
         "name": "MeanAccuracy",
         "offset": -0.5,
         "opacity": 0.6,
         "showlegend": false,
         "type": "bar",
         "width": 10,
         "x": [
          [
           "blue smote SVM"
          ],
          [
           3
          ]
         ],
         "y": [
          null
         ]
        },
        {
         "marker": {
          "color": "#4C78A8"
         },
         "name": "Accuracy",
         "showlegend": false,
         "type": "bar",
         "width": 0.7,
         "x": [
          [
           "blue smote SVM"
          ],
          [
           3
          ]
         ],
         "y": [
          80.9721
         ]
        },
        {
         "marker": {
          "color": "#E45756",
          "line": {
           "color": "rgb(8,48,107)",
           "width": 1.5
          }
         },
         "name": "MeanFmeasure",
         "offset": -0.5,
         "opacity": 0.6,
         "showlegend": false,
         "type": "bar",
         "width": 10,
         "x": [
          [
           "blue smote SVM"
          ],
          [
           3
          ]
         ],
         "y": [
          null
         ]
        },
        {
         "marker": {
          "color": "#E45756"
         },
         "name": "Fmeasure",
         "showlegend": false,
         "type": "bar",
         "width": 0.7,
         "x": [
          [
           "blue smote SVM"
          ],
          [
           3
          ]
         ],
         "y": [
          0
         ]
        },
        {
         "marker": {
          "color": "#4C78A8",
          "line": {
           "color": "rgb(8,48,107)",
           "width": 1.5
          }
         },
         "name": "MeanAccuracy",
         "offset": -0.5,
         "opacity": 0.6,
         "showlegend": false,
         "type": "bar",
         "width": 10,
         "x": [
          [
           "blue smote SVM"
          ],
          [
           4
          ]
         ],
         "y": [
          null
         ]
        },
        {
         "marker": {
          "color": "#4C78A8"
         },
         "name": "Accuracy",
         "showlegend": false,
         "type": "bar",
         "width": 0.7,
         "x": [
          [
           "blue smote SVM"
          ],
          [
           4
          ]
         ],
         "y": [
          76.7699
         ]
        },
        {
         "marker": {
          "color": "#E45756",
          "line": {
           "color": "rgb(8,48,107)",
           "width": 1.5
          }
         },
         "name": "MeanFmeasure",
         "offset": -0.5,
         "opacity": 0.6,
         "showlegend": false,
         "type": "bar",
         "width": 10,
         "x": [
          [
           "blue smote SVM"
          ],
          [
           4
          ]
         ],
         "y": [
          null
         ]
        },
        {
         "marker": {
          "color": "#E45756"
         },
         "name": "Fmeasure",
         "showlegend": false,
         "type": "bar",
         "width": 0.7,
         "x": [
          [
           "blue smote SVM"
          ],
          [
           4
          ]
         ],
         "y": [
          57.4067026
         ]
        },
        {
         "marker": {
          "color": "#4C78A8",
          "line": {
           "color": "rgb(8,48,107)",
           "width": 1.5
          }
         },
         "name": "MeanAccuracy",
         "offset": -0.5,
         "opacity": 0.6,
         "showlegend": false,
         "type": "bar",
         "width": 10,
         "x": [
          [
           "blue smote SVM"
          ],
          [
           5
          ]
         ],
         "y": [
          null
         ]
        },
        {
         "marker": {
          "color": "#4C78A8"
         },
         "name": "Accuracy",
         "showlegend": false,
         "type": "bar",
         "width": 0.7,
         "x": [
          [
           "blue smote SVM"
          ],
          [
           5
          ]
         ],
         "y": [
          76.2009
         ]
        },
        {
         "marker": {
          "color": "#E45756",
          "line": {
           "color": "rgb(8,48,107)",
           "width": 1.5
          }
         },
         "name": "MeanFmeasure",
         "offset": -0.5,
         "opacity": 0.6,
         "showlegend": false,
         "type": "bar",
         "width": 10,
         "x": [
          [
           "blue smote SVM"
          ],
          [
           5
          ]
         ],
         "y": [
          null
         ]
        },
        {
         "marker": {
          "color": "#E45756"
         },
         "name": "Fmeasure",
         "showlegend": false,
         "type": "bar",
         "width": 0.7,
         "x": [
          [
           "blue smote SVM"
          ],
          [
           5
          ]
         ],
         "y": [
          55.6499141
         ]
        },
        {
         "marker": {
          "color": "#4C78A8",
          "line": {
           "color": "rgb(8,48,107)",
           "width": 1.5
          }
         },
         "name": "MeanAccuracy",
         "offset": -0.5,
         "opacity": 0.6,
         "showlegend": false,
         "type": "bar",
         "width": 10,
         "x": [
          [
           "blue smote SVM"
          ],
          [
           6
          ]
         ],
         "y": [
          null
         ]
        },
        {
         "marker": {
          "color": "#4C78A8"
         },
         "name": "Accuracy",
         "showlegend": false,
         "type": "bar",
         "width": 0.7,
         "x": [
          [
           "blue smote SVM"
          ],
          [
           6
          ]
         ],
         "y": [
          19.0766
         ]
        },
        {
         "marker": {
          "color": "#E45756",
          "line": {
           "color": "rgb(8,48,107)",
           "width": 1.5
          }
         },
         "name": "MeanFmeasure",
         "offset": -0.5,
         "opacity": 0.6,
         "showlegend": false,
         "type": "bar",
         "width": 10,
         "x": [
          [
           "blue smote SVM"
          ],
          [
           6
          ]
         ],
         "y": [
          null
         ]
        },
        {
         "marker": {
          "color": "#E45756"
         },
         "name": "Fmeasure",
         "showlegend": false,
         "type": "bar",
         "width": 0.7,
         "x": [
          [
           "blue smote SVM"
          ],
          [
           6
          ]
         ],
         "y": [
          31.985013100000003
         ]
        },
        {
         "marker": {
          "color": "#4C78A8",
          "line": {
           "color": "#222A2A",
           "width": 1.5
          },
          "opacity": 0.75,
          "size": 10,
          "symbol": 2
         },
         "mode": "markers",
         "type": "scatter",
         "x": [
          [
           "blue smote SVM"
          ],
          [
           6
          ]
         ],
         "y": [
          75.545
         ]
        },
        {
         "marker": {
          "color": "#E45756",
          "line": {
           "color": "#222A2A",
           "width": 1.5
          },
          "opacity": 0.75,
          "size": 10,
          "symbol": 2
         },
         "mode": "markers",
         "type": "scatter",
         "x": [
          [
           "blue smote SVM"
          ],
          [
           6
          ]
         ],
         "y": [
          57.75690982
         ]
        },
        {
         "marker": {
          "color": "#4C78A8",
          "line": {
           "color": "rgb(8,48,107)",
           "width": 1.5
          }
         },
         "name": "MeanAccuracy",
         "offset": -0.5,
         "opacity": 0.6,
         "showlegend": false,
         "type": "bar",
         "width": 10,
         "x": [
          [
           "blue smote SVM"
          ],
          [
           7
          ]
         ],
         "y": [
          null
         ]
        },
        {
         "marker": {
          "color": "#4C78A8"
         },
         "name": "Accuracy",
         "showlegend": false,
         "type": "bar",
         "width": 0.7,
         "x": [
          [
           "blue smote SVM"
          ],
          [
           7
          ]
         ],
         "y": [
          76.4448
         ]
        },
        {
         "marker": {
          "color": "#E45756",
          "line": {
           "color": "rgb(8,48,107)",
           "width": 1.5
          }
         },
         "name": "MeanFmeasure",
         "offset": -0.5,
         "opacity": 0.6,
         "showlegend": false,
         "type": "bar",
         "width": 10,
         "x": [
          [
           "blue smote SVM"
          ],
          [
           7
          ]
         ],
         "y": [
          null
         ]
        },
        {
         "marker": {
          "color": "#E45756"
         },
         "name": "Fmeasure",
         "showlegend": false,
         "type": "bar",
         "width": 0.7,
         "x": [
          [
           "blue smote SVM"
          ],
          [
           7
          ]
         ],
         "y": [
          54.8879726
         ]
        },
        {
         "marker": {
          "color": "#4C78A8",
          "line": {
           "color": "rgb(8,48,107)",
           "width": 1.5
          }
         },
         "name": "MeanAccuracy",
         "offset": -0.5,
         "opacity": 0.6,
         "showlegend": false,
         "type": "bar",
         "width": 10,
         "x": [
          [
           "blue smote SVM"
          ],
          [
           8
          ]
         ],
         "y": [
          null
         ]
        },
        {
         "marker": {
          "color": "#4C78A8"
         },
         "name": "Accuracy",
         "showlegend": false,
         "type": "bar",
         "width": 0.7,
         "x": [
          [
           "blue smote SVM"
          ],
          [
           8
          ]
         ],
         "y": [
          77.4445
         ]
        },
        {
         "marker": {
          "color": "#E45756",
          "line": {
           "color": "rgb(8,48,107)",
           "width": 1.5
          }
         },
         "name": "MeanFmeasure",
         "offset": -0.5,
         "opacity": 0.6,
         "showlegend": false,
         "type": "bar",
         "width": 10,
         "x": [
          [
           "blue smote SVM"
          ],
          [
           8
          ]
         ],
         "y": [
          null
         ]
        },
        {
         "marker": {
          "color": "#E45756"
         },
         "name": "Fmeasure",
         "showlegend": false,
         "type": "bar",
         "width": 0.7,
         "x": [
          [
           "blue smote SVM"
          ],
          [
           8
          ]
         ],
         "y": [
          57.91021670000001
         ]
        },
        {
         "marker": {
          "color": "#4C78A8",
          "line": {
           "color": "rgb(8,48,107)",
           "width": 1.5
          }
         },
         "name": "MeanAccuracy",
         "offset": -0.5,
         "opacity": 0.6,
         "showlegend": false,
         "type": "bar",
         "width": 10,
         "x": [
          [
           "blue smote SVM"
          ],
          [
           9
          ]
         ],
         "y": [
          null
         ]
        },
        {
         "marker": {
          "color": "#4C78A8"
         },
         "name": "Accuracy",
         "showlegend": false,
         "type": "bar",
         "width": 0.7,
         "x": [
          [
           "blue smote SVM"
          ],
          [
           9
          ]
         ],
         "y": [
          76.7049
         ]
        },
        {
         "marker": {
          "color": "#E45756",
          "line": {
           "color": "rgb(8,48,107)",
           "width": 1.5
          }
         },
         "name": "MeanFmeasure",
         "offset": -0.5,
         "opacity": 0.6,
         "showlegend": false,
         "type": "bar",
         "width": 10,
         "x": [
          [
           "blue smote SVM"
          ],
          [
           9
          ]
         ],
         "y": [
          null
         ]
        },
        {
         "marker": {
          "color": "#E45756"
         },
         "name": "Fmeasure",
         "showlegend": false,
         "type": "bar",
         "width": 0.7,
         "x": [
          [
           "blue smote SVM"
          ],
          [
           9
          ]
         ],
         "y": [
          56.40426360000001
         ]
        },
        {
         "marker": {
          "color": "#4C78A8",
          "line": {
           "color": "rgb(8,48,107)",
           "width": 1.5
          }
         },
         "name": "MeanAccuracy",
         "offset": -0.5,
         "opacity": 0.6,
         "showlegend": false,
         "type": "bar",
         "width": 10,
         "x": [
          [
           "blue smote SVM"
          ],
          [
           10
          ]
         ],
         "y": [
          null
         ]
        },
        {
         "marker": {
          "color": "#4C78A8"
         },
         "name": "Accuracy",
         "showlegend": false,
         "type": "bar",
         "width": 0.7,
         "x": [
          [
           "blue smote SVM"
          ],
          [
           10
          ]
         ],
         "y": [
          76.1707
         ]
        },
        {
         "marker": {
          "color": "#E45756",
          "line": {
           "color": "rgb(8,48,107)",
           "width": 1.5
          }
         },
         "name": "MeanFmeasure",
         "offset": -0.5,
         "opacity": 0.6,
         "showlegend": false,
         "type": "bar",
         "width": 10,
         "x": [
          [
           "blue smote SVM"
          ],
          [
           10
          ]
         ],
         "y": [
          null
         ]
        },
        {
         "marker": {
          "color": "#E45756"
         },
         "name": "Fmeasure",
         "showlegend": false,
         "type": "bar",
         "width": 0.7,
         "x": [
          [
           "blue smote SVM"
          ],
          [
           10
          ]
         ],
         "y": [
          55.0806919
         ]
        }
       ],
       "layout": {
        "barmode": "overlay",
        "height": 400,
        "margin": {
         "b": 10,
         "l": 10,
         "pad": 2,
         "r": 10,
         "t": 10
        },
        "template": {
         "data": {
          "bar": [
           {
            "error_x": {
             "color": "#2a3f5f"
            },
            "error_y": {
             "color": "#2a3f5f"
            },
            "marker": {
             "line": {
              "color": "#E5ECF6",
              "width": 0.5
             }
            },
            "type": "bar"
           }
          ],
          "barpolar": [
           {
            "marker": {
             "line": {
              "color": "#E5ECF6",
              "width": 0.5
             }
            },
            "type": "barpolar"
           }
          ],
          "carpet": [
           {
            "aaxis": {
             "endlinecolor": "#2a3f5f",
             "gridcolor": "white",
             "linecolor": "white",
             "minorgridcolor": "white",
             "startlinecolor": "#2a3f5f"
            },
            "baxis": {
             "endlinecolor": "#2a3f5f",
             "gridcolor": "white",
             "linecolor": "white",
             "minorgridcolor": "white",
             "startlinecolor": "#2a3f5f"
            },
            "type": "carpet"
           }
          ],
          "choropleth": [
           {
            "colorbar": {
             "outlinewidth": 0,
             "ticks": ""
            },
            "type": "choropleth"
           }
          ],
          "contour": [
           {
            "colorbar": {
             "outlinewidth": 0,
             "ticks": ""
            },
            "colorscale": [
             [
              0,
              "#0d0887"
             ],
             [
              0.1111111111111111,
              "#46039f"
             ],
             [
              0.2222222222222222,
              "#7201a8"
             ],
             [
              0.3333333333333333,
              "#9c179e"
             ],
             [
              0.4444444444444444,
              "#bd3786"
             ],
             [
              0.5555555555555556,
              "#d8576b"
             ],
             [
              0.6666666666666666,
              "#ed7953"
             ],
             [
              0.7777777777777778,
              "#fb9f3a"
             ],
             [
              0.8888888888888888,
              "#fdca26"
             ],
             [
              1,
              "#f0f921"
             ]
            ],
            "type": "contour"
           }
          ],
          "contourcarpet": [
           {
            "colorbar": {
             "outlinewidth": 0,
             "ticks": ""
            },
            "type": "contourcarpet"
           }
          ],
          "heatmap": [
           {
            "colorbar": {
             "outlinewidth": 0,
             "ticks": ""
            },
            "colorscale": [
             [
              0,
              "#0d0887"
             ],
             [
              0.1111111111111111,
              "#46039f"
             ],
             [
              0.2222222222222222,
              "#7201a8"
             ],
             [
              0.3333333333333333,
              "#9c179e"
             ],
             [
              0.4444444444444444,
              "#bd3786"
             ],
             [
              0.5555555555555556,
              "#d8576b"
             ],
             [
              0.6666666666666666,
              "#ed7953"
             ],
             [
              0.7777777777777778,
              "#fb9f3a"
             ],
             [
              0.8888888888888888,
              "#fdca26"
             ],
             [
              1,
              "#f0f921"
             ]
            ],
            "type": "heatmap"
           }
          ],
          "heatmapgl": [
           {
            "colorbar": {
             "outlinewidth": 0,
             "ticks": ""
            },
            "colorscale": [
             [
              0,
              "#0d0887"
             ],
             [
              0.1111111111111111,
              "#46039f"
             ],
             [
              0.2222222222222222,
              "#7201a8"
             ],
             [
              0.3333333333333333,
              "#9c179e"
             ],
             [
              0.4444444444444444,
              "#bd3786"
             ],
             [
              0.5555555555555556,
              "#d8576b"
             ],
             [
              0.6666666666666666,
              "#ed7953"
             ],
             [
              0.7777777777777778,
              "#fb9f3a"
             ],
             [
              0.8888888888888888,
              "#fdca26"
             ],
             [
              1,
              "#f0f921"
             ]
            ],
            "type": "heatmapgl"
           }
          ],
          "histogram": [
           {
            "marker": {
             "colorbar": {
              "outlinewidth": 0,
              "ticks": ""
             }
            },
            "type": "histogram"
           }
          ],
          "histogram2d": [
           {
            "colorbar": {
             "outlinewidth": 0,
             "ticks": ""
            },
            "colorscale": [
             [
              0,
              "#0d0887"
             ],
             [
              0.1111111111111111,
              "#46039f"
             ],
             [
              0.2222222222222222,
              "#7201a8"
             ],
             [
              0.3333333333333333,
              "#9c179e"
             ],
             [
              0.4444444444444444,
              "#bd3786"
             ],
             [
              0.5555555555555556,
              "#d8576b"
             ],
             [
              0.6666666666666666,
              "#ed7953"
             ],
             [
              0.7777777777777778,
              "#fb9f3a"
             ],
             [
              0.8888888888888888,
              "#fdca26"
             ],
             [
              1,
              "#f0f921"
             ]
            ],
            "type": "histogram2d"
           }
          ],
          "histogram2dcontour": [
           {
            "colorbar": {
             "outlinewidth": 0,
             "ticks": ""
            },
            "colorscale": [
             [
              0,
              "#0d0887"
             ],
             [
              0.1111111111111111,
              "#46039f"
             ],
             [
              0.2222222222222222,
              "#7201a8"
             ],
             [
              0.3333333333333333,
              "#9c179e"
             ],
             [
              0.4444444444444444,
              "#bd3786"
             ],
             [
              0.5555555555555556,
              "#d8576b"
             ],
             [
              0.6666666666666666,
              "#ed7953"
             ],
             [
              0.7777777777777778,
              "#fb9f3a"
             ],
             [
              0.8888888888888888,
              "#fdca26"
             ],
             [
              1,
              "#f0f921"
             ]
            ],
            "type": "histogram2dcontour"
           }
          ],
          "mesh3d": [
           {
            "colorbar": {
             "outlinewidth": 0,
             "ticks": ""
            },
            "type": "mesh3d"
           }
          ],
          "parcoords": [
           {
            "line": {
             "colorbar": {
              "outlinewidth": 0,
              "ticks": ""
             }
            },
            "type": "parcoords"
           }
          ],
          "pie": [
           {
            "automargin": true,
            "type": "pie"
           }
          ],
          "scatter": [
           {
            "marker": {
             "colorbar": {
              "outlinewidth": 0,
              "ticks": ""
             }
            },
            "type": "scatter"
           }
          ],
          "scatter3d": [
           {
            "line": {
             "colorbar": {
              "outlinewidth": 0,
              "ticks": ""
             }
            },
            "marker": {
             "colorbar": {
              "outlinewidth": 0,
              "ticks": ""
             }
            },
            "type": "scatter3d"
           }
          ],
          "scattercarpet": [
           {
            "marker": {
             "colorbar": {
              "outlinewidth": 0,
              "ticks": ""
             }
            },
            "type": "scattercarpet"
           }
          ],
          "scattergeo": [
           {
            "marker": {
             "colorbar": {
              "outlinewidth": 0,
              "ticks": ""
             }
            },
            "type": "scattergeo"
           }
          ],
          "scattergl": [
           {
            "marker": {
             "colorbar": {
              "outlinewidth": 0,
              "ticks": ""
             }
            },
            "type": "scattergl"
           }
          ],
          "scattermapbox": [
           {
            "marker": {
             "colorbar": {
              "outlinewidth": 0,
              "ticks": ""
             }
            },
            "type": "scattermapbox"
           }
          ],
          "scatterpolar": [
           {
            "marker": {
             "colorbar": {
              "outlinewidth": 0,
              "ticks": ""
             }
            },
            "type": "scatterpolar"
           }
          ],
          "scatterpolargl": [
           {
            "marker": {
             "colorbar": {
              "outlinewidth": 0,
              "ticks": ""
             }
            },
            "type": "scatterpolargl"
           }
          ],
          "scatterternary": [
           {
            "marker": {
             "colorbar": {
              "outlinewidth": 0,
              "ticks": ""
             }
            },
            "type": "scatterternary"
           }
          ],
          "surface": [
           {
            "colorbar": {
             "outlinewidth": 0,
             "ticks": ""
            },
            "colorscale": [
             [
              0,
              "#0d0887"
             ],
             [
              0.1111111111111111,
              "#46039f"
             ],
             [
              0.2222222222222222,
              "#7201a8"
             ],
             [
              0.3333333333333333,
              "#9c179e"
             ],
             [
              0.4444444444444444,
              "#bd3786"
             ],
             [
              0.5555555555555556,
              "#d8576b"
             ],
             [
              0.6666666666666666,
              "#ed7953"
             ],
             [
              0.7777777777777778,
              "#fb9f3a"
             ],
             [
              0.8888888888888888,
              "#fdca26"
             ],
             [
              1,
              "#f0f921"
             ]
            ],
            "type": "surface"
           }
          ],
          "table": [
           {
            "cells": {
             "fill": {
              "color": "#EBF0F8"
             },
             "line": {
              "color": "white"
             }
            },
            "header": {
             "fill": {
              "color": "#C8D4E3"
             },
             "line": {
              "color": "white"
             }
            },
            "type": "table"
           }
          ]
         },
         "layout": {
          "annotationdefaults": {
           "arrowcolor": "#2a3f5f",
           "arrowhead": 0,
           "arrowwidth": 1
          },
          "coloraxis": {
           "colorbar": {
            "outlinewidth": 0,
            "ticks": ""
           }
          },
          "colorscale": {
           "diverging": [
            [
             0,
             "#8e0152"
            ],
            [
             0.1,
             "#c51b7d"
            ],
            [
             0.2,
             "#de77ae"
            ],
            [
             0.3,
             "#f1b6da"
            ],
            [
             0.4,
             "#fde0ef"
            ],
            [
             0.5,
             "#f7f7f7"
            ],
            [
             0.6,
             "#e6f5d0"
            ],
            [
             0.7,
             "#b8e186"
            ],
            [
             0.8,
             "#7fbc41"
            ],
            [
             0.9,
             "#4d9221"
            ],
            [
             1,
             "#276419"
            ]
           ],
           "sequential": [
            [
             0,
             "#0d0887"
            ],
            [
             0.1111111111111111,
             "#46039f"
            ],
            [
             0.2222222222222222,
             "#7201a8"
            ],
            [
             0.3333333333333333,
             "#9c179e"
            ],
            [
             0.4444444444444444,
             "#bd3786"
            ],
            [
             0.5555555555555556,
             "#d8576b"
            ],
            [
             0.6666666666666666,
             "#ed7953"
            ],
            [
             0.7777777777777778,
             "#fb9f3a"
            ],
            [
             0.8888888888888888,
             "#fdca26"
            ],
            [
             1,
             "#f0f921"
            ]
           ],
           "sequentialminus": [
            [
             0,
             "#0d0887"
            ],
            [
             0.1111111111111111,
             "#46039f"
            ],
            [
             0.2222222222222222,
             "#7201a8"
            ],
            [
             0.3333333333333333,
             "#9c179e"
            ],
            [
             0.4444444444444444,
             "#bd3786"
            ],
            [
             0.5555555555555556,
             "#d8576b"
            ],
            [
             0.6666666666666666,
             "#ed7953"
            ],
            [
             0.7777777777777778,
             "#fb9f3a"
            ],
            [
             0.8888888888888888,
             "#fdca26"
            ],
            [
             1,
             "#f0f921"
            ]
           ]
          },
          "colorway": [
           "#636efa",
           "#EF553B",
           "#00cc96",
           "#ab63fa",
           "#FFA15A",
           "#19d3f3",
           "#FF6692",
           "#B6E880",
           "#FF97FF",
           "#FECB52"
          ],
          "font": {
           "color": "#2a3f5f"
          },
          "geo": {
           "bgcolor": "white",
           "lakecolor": "white",
           "landcolor": "#E5ECF6",
           "showlakes": true,
           "showland": true,
           "subunitcolor": "white"
          },
          "hoverlabel": {
           "align": "left"
          },
          "hovermode": "closest",
          "mapbox": {
           "style": "light"
          },
          "paper_bgcolor": "white",
          "plot_bgcolor": "#E5ECF6",
          "polar": {
           "angularaxis": {
            "gridcolor": "white",
            "linecolor": "white",
            "ticks": ""
           },
           "bgcolor": "#E5ECF6",
           "radialaxis": {
            "gridcolor": "white",
            "linecolor": "white",
            "ticks": ""
           }
          },
          "scene": {
           "xaxis": {
            "backgroundcolor": "#E5ECF6",
            "gridcolor": "white",
            "gridwidth": 2,
            "linecolor": "white",
            "showbackground": true,
            "ticks": "",
            "zerolinecolor": "white"
           },
           "yaxis": {
            "backgroundcolor": "#E5ECF6",
            "gridcolor": "white",
            "gridwidth": 2,
            "linecolor": "white",
            "showbackground": true,
            "ticks": "",
            "zerolinecolor": "white"
           },
           "zaxis": {
            "backgroundcolor": "#E5ECF6",
            "gridcolor": "white",
            "gridwidth": 2,
            "linecolor": "white",
            "showbackground": true,
            "ticks": "",
            "zerolinecolor": "white"
           }
          },
          "shapedefaults": {
           "line": {
            "color": "#2a3f5f"
           }
          },
          "ternary": {
           "aaxis": {
            "gridcolor": "white",
            "linecolor": "white",
            "ticks": ""
           },
           "baxis": {
            "gridcolor": "white",
            "linecolor": "white",
            "ticks": ""
           },
           "bgcolor": "#E5ECF6",
           "caxis": {
            "gridcolor": "white",
            "linecolor": "white",
            "ticks": ""
           }
          },
          "title": {
           "x": 0.05
          },
          "xaxis": {
           "automargin": true,
           "gridcolor": "white",
           "linecolor": "white",
           "ticks": "",
           "title": {
            "standoff": 15
           },
           "zerolinecolor": "white",
           "zerolinewidth": 2
          },
          "yaxis": {
           "automargin": true,
           "gridcolor": "white",
           "linecolor": "white",
           "ticks": "",
           "title": {
            "standoff": 15
           },
           "zerolinecolor": "white",
           "zerolinewidth": 2
          }
         }
        },
        "width": 1000,
        "xaxis": {
         "linecolor": "black",
         "mirror": true,
         "range": [
          -1,
          60
         ],
         "tickfont": {
          "size": 10
         },
         "title": {
          "text": "K-fold test - Experiment"
         }
        },
        "yaxis": {
         "dtick": 5,
         "linecolor": "black",
         "mirror": true,
         "range": [
          0,
          85
         ],
         "tick0": 0,
         "title": {
          "text": "Fmeasure - Accuracy"
         }
        }
       }
      },
      "text/html": "<div>\n        \n        \n            <div id=\"4eb968d9-c221-4b11-9844-2404ef668320\" class=\"plotly-graph-div\" style=\"height:400px; width:1000px;\"></div>\n            <script type=\"text/javascript\">\n                require([\"plotly\"], function(Plotly) {\n                    window.PLOTLYENV=window.PLOTLYENV || {};\n                    \n                if (document.getElementById(\"4eb968d9-c221-4b11-9844-2404ef668320\")) {\n                    Plotly.newPlot(\n                        '4eb968d9-c221-4b11-9844-2404ef668320',\n                        [{\"marker\": {\"color\": \"#F58518\", \"line\": {\"color\": \"rgb(8,48,107)\", \"width\": 1.5}}, \"name\": \"MeanAccuracy\", \"offset\": -0.5, \"opacity\": 0.6, \"showlegend\": false, \"type\": \"bar\", \"width\": 10, \"x\": [[\"orange imbalanced tree\"], [1]], \"y\": [76.09133696]}, {\"marker\": {\"color\": \"#F58518\"}, \"name\": \"Accuracy\", \"showlegend\": false, \"type\": \"bar\", \"width\": 0.7, \"x\": [[\"orange imbalanced tree\"], [1]], \"y\": [73.3116]}, {\"marker\": {\"color\": \"#E45756\", \"line\": {\"color\": \"rgb(8,48,107)\", \"width\": 1.5}}, \"name\": \"MeanFmeasure\", \"offset\": -0.5, \"opacity\": 0.6, \"showlegend\": false, \"type\": \"bar\", \"width\": 10, \"x\": [[\"orange imbalanced tree\"], [1]], \"y\": [41.60912125]}, {\"marker\": {\"color\": \"#E45756\"}, \"name\": \"Fmeasure\", \"showlegend\": false, \"type\": \"bar\", \"width\": 0.7, \"x\": [[\"orange imbalanced tree\"], [1]], \"y\": [41.523616700000005]}, {\"marker\": {\"color\": \"#F58518\", \"line\": {\"color\": \"rgb(8,48,107)\", \"width\": 1.5}}, \"name\": \"MeanAccuracy\", \"offset\": -0.5, \"opacity\": 0.6, \"showlegend\": true, \"type\": \"bar\", \"width\": 10, \"x\": [[\"orange imbalanced tree\"], [2]], \"y\": [null]}, {\"marker\": {\"color\": \"#F58518\"}, \"name\": \"Accuracy\", \"showlegend\": true, \"type\": \"bar\", \"width\": 0.7, \"x\": [[\"orange imbalanced tree\"], [2]], \"y\": [74.1449]}, {\"marker\": {\"color\": \"#E45756\", \"line\": {\"color\": \"rgb(8,48,107)\", \"width\": 1.5}}, \"name\": \"MeanFmeasure\", \"offset\": -0.5, \"opacity\": 0.6, \"showlegend\": true, \"type\": \"bar\", \"width\": 10, \"x\": [[\"orange imbalanced tree\"], [2]], \"y\": [null]}, {\"marker\": {\"color\": \"#E45756\"}, \"name\": \"Fmeasure\", \"showlegend\": true, \"type\": \"bar\", \"width\": 0.7, \"x\": [[\"orange imbalanced tree\"], [2]], \"y\": [45.573133500000004]}, {\"marker\": {\"color\": \"#F58518\", \"line\": {\"color\": \"rgb(8,48,107)\", \"width\": 1.5}}, \"name\": \"MeanAccuracy\", \"offset\": -0.5, \"opacity\": 0.6, \"showlegend\": false, \"type\": \"bar\", \"width\": 10, \"x\": [[\"orange imbalanced tree\"], [3]], \"y\": [null]}, {\"marker\": {\"color\": \"#F58518\"}, \"name\": \"Accuracy\", \"showlegend\": false, \"type\": \"bar\", \"width\": 0.7, \"x\": [[\"orange imbalanced tree\"], [3]], \"y\": [78.7636]}, {\"marker\": {\"color\": \"#E45756\", \"line\": {\"color\": \"rgb(8,48,107)\", \"width\": 1.5}}, \"name\": \"MeanFmeasure\", \"offset\": -0.5, \"opacity\": 0.6, \"showlegend\": false, \"type\": \"bar\", \"width\": 10, \"x\": [[\"orange imbalanced tree\"], [3]], \"y\": [null]}, {\"marker\": {\"color\": \"#E45756\"}, \"name\": \"Fmeasure\", \"showlegend\": false, \"type\": \"bar\", \"width\": 0.7, \"x\": [[\"orange imbalanced tree\"], [3]], \"y\": [47.673174700000004]}, {\"marker\": {\"color\": \"#F58518\", \"line\": {\"color\": \"rgb(8,48,107)\", \"width\": 1.5}}, \"name\": \"MeanAccuracy\", \"offset\": -0.5, \"opacity\": 0.6, \"showlegend\": false, \"type\": \"bar\", \"width\": 10, \"x\": [[\"orange imbalanced tree\"], [4]], \"y\": [null]}, {\"marker\": {\"color\": \"#F58518\"}, \"name\": \"Accuracy\", \"showlegend\": false, \"type\": \"bar\", \"width\": 0.7, \"x\": [[\"orange imbalanced tree\"], [4]], \"y\": [78.8271]}, {\"marker\": {\"color\": \"#E45756\", \"line\": {\"color\": \"rgb(8,48,107)\", \"width\": 1.5}}, \"name\": \"MeanFmeasure\", \"offset\": -0.5, \"opacity\": 0.6, \"showlegend\": false, \"type\": \"bar\", \"width\": 10, \"x\": [[\"orange imbalanced tree\"], [4]], \"y\": [null]}, {\"marker\": {\"color\": \"#E45756\"}, \"name\": \"Fmeasure\", \"showlegend\": false, \"type\": \"bar\", \"width\": 0.7, \"x\": [[\"orange imbalanced tree\"], [4]], \"y\": [42.549618200000005]}, {\"marker\": {\"color\": \"#F58518\", \"line\": {\"color\": \"rgb(8,48,107)\", \"width\": 1.5}}, \"name\": \"MeanAccuracy\", \"offset\": -0.5, \"opacity\": 0.6, \"showlegend\": false, \"type\": \"bar\", \"width\": 10, \"x\": [[\"orange imbalanced tree\"], [5]], \"y\": [null]}, {\"marker\": {\"color\": \"#F58518\"}, \"name\": \"Accuracy\", \"showlegend\": false, \"type\": \"bar\", \"width\": 0.7, \"x\": [[\"orange imbalanced tree\"], [5]], \"y\": [80.4063]}, {\"marker\": {\"color\": \"#E45756\", \"line\": {\"color\": \"rgb(8,48,107)\", \"width\": 1.5}}, \"name\": \"MeanFmeasure\", \"offset\": -0.5, \"opacity\": 0.6, \"showlegend\": false, \"type\": \"bar\", \"width\": 10, \"x\": [[\"orange imbalanced tree\"], [5]], \"y\": [null]}, {\"marker\": {\"color\": \"#E45756\"}, \"name\": \"Fmeasure\", \"showlegend\": false, \"type\": \"bar\", \"width\": 0.7, \"x\": [[\"orange imbalanced tree\"], [5]], \"y\": [49.249751]}, {\"marker\": {\"color\": \"#F58518\", \"line\": {\"color\": \"rgb(8,48,107)\", \"width\": 1.5}}, \"name\": \"MeanAccuracy\", \"offset\": -0.5, \"opacity\": 0.6, \"showlegend\": false, \"type\": \"bar\", \"width\": 10, \"x\": [[\"orange imbalanced tree\"], [6]], \"y\": [null]}, {\"marker\": {\"color\": \"#F58518\"}, \"name\": \"Accuracy\", \"showlegend\": false, \"type\": \"bar\", \"width\": 0.7, \"x\": [[\"orange imbalanced tree\"], [6]], \"y\": [73.3275]}, {\"marker\": {\"color\": \"#E45756\", \"line\": {\"color\": \"rgb(8,48,107)\", \"width\": 1.5}}, \"name\": \"MeanFmeasure\", \"offset\": -0.5, \"opacity\": 0.6, \"showlegend\": false, \"type\": \"bar\", \"width\": 10, \"x\": [[\"orange imbalanced tree\"], [6]], \"y\": [null]}, {\"marker\": {\"color\": \"#E45756\"}, \"name\": \"Fmeasure\", \"showlegend\": false, \"type\": \"bar\", \"width\": 0.7, \"x\": [[\"orange imbalanced tree\"], [6]], \"y\": [45.0010531]}, {\"marker\": {\"color\": \"#F58518\", \"line\": {\"color\": \"#222A2A\", \"width\": 1.5}, \"opacity\": 0.75, \"size\": 10, \"symbol\": 2}, \"mode\": \"markers\", \"type\": \"scatter\", \"x\": [[\"orange imbalanced tree\"], [6]], \"y\": [79.66970079999999]}, {\"marker\": {\"color\": \"#E45756\", \"line\": {\"color\": \"#222A2A\", \"width\": 1.5}, \"opacity\": 0.75, \"size\": 10, \"symbol\": 2}, \"mode\": \"markers\", \"type\": \"scatter\", \"x\": [[\"orange imbalanced tree\"], [6]], \"y\": [49.255061299999994]}, {\"marker\": {\"color\": \"#F58518\", \"line\": {\"color\": \"rgb(8,48,107)\", \"width\": 1.5}}, \"name\": \"MeanAccuracy\", \"offset\": -0.5, \"opacity\": 0.6, \"showlegend\": false, \"type\": \"bar\", \"width\": 10, \"x\": [[\"orange imbalanced tree\"], [7]], \"y\": [null]}, {\"marker\": {\"color\": \"#F58518\"}, \"name\": \"Accuracy\", \"showlegend\": false, \"type\": \"bar\", \"width\": 0.7, \"x\": [[\"orange imbalanced tree\"], [7]], \"y\": [74.6052]}, {\"marker\": {\"color\": \"#E45756\", \"line\": {\"color\": \"rgb(8,48,107)\", \"width\": 1.5}}, \"name\": \"MeanFmeasure\", \"offset\": -0.5, \"opacity\": 0.6, \"showlegend\": false, \"type\": \"bar\", \"width\": 10, \"x\": [[\"orange imbalanced tree\"], [7]], \"y\": [null]}, {\"marker\": {\"color\": \"#E45756\"}, \"name\": \"Fmeasure\", \"showlegend\": false, \"type\": \"bar\", \"width\": 0.7, \"x\": [[\"orange imbalanced tree\"], [7]], \"y\": [33.9389076]}, {\"marker\": {\"color\": \"#F58518\", \"line\": {\"color\": \"rgb(8,48,107)\", \"width\": 1.5}}, \"name\": \"MeanAccuracy\", \"offset\": -0.5, \"opacity\": 0.6, \"showlegend\": false, \"type\": \"bar\", \"width\": 10, \"x\": [[\"orange imbalanced tree\"], [8]], \"y\": [null]}, {\"marker\": {\"color\": \"#F58518\"}, \"name\": \"Accuracy\", \"showlegend\": false, \"type\": \"bar\", \"width\": 0.7, \"x\": [[\"orange imbalanced tree\"], [8]], \"y\": [71.9387]}, {\"marker\": {\"color\": \"#E45756\", \"line\": {\"color\": \"rgb(8,48,107)\", \"width\": 1.5}}, \"name\": \"MeanFmeasure\", \"offset\": -0.5, \"opacity\": 0.6, \"showlegend\": false, \"type\": \"bar\", \"width\": 10, \"x\": [[\"orange imbalanced tree\"], [8]], \"y\": [null]}, {\"marker\": {\"color\": \"#E45756\"}, \"name\": \"Fmeasure\", \"showlegend\": false, \"type\": \"bar\", \"width\": 0.7, \"x\": [[\"orange imbalanced tree\"], [8]], \"y\": [39.26459679999999]}, {\"marker\": {\"color\": \"#F58518\", \"line\": {\"color\": \"rgb(8,48,107)\", \"width\": 1.5}}, \"name\": \"MeanAccuracy\", \"offset\": -0.5, \"opacity\": 0.6, \"showlegend\": false, \"type\": \"bar\", \"width\": 10, \"x\": [[\"orange imbalanced tree\"], [9]], \"y\": [null]}, {\"marker\": {\"color\": \"#F58518\"}, \"name\": \"Accuracy\", \"showlegend\": false, \"type\": \"bar\", \"width\": 0.7, \"x\": [[\"orange imbalanced tree\"], [9]], \"y\": [77.4304]}, {\"marker\": {\"color\": \"#E45756\", \"line\": {\"color\": \"rgb(8,48,107)\", \"width\": 1.5}}, \"name\": \"MeanFmeasure\", \"offset\": -0.5, \"opacity\": 0.6, \"showlegend\": false, \"type\": \"bar\", \"width\": 10, \"x\": [[\"orange imbalanced tree\"], [9]], \"y\": [null]}, {\"marker\": {\"color\": \"#E45756\"}, \"name\": \"Fmeasure\", \"showlegend\": false, \"type\": \"bar\", \"width\": 0.7, \"x\": [[\"orange imbalanced tree\"], [9]], \"y\": [35.422335100000005]}, {\"marker\": {\"color\": \"#F58518\", \"line\": {\"color\": \"rgb(8,48,107)\", \"width\": 1.5}}, \"name\": \"MeanAccuracy\", \"offset\": -0.5, \"opacity\": 0.6, \"showlegend\": false, \"type\": \"bar\", \"width\": 10, \"x\": [[\"orange imbalanced tree\"], [10]], \"y\": [null]}, {\"marker\": {\"color\": \"#F58518\"}, \"name\": \"Accuracy\", \"showlegend\": false, \"type\": \"bar\", \"width\": 0.7, \"x\": [[\"orange imbalanced tree\"], [10]], \"y\": [78.6859]}, {\"marker\": {\"color\": \"#E45756\", \"line\": {\"color\": \"rgb(8,48,107)\", \"width\": 1.5}}, \"name\": \"MeanFmeasure\", \"offset\": -0.5, \"opacity\": 0.6, \"showlegend\": false, \"type\": \"bar\", \"width\": 10, \"x\": [[\"orange imbalanced tree\"], [10]], \"y\": [null]}, {\"marker\": {\"color\": \"#E45756\"}, \"name\": \"Fmeasure\", \"showlegend\": false, \"type\": \"bar\", \"width\": 0.7, \"x\": [[\"orange imbalanced tree\"], [10]], \"y\": [35.8950258]}, {\"marker\": {\"color\": \"#54A24B\", \"line\": {\"color\": \"rgb(8,48,107)\", \"width\": 1.5}}, \"name\": \"MeanAccuracy\", \"offset\": -0.5, \"opacity\": 0.6, \"showlegend\": false, \"type\": \"bar\", \"width\": 10, \"x\": [[\"green imbalanced SVM\"], [1]], \"y\": [81.01062325]}, {\"marker\": {\"color\": \"#54A24B\"}, \"name\": \"Accuracy\", \"showlegend\": false, \"type\": \"bar\", \"width\": 0.7, \"x\": [[\"green imbalanced SVM\"], [1]], \"y\": [81.1997]}, {\"marker\": {\"color\": \"#E45756\", \"line\": {\"color\": \"rgb(8,48,107)\", \"width\": 1.5}}, \"name\": \"MeanFmeasure\", \"offset\": -0.5, \"opacity\": 0.6, \"showlegend\": false, \"type\": \"bar\", \"width\": 10, \"x\": [[\"green imbalanced SVM\"], [1]], \"y\": [1.24842747]}, {\"marker\": {\"color\": \"#E45756\"}, \"name\": \"Fmeasure\", \"showlegend\": false, \"type\": \"bar\", \"width\": 0.7, \"x\": [[\"green imbalanced SVM\"], [1]], \"y\": [8.9011508]}, {\"marker\": {\"color\": \"#54A24B\", \"line\": {\"color\": \"rgb(8,48,107)\", \"width\": 1.5}}, \"name\": \"MeanAccuracy\", \"offset\": -0.5, \"opacity\": 0.6, \"showlegend\": false, \"type\": \"bar\", \"width\": 10, \"x\": [[\"green imbalanced SVM\"], [2]], \"y\": [null]}, {\"marker\": {\"color\": \"#54A24B\"}, \"name\": \"Accuracy\", \"showlegend\": false, \"type\": \"bar\", \"width\": 0.7, \"x\": [[\"green imbalanced SVM\"], [2]], \"y\": [80.964]}, {\"marker\": {\"color\": \"#E45756\", \"line\": {\"color\": \"rgb(8,48,107)\", \"width\": 1.5}}, \"name\": \"MeanFmeasure\", \"offset\": -0.5, \"opacity\": 0.6, \"showlegend\": false, \"type\": \"bar\", \"width\": 10, \"x\": [[\"green imbalanced SVM\"], [2]], \"y\": [null]}, {\"marker\": {\"color\": \"#E45756\"}, \"name\": \"Fmeasure\", \"showlegend\": false, \"type\": \"bar\", \"width\": 0.7, \"x\": [[\"green imbalanced SVM\"], [2]], \"y\": [0.0]}, {\"marker\": {\"color\": \"#54A24B\", \"line\": {\"color\": \"rgb(8,48,107)\", \"width\": 1.5}}, \"name\": \"MeanAccuracy\", \"offset\": -0.5, \"opacity\": 0.6, \"showlegend\": false, \"type\": \"bar\", \"width\": 10, \"x\": [[\"green imbalanced SVM\"], [3]], \"y\": [null]}, {\"marker\": {\"color\": \"#54A24B\"}, \"name\": \"Accuracy\", \"showlegend\": false, \"type\": \"bar\", \"width\": 0.7, \"x\": [[\"green imbalanced SVM\"], [3]], \"y\": [80.9721]}, {\"marker\": {\"color\": \"#E45756\", \"line\": {\"color\": \"rgb(8,48,107)\", \"width\": 1.5}}, \"name\": \"MeanFmeasure\", \"offset\": -0.5, \"opacity\": 0.6, \"showlegend\": false, \"type\": \"bar\", \"width\": 10, \"x\": [[\"green imbalanced SVM\"], [3]], \"y\": [null]}, {\"marker\": {\"color\": \"#E45756\"}, \"name\": \"Fmeasure\", \"showlegend\": false, \"type\": \"bar\", \"width\": 0.7, \"x\": [[\"green imbalanced SVM\"], [3]], \"y\": [0.0]}, {\"marker\": {\"color\": \"#54A24B\", \"line\": {\"color\": \"rgb(8,48,107)\", \"width\": 1.5}}, \"name\": \"MeanAccuracy\", \"offset\": -0.5, \"opacity\": 0.6, \"showlegend\": false, \"type\": \"bar\", \"width\": 10, \"x\": [[\"green imbalanced SVM\"], [4]], \"y\": [null]}, {\"marker\": {\"color\": \"#54A24B\"}, \"name\": \"Accuracy\", \"showlegend\": false, \"type\": \"bar\", \"width\": 0.7, \"x\": [[\"green imbalanced SVM\"], [4]], \"y\": [80.9721]}, {\"marker\": {\"color\": \"#E45756\", \"line\": {\"color\": \"rgb(8,48,107)\", \"width\": 1.5}}, \"name\": \"MeanFmeasure\", \"offset\": -0.5, \"opacity\": 0.6, \"showlegend\": false, \"type\": \"bar\", \"width\": 10, \"x\": [[\"green imbalanced SVM\"], [4]], \"y\": [null]}, {\"marker\": {\"color\": \"#E45756\"}, \"name\": \"Fmeasure\", \"showlegend\": false, \"type\": \"bar\", \"width\": 0.7, \"x\": [[\"green imbalanced SVM\"], [4]], \"y\": [0.0]}, {\"marker\": {\"color\": \"#54A24B\", \"line\": {\"color\": \"rgb(8,48,107)\", \"width\": 1.5}}, \"name\": \"MeanAccuracy\", \"offset\": -0.5, \"opacity\": 0.6, \"showlegend\": false, \"type\": \"bar\", \"width\": 10, \"x\": [[\"green imbalanced SVM\"], [5]], \"y\": [null]}, {\"marker\": {\"color\": \"#54A24B\"}, \"name\": \"Accuracy\", \"showlegend\": false, \"type\": \"bar\", \"width\": 0.7, \"x\": [[\"green imbalanced SVM\"], [5]], \"y\": [80.9802]}, {\"marker\": {\"color\": \"#E45756\", \"line\": {\"color\": \"rgb(8,48,107)\", \"width\": 1.5}}, \"name\": \"MeanFmeasure\", \"offset\": -0.5, \"opacity\": 0.6, \"showlegend\": false, \"type\": \"bar\", \"width\": 10, \"x\": [[\"green imbalanced SVM\"], [5]], \"y\": [null]}, {\"marker\": {\"color\": \"#E45756\"}, \"name\": \"Fmeasure\", \"showlegend\": false, \"type\": \"bar\", \"width\": 0.7, \"x\": [[\"green imbalanced SVM\"], [5]], \"y\": [0.085963]}, {\"marker\": {\"color\": \"#54A24B\", \"line\": {\"color\": \"rgb(8,48,107)\", \"width\": 1.5}}, \"name\": \"MeanAccuracy\", \"offset\": -0.5, \"opacity\": 0.6, \"showlegend\": false, \"type\": \"bar\", \"width\": 10, \"x\": [[\"green imbalanced SVM\"], [6]], \"y\": [null]}, {\"marker\": {\"color\": \"#54A24B\"}, \"name\": \"Accuracy\", \"showlegend\": false, \"type\": \"bar\", \"width\": 0.7, \"x\": [[\"green imbalanced SVM\"], [6]], \"y\": [80.9721]}, {\"marker\": {\"color\": \"#E45756\", \"line\": {\"color\": \"rgb(8,48,107)\", \"width\": 1.5}}, \"name\": \"MeanFmeasure\", \"offset\": -0.5, \"opacity\": 0.6, \"showlegend\": false, \"type\": \"bar\", \"width\": 10, \"x\": [[\"green imbalanced SVM\"], [6]], \"y\": [null]}, {\"marker\": {\"color\": \"#E45756\"}, \"name\": \"Fmeasure\", \"showlegend\": false, \"type\": \"bar\", \"width\": 0.7, \"x\": [[\"green imbalanced SVM\"], [6]], \"y\": [0.0]}, {\"marker\": {\"color\": \"#54A24B\", \"line\": {\"color\": \"#222A2A\", \"width\": 1.5}, \"opacity\": 0.75, \"size\": 10, \"symbol\": 2}, \"mode\": \"markers\", \"type\": \"scatter\", \"x\": [[\"green imbalanced SVM\"], [6]], \"y\": [81.0878]}, {\"marker\": {\"color\": \"#E45756\", \"line\": {\"color\": \"#222A2A\", \"width\": 1.5}, \"opacity\": 0.75, \"size\": 10, \"symbol\": 2}, \"mode\": \"markers\", \"type\": \"scatter\", \"x\": [[\"green imbalanced SVM\"], [6]], \"y\": [0.0]}, {\"marker\": {\"color\": \"#54A24B\", \"line\": {\"color\": \"rgb(8,48,107)\", \"width\": 1.5}}, \"name\": \"MeanAccuracy\", \"offset\": -0.5, \"opacity\": 0.6, \"showlegend\": false, \"type\": \"bar\", \"width\": 10, \"x\": [[\"green imbalanced SVM\"], [7]], \"y\": [null]}, {\"marker\": {\"color\": \"#54A24B\"}, \"name\": \"Accuracy\", \"showlegend\": false, \"type\": \"bar\", \"width\": 0.7, \"x\": [[\"green imbalanced SVM\"], [7]], \"y\": [80.9721]}, {\"marker\": {\"color\": \"#E45756\", \"line\": {\"color\": \"rgb(8,48,107)\", \"width\": 1.5}}, \"name\": \"MeanFmeasure\", \"offset\": -0.5, \"opacity\": 0.6, \"showlegend\": false, \"type\": \"bar\", \"width\": 10, \"x\": [[\"green imbalanced SVM\"], [7]], \"y\": [null]}, {\"marker\": {\"color\": \"#E45756\"}, \"name\": \"Fmeasure\", \"showlegend\": false, \"type\": \"bar\", \"width\": 0.7, \"x\": [[\"green imbalanced SVM\"], [7]], \"y\": [0.0]}, {\"marker\": {\"color\": \"#54A24B\", \"line\": {\"color\": \"rgb(8,48,107)\", \"width\": 1.5}}, \"name\": \"MeanAccuracy\", \"offset\": -0.5, \"opacity\": 0.6, \"showlegend\": false, \"type\": \"bar\", \"width\": 10, \"x\": [[\"green imbalanced SVM\"], [8]], \"y\": [null]}, {\"marker\": {\"color\": \"#54A24B\"}, \"name\": \"Accuracy\", \"showlegend\": false, \"type\": \"bar\", \"width\": 0.7, \"x\": [[\"green imbalanced SVM\"], [8]], \"y\": [80.9721]}, {\"marker\": {\"color\": \"#E45756\", \"line\": {\"color\": \"rgb(8,48,107)\", \"width\": 1.5}}, \"name\": \"MeanFmeasure\", \"offset\": -0.5, \"opacity\": 0.6, \"showlegend\": false, \"type\": \"bar\", \"width\": 10, \"x\": [[\"green imbalanced SVM\"], [8]], \"y\": [null]}, {\"marker\": {\"color\": \"#E45756\"}, \"name\": \"Fmeasure\", \"showlegend\": false, \"type\": \"bar\", \"width\": 0.7, \"x\": [[\"green imbalanced SVM\"], [8]], \"y\": [0.0]}, {\"marker\": {\"color\": \"#54A24B\", \"line\": {\"color\": \"rgb(8,48,107)\", \"width\": 1.5}}, \"name\": \"MeanAccuracy\", \"offset\": -0.5, \"opacity\": 0.6, \"showlegend\": false, \"type\": \"bar\", \"width\": 10, \"x\": [[\"green imbalanced SVM\"], [9]], \"y\": [null]}, {\"marker\": {\"color\": \"#54A24B\"}, \"name\": \"Accuracy\", \"showlegend\": false, \"type\": \"bar\", \"width\": 0.7, \"x\": [[\"green imbalanced SVM\"], [9]], \"y\": [80.9802]}, {\"marker\": {\"color\": \"#E45756\", \"line\": {\"color\": \"rgb(8,48,107)\", \"width\": 1.5}}, \"name\": \"MeanFmeasure\", \"offset\": -0.5, \"opacity\": 0.6, \"showlegend\": false, \"type\": \"bar\", \"width\": 10, \"x\": [[\"green imbalanced SVM\"], [9]], \"y\": [null]}, {\"marker\": {\"color\": \"#E45756\"}, \"name\": \"Fmeasure\", \"showlegend\": false, \"type\": \"bar\", \"width\": 0.7, \"x\": [[\"green imbalanced SVM\"], [9]], \"y\": [0.085963]}, {\"marker\": {\"color\": \"#54A24B\", \"line\": {\"color\": \"rgb(8,48,107)\", \"width\": 1.5}}, \"name\": \"MeanAccuracy\", \"offset\": -0.5, \"opacity\": 0.6, \"showlegend\": false, \"type\": \"bar\", \"width\": 10, \"x\": [[\"green imbalanced SVM\"], [10]], \"y\": [null]}, {\"marker\": {\"color\": \"#54A24B\"}, \"name\": \"Accuracy\", \"showlegend\": false, \"type\": \"bar\", \"width\": 0.7, \"x\": [[\"green imbalanced SVM\"], [10]], \"y\": [81.122]}, {\"marker\": {\"color\": \"#E45756\", \"line\": {\"color\": \"rgb(8,48,107)\", \"width\": 1.5}}, \"name\": \"MeanFmeasure\", \"offset\": -0.5, \"opacity\": 0.6, \"showlegend\": false, \"type\": \"bar\", \"width\": 10, \"x\": [[\"green imbalanced SVM\"], [10]], \"y\": [null]}, {\"marker\": {\"color\": \"#E45756\"}, \"name\": \"Fmeasure\", \"showlegend\": false, \"type\": \"bar\", \"width\": 0.7, \"x\": [[\"green imbalanced SVM\"], [10]], \"y\": [3.4111979]}, {\"marker\": {\"color\": \"#54A24B\", \"line\": {\"color\": \"rgb(8,48,107)\", \"width\": 1.5}}, \"name\": \"MeanAccuracy\", \"offset\": -0.5, \"opacity\": 0.6, \"showlegend\": false, \"type\": \"bar\", \"width\": 10, \"x\": [[\"green random SVM\"], [1]], \"y\": [65.47001297]}, {\"marker\": {\"color\": \"#54A24B\"}, \"name\": \"Accuracy\", \"showlegend\": false, \"type\": \"bar\", \"width\": 0.7, \"x\": [[\"green random SVM\"], [1]], \"y\": [70.2755]}, {\"marker\": {\"color\": \"#E45756\", \"line\": {\"color\": \"rgb(8,48,107)\", \"width\": 1.5}}, \"name\": \"MeanFmeasure\", \"offset\": -0.5, \"opacity\": 0.6, \"showlegend\": false, \"type\": \"bar\", \"width\": 10, \"x\": [[\"green random SVM\"], [1]], \"y\": [53.41376268]}, {\"marker\": {\"color\": \"#E45756\"}, \"name\": \"Fmeasure\", \"showlegend\": false, \"type\": \"bar\", \"width\": 0.7, \"x\": [[\"green random SVM\"], [1]], \"y\": [54.712423099999995]}, {\"marker\": {\"color\": \"#54A24B\", \"line\": {\"color\": \"rgb(8,48,107)\", \"width\": 1.5}}, \"name\": \"MeanAccuracy\", \"offset\": -0.5, \"opacity\": 0.6, \"showlegend\": false, \"type\": \"bar\", \"width\": 10, \"x\": [[\"green random SVM\"], [2]], \"y\": [null]}, {\"marker\": {\"color\": \"#54A24B\"}, \"name\": \"Accuracy\", \"showlegend\": false, \"type\": \"bar\", \"width\": 0.7, \"x\": [[\"green random SVM\"], [2]], \"y\": [77.16]}, {\"marker\": {\"color\": \"#E45756\", \"line\": {\"color\": \"rgb(8,48,107)\", \"width\": 1.5}}, \"name\": \"MeanFmeasure\", \"offset\": -0.5, \"opacity\": 0.6, \"showlegend\": false, \"type\": \"bar\", \"width\": 10, \"x\": [[\"green random SVM\"], [2]], \"y\": [null]}, {\"marker\": {\"color\": \"#E45756\"}, \"name\": \"Fmeasure\", \"showlegend\": false, \"type\": \"bar\", \"width\": 0.7, \"x\": [[\"green random SVM\"], [2]], \"y\": [56.461465700000005]}, {\"marker\": {\"color\": \"#54A24B\", \"line\": {\"color\": \"rgb(8,48,107)\", \"width\": 1.5}}, \"name\": \"MeanAccuracy\", \"offset\": -0.5, \"opacity\": 0.6, \"showlegend\": false, \"type\": \"bar\", \"width\": 10, \"x\": [[\"green random SVM\"], [3]], \"y\": [null]}, {\"marker\": {\"color\": \"#54A24B\"}, \"name\": \"Accuracy\", \"showlegend\": false, \"type\": \"bar\", \"width\": 0.7, \"x\": [[\"green random SVM\"], [3]], \"y\": [76.8918]}, {\"marker\": {\"color\": \"#E45756\", \"line\": {\"color\": \"rgb(8,48,107)\", \"width\": 1.5}}, \"name\": \"MeanFmeasure\", \"offset\": -0.5, \"opacity\": 0.6, \"showlegend\": false, \"type\": \"bar\", \"width\": 10, \"x\": [[\"green random SVM\"], [3]], \"y\": [null]}, {\"marker\": {\"color\": \"#E45756\"}, \"name\": \"Fmeasure\", \"showlegend\": false, \"type\": \"bar\", \"width\": 0.7, \"x\": [[\"green random SVM\"], [3]], \"y\": [55.333445700000006]}, {\"marker\": {\"color\": \"#54A24B\", \"line\": {\"color\": \"rgb(8,48,107)\", \"width\": 1.5}}, \"name\": \"MeanAccuracy\", \"offset\": -0.5, \"opacity\": 0.6, \"showlegend\": false, \"type\": \"bar\", \"width\": 10, \"x\": [[\"green random SVM\"], [4]], \"y\": [null]}, {\"marker\": {\"color\": \"#54A24B\"}, \"name\": \"Accuracy\", \"showlegend\": false, \"type\": \"bar\", \"width\": 0.7, \"x\": [[\"green random SVM\"], [4]], \"y\": [74.0714]}, {\"marker\": {\"color\": \"#E45756\", \"line\": {\"color\": \"rgb(8,48,107)\", \"width\": 1.5}}, \"name\": \"MeanFmeasure\", \"offset\": -0.5, \"opacity\": 0.6, \"showlegend\": false, \"type\": \"bar\", \"width\": 10, \"x\": [[\"green random SVM\"], [4]], \"y\": [null]}, {\"marker\": {\"color\": \"#E45756\"}, \"name\": \"Fmeasure\", \"showlegend\": false, \"type\": \"bar\", \"width\": 0.7, \"x\": [[\"green random SVM\"], [4]], \"y\": [57.2617174]}, {\"marker\": {\"color\": \"#54A24B\", \"line\": {\"color\": \"rgb(8,48,107)\", \"width\": 1.5}}, \"name\": \"MeanAccuracy\", \"offset\": -0.5, \"opacity\": 0.6, \"showlegend\": false, \"type\": \"bar\", \"width\": 10, \"x\": [[\"green random SVM\"], [5]], \"y\": [null]}, {\"marker\": {\"color\": \"#54A24B\"}, \"name\": \"Accuracy\", \"showlegend\": false, \"type\": \"bar\", \"width\": 0.7, \"x\": [[\"green random SVM\"], [5]], \"y\": [71.51100000000001]}, {\"marker\": {\"color\": \"#E45756\", \"line\": {\"color\": \"rgb(8,48,107)\", \"width\": 1.5}}, \"name\": \"MeanFmeasure\", \"offset\": -0.5, \"opacity\": 0.6, \"showlegend\": false, \"type\": \"bar\", \"width\": 10, \"x\": [[\"green random SVM\"], [5]], \"y\": [null]}, {\"marker\": {\"color\": \"#E45756\"}, \"name\": \"Fmeasure\", \"showlegend\": false, \"type\": \"bar\", \"width\": 0.7, \"x\": [[\"green random SVM\"], [5]], \"y\": [55.26523320000001]}, {\"marker\": {\"color\": \"#54A24B\", \"line\": {\"color\": \"rgb(8,48,107)\", \"width\": 1.5}}, \"name\": \"MeanAccuracy\", \"offset\": -0.5, \"opacity\": 0.6, \"showlegend\": false, \"type\": \"bar\", \"width\": 10, \"x\": [[\"green random SVM\"], [6]], \"y\": [null]}, {\"marker\": {\"color\": \"#54A24B\"}, \"name\": \"Accuracy\", \"showlegend\": false, \"type\": \"bar\", \"width\": 0.7, \"x\": [[\"green random SVM\"], [6]], \"y\": [21.4582]}, {\"marker\": {\"color\": \"#E45756\", \"line\": {\"color\": \"rgb(8,48,107)\", \"width\": 1.5}}, \"name\": \"MeanFmeasure\", \"offset\": -0.5, \"opacity\": 0.6, \"showlegend\": false, \"type\": \"bar\", \"width\": 10, \"x\": [[\"green random SVM\"], [6]], \"y\": [null]}, {\"marker\": {\"color\": \"#E45756\"}, \"name\": \"Fmeasure\", \"showlegend\": false, \"type\": \"bar\", \"width\": 0.7, \"x\": [[\"green random SVM\"], [6]], \"y\": [32.6387843]}, {\"marker\": {\"color\": \"#54A24B\", \"line\": {\"color\": \"#222A2A\", \"width\": 1.5}, \"opacity\": 0.75, \"size\": 10, \"symbol\": 2}, \"mode\": \"markers\", \"type\": \"scatter\", \"x\": [[\"green random SVM\"], [6]], \"y\": [75.304]}, {\"marker\": {\"color\": \"#E45756\", \"line\": {\"color\": \"#222A2A\", \"width\": 1.5}, \"opacity\": 0.75, \"size\": 10, \"symbol\": 2}, \"mode\": \"markers\", \"type\": \"scatter\", \"x\": [[\"green random SVM\"], [6]], \"y\": [72.623175]}, {\"marker\": {\"color\": \"#54A24B\", \"line\": {\"color\": \"rgb(8,48,107)\", \"width\": 1.5}}, \"name\": \"MeanAccuracy\", \"offset\": -0.5, \"opacity\": 0.6, \"showlegend\": false, \"type\": \"bar\", \"width\": 10, \"x\": [[\"green random SVM\"], [7]], \"y\": [null]}, {\"marker\": {\"color\": \"#54A24B\"}, \"name\": \"Accuracy\", \"showlegend\": false, \"type\": \"bar\", \"width\": 0.7, \"x\": [[\"green random SVM\"], [7]], \"y\": [76.396]}, {\"marker\": {\"color\": \"#E45756\", \"line\": {\"color\": \"rgb(8,48,107)\", \"width\": 1.5}}, \"name\": \"MeanFmeasure\", \"offset\": -0.5, \"opacity\": 0.6, \"showlegend\": false, \"type\": \"bar\", \"width\": 10, \"x\": [[\"green random SVM\"], [7]], \"y\": [null]}, {\"marker\": {\"color\": \"#E45756\"}, \"name\": \"Fmeasure\", \"showlegend\": false, \"type\": \"bar\", \"width\": 0.7, \"x\": [[\"green random SVM\"], [7]], \"y\": [54.7096623]}, {\"marker\": {\"color\": \"#54A24B\", \"line\": {\"color\": \"rgb(8,48,107)\", \"width\": 1.5}}, \"name\": \"MeanAccuracy\", \"offset\": -0.5, \"opacity\": 0.6, \"showlegend\": false, \"type\": \"bar\", \"width\": 10, \"x\": [[\"green random SVM\"], [8]], \"y\": [null]}, {\"marker\": {\"color\": \"#54A24B\"}, \"name\": \"Accuracy\", \"showlegend\": false, \"type\": \"bar\", \"width\": 0.7, \"x\": [[\"green random SVM\"], [8]], \"y\": [71.6898]}, {\"marker\": {\"color\": \"#E45756\", \"line\": {\"color\": \"rgb(8,48,107)\", \"width\": 1.5}}, \"name\": \"MeanFmeasure\", \"offset\": -0.5, \"opacity\": 0.6, \"showlegend\": false, \"type\": \"bar\", \"width\": 10, \"x\": [[\"green random SVM\"], [8]], \"y\": [null]}, {\"marker\": {\"color\": \"#E45756\"}, \"name\": \"Fmeasure\", \"showlegend\": false, \"type\": \"bar\", \"width\": 0.7, \"x\": [[\"green random SVM\"], [8]], \"y\": [55.8383692]}, {\"marker\": {\"color\": \"#54A24B\", \"line\": {\"color\": \"rgb(8,48,107)\", \"width\": 1.5}}, \"name\": \"MeanAccuracy\", \"offset\": -0.5, \"opacity\": 0.6, \"showlegend\": false, \"type\": \"bar\", \"width\": 10, \"x\": [[\"green random SVM\"], [9]], \"y\": [null]}, {\"marker\": {\"color\": \"#54A24B\"}, \"name\": \"Accuracy\", \"showlegend\": false, \"type\": \"bar\", \"width\": 0.7, \"x\": [[\"green random SVM\"], [9]], \"y\": [73.1448]}, {\"marker\": {\"color\": \"#E45756\", \"line\": {\"color\": \"rgb(8,48,107)\", \"width\": 1.5}}, \"name\": \"MeanFmeasure\", \"offset\": -0.5, \"opacity\": 0.6, \"showlegend\": false, \"type\": \"bar\", \"width\": 10, \"x\": [[\"green random SVM\"], [9]], \"y\": [null]}, {\"marker\": {\"color\": \"#E45756\"}, \"name\": \"Fmeasure\", \"showlegend\": false, \"type\": \"bar\", \"width\": 0.7, \"x\": [[\"green random SVM\"], [9]], \"y\": [56.821776400000005]}, {\"marker\": {\"color\": \"#54A24B\", \"line\": {\"color\": \"rgb(8,48,107)\", \"width\": 1.5}}, \"name\": \"MeanAccuracy\", \"offset\": -0.5, \"opacity\": 0.6, \"showlegend\": false, \"type\": \"bar\", \"width\": 10, \"x\": [[\"green random SVM\"], [10]], \"y\": [null]}, {\"marker\": {\"color\": \"#54A24B\"}, \"name\": \"Accuracy\", \"showlegend\": false, \"type\": \"bar\", \"width\": 0.7, \"x\": [[\"green random SVM\"], [10]], \"y\": [76.2114]}, {\"marker\": {\"color\": \"#E45756\", \"line\": {\"color\": \"rgb(8,48,107)\", \"width\": 1.5}}, \"name\": \"MeanFmeasure\", \"offset\": -0.5, \"opacity\": 0.6, \"showlegend\": false, \"type\": \"bar\", \"width\": 10, \"x\": [[\"green random SVM\"], [10]], \"y\": [null]}, {\"marker\": {\"color\": \"#E45756\"}, \"name\": \"Fmeasure\", \"showlegend\": false, \"type\": \"bar\", \"width\": 0.7, \"x\": [[\"green random SVM\"], [10]], \"y\": [55.09474949999999]}, {\"marker\": {\"color\": \"#54A24B\", \"line\": {\"color\": \"rgb(8,48,107)\", \"width\": 1.5}}, \"name\": \"MeanAccuracy\", \"offset\": -0.5, \"opacity\": 0.6, \"showlegend\": false, \"type\": \"bar\", \"width\": 10, \"x\": [[\"green smote SVM\"], [1]], \"y\": [67.15451633]}, {\"marker\": {\"color\": \"#54A24B\"}, \"name\": \"Accuracy\", \"showlegend\": false, \"type\": \"bar\", \"width\": 0.7, \"x\": [[\"green smote SVM\"], [1]], \"y\": [76.4285]}, {\"marker\": {\"color\": \"#E45756\", \"line\": {\"color\": \"rgb(8,48,107)\", \"width\": 1.5}}, \"name\": \"MeanFmeasure\", \"offset\": -0.5, \"opacity\": 0.6, \"showlegend\": false, \"type\": \"bar\", \"width\": 10, \"x\": [[\"green smote SVM\"], [1]], \"y\": [51.66593954]}, {\"marker\": {\"color\": \"#E45756\"}, \"name\": \"Fmeasure\", \"showlegend\": false, \"type\": \"bar\", \"width\": 0.7, \"x\": [[\"green smote SVM\"], [1]], \"y\": [56.02050820000001]}, {\"marker\": {\"color\": \"#54A24B\", \"line\": {\"color\": \"rgb(8,48,107)\", \"width\": 1.5}}, \"name\": \"MeanAccuracy\", \"offset\": -0.5, \"opacity\": 0.6, \"showlegend\": false, \"type\": \"bar\", \"width\": 10, \"x\": [[\"green smote SVM\"], [2]], \"y\": [null]}, {\"marker\": {\"color\": \"#54A24B\"}, \"name\": \"Accuracy\", \"showlegend\": false, \"type\": \"bar\", \"width\": 0.7, \"x\": [[\"green smote SVM\"], [2]], \"y\": [77.3876]}, {\"marker\": {\"color\": \"#E45756\", \"line\": {\"color\": \"rgb(8,48,107)\", \"width\": 1.5}}, \"name\": \"MeanFmeasure\", \"offset\": -0.5, \"opacity\": 0.6, \"showlegend\": false, \"type\": \"bar\", \"width\": 10, \"x\": [[\"green smote SVM\"], [2]], \"y\": [null]}, {\"marker\": {\"color\": \"#E45756\"}, \"name\": \"Fmeasure\", \"showlegend\": false, \"type\": \"bar\", \"width\": 0.7, \"x\": [[\"green smote SVM\"], [2]], \"y\": [56.3813502]}, {\"marker\": {\"color\": \"#54A24B\", \"line\": {\"color\": \"rgb(8,48,107)\", \"width\": 1.5}}, \"name\": \"MeanAccuracy\", \"offset\": -0.5, \"opacity\": 0.6, \"showlegend\": false, \"type\": \"bar\", \"width\": 10, \"x\": [[\"green smote SVM\"], [3]], \"y\": [null]}, {\"marker\": {\"color\": \"#54A24B\"}, \"name\": \"Accuracy\", \"showlegend\": false, \"type\": \"bar\", \"width\": 0.7, \"x\": [[\"green smote SVM\"], [3]], \"y\": [80.5657]}, {\"marker\": {\"color\": \"#E45756\", \"line\": {\"color\": \"rgb(8,48,107)\", \"width\": 1.5}}, \"name\": \"MeanFmeasure\", \"offset\": -0.5, \"opacity\": 0.6, \"showlegend\": false, \"type\": \"bar\", \"width\": 10, \"x\": [[\"green smote SVM\"], [3]], \"y\": [null]}, {\"marker\": {\"color\": \"#E45756\"}, \"name\": \"Fmeasure\", \"showlegend\": false, \"type\": \"bar\", \"width\": 0.7, \"x\": [[\"green smote SVM\"], [3]], \"y\": [38.676132700000004]}, {\"marker\": {\"color\": \"#54A24B\", \"line\": {\"color\": \"rgb(8,48,107)\", \"width\": 1.5}}, \"name\": \"MeanAccuracy\", \"offset\": -0.5, \"opacity\": 0.6, \"showlegend\": false, \"type\": \"bar\", \"width\": 10, \"x\": [[\"green smote SVM\"], [4]], \"y\": [null]}, {\"marker\": {\"color\": \"#54A24B\"}, \"name\": \"Accuracy\", \"showlegend\": false, \"type\": \"bar\", \"width\": 0.7, \"x\": [[\"green smote SVM\"], [4]], \"y\": [77.4039]}, {\"marker\": {\"color\": \"#E45756\", \"line\": {\"color\": \"rgb(8,48,107)\", \"width\": 1.5}}, \"name\": \"MeanFmeasure\", \"offset\": -0.5, \"opacity\": 0.6, \"showlegend\": false, \"type\": \"bar\", \"width\": 10, \"x\": [[\"green smote SVM\"], [4]], \"y\": [null]}, {\"marker\": {\"color\": \"#E45756\"}, \"name\": \"Fmeasure\", \"showlegend\": false, \"type\": \"bar\", \"width\": 0.7, \"x\": [[\"green smote SVM\"], [4]], \"y\": [56.15135]}, {\"marker\": {\"color\": \"#54A24B\", \"line\": {\"color\": \"rgb(8,48,107)\", \"width\": 1.5}}, \"name\": \"MeanAccuracy\", \"offset\": -0.5, \"opacity\": 0.6, \"showlegend\": false, \"type\": \"bar\", \"width\": 10, \"x\": [[\"green smote SVM\"], [5]], \"y\": [null]}, {\"marker\": {\"color\": \"#54A24B\"}, \"name\": \"Accuracy\", \"showlegend\": false, \"type\": \"bar\", \"width\": 0.7, \"x\": [[\"green smote SVM\"], [5]], \"y\": [76.1196]}, {\"marker\": {\"color\": \"#E45756\", \"line\": {\"color\": \"rgb(8,48,107)\", \"width\": 1.5}}, \"name\": \"MeanFmeasure\", \"offset\": -0.5, \"opacity\": 0.6, \"showlegend\": false, \"type\": \"bar\", \"width\": 10, \"x\": [[\"green smote SVM\"], [5]], \"y\": [null]}, {\"marker\": {\"color\": \"#E45756\"}, \"name\": \"Fmeasure\", \"showlegend\": false, \"type\": \"bar\", \"width\": 0.7, \"x\": [[\"green smote SVM\"], [5]], \"y\": [55.0763337]}, {\"marker\": {\"color\": \"#54A24B\", \"line\": {\"color\": \"rgb(8,48,107)\", \"width\": 1.5}}, \"name\": \"MeanAccuracy\", \"offset\": -0.5, \"opacity\": 0.6, \"showlegend\": false, \"type\": \"bar\", \"width\": 10, \"x\": [[\"green smote SVM\"], [6]], \"y\": [null]}, {\"marker\": {\"color\": \"#54A24B\"}, \"name\": \"Accuracy\", \"showlegend\": false, \"type\": \"bar\", \"width\": 0.7, \"x\": [[\"green smote SVM\"], [6]], \"y\": [19.1335]}, {\"marker\": {\"color\": \"#E45756\", \"line\": {\"color\": \"rgb(8,48,107)\", \"width\": 1.5}}, \"name\": \"MeanFmeasure\", \"offset\": -0.5, \"opacity\": 0.6, \"showlegend\": false, \"type\": \"bar\", \"width\": 10, \"x\": [[\"green smote SVM\"], [6]], \"y\": [null]}, {\"marker\": {\"color\": \"#E45756\"}, \"name\": \"Fmeasure\", \"showlegend\": false, \"type\": \"bar\", \"width\": 0.7, \"x\": [[\"green smote SVM\"], [6]], \"y\": [32.0005376]}, {\"marker\": {\"color\": \"#54A24B\", \"line\": {\"color\": \"#222A2A\", \"width\": 1.5}, \"opacity\": 0.75, \"size\": 10, \"symbol\": 2}, \"mode\": \"markers\", \"type\": \"scatter\", \"x\": [[\"green smote SVM\"], [6]], \"y\": [77.9437]}, {\"marker\": {\"color\": \"#E45756\", \"line\": {\"color\": \"#222A2A\", \"width\": 1.5}, \"opacity\": 0.75, \"size\": 10, \"symbol\": 2}, \"mode\": \"markers\", \"type\": \"scatter\", \"x\": [[\"green smote SVM\"], [6]], \"y\": [67.425069]}, {\"marker\": {\"color\": \"#54A24B\", \"line\": {\"color\": \"rgb(8,48,107)\", \"width\": 1.5}}, \"name\": \"MeanAccuracy\", \"offset\": -0.5, \"opacity\": 0.6, \"showlegend\": false, \"type\": \"bar\", \"width\": 10, \"x\": [[\"green smote SVM\"], [7]], \"y\": [null]}, {\"marker\": {\"color\": \"#54A24B\"}, \"name\": \"Accuracy\", \"showlegend\": false, \"type\": \"bar\", \"width\": 0.7, \"x\": [[\"green smote SVM\"], [7]], \"y\": [76.4935]}, {\"marker\": {\"color\": \"#E45756\", \"line\": {\"color\": \"rgb(8,48,107)\", \"width\": 1.5}}, \"name\": \"MeanFmeasure\", \"offset\": -0.5, \"opacity\": 0.6, \"showlegend\": false, \"type\": \"bar\", \"width\": 10, \"x\": [[\"green smote SVM\"], [7]], \"y\": [null]}, {\"marker\": {\"color\": \"#E45756\"}, \"name\": \"Fmeasure\", \"showlegend\": false, \"type\": \"bar\", \"width\": 0.7, \"x\": [[\"green smote SVM\"], [7]], \"y\": [54.86891189999999]}, {\"marker\": {\"color\": \"#54A24B\", \"line\": {\"color\": \"rgb(8,48,107)\", \"width\": 1.5}}, \"name\": \"MeanAccuracy\", \"offset\": -0.5, \"opacity\": 0.6, \"showlegend\": false, \"type\": \"bar\", \"width\": 10, \"x\": [[\"green smote SVM\"], [8]], \"y\": [null]}, {\"marker\": {\"color\": \"#54A24B\"}, \"name\": \"Accuracy\", \"showlegend\": false, \"type\": \"bar\", \"width\": 0.7, \"x\": [[\"green smote SVM\"], [8]], \"y\": [77.3551]}, {\"marker\": {\"color\": \"#E45756\", \"line\": {\"color\": \"rgb(8,48,107)\", \"width\": 1.5}}, \"name\": \"MeanFmeasure\", \"offset\": -0.5, \"opacity\": 0.6, \"showlegend\": false, \"type\": \"bar\", \"width\": 10, \"x\": [[\"green smote SVM\"], [8]], \"y\": [null]}, {\"marker\": {\"color\": \"#E45756\"}, \"name\": \"Fmeasure\", \"showlegend\": false, \"type\": \"bar\", \"width\": 0.7, \"x\": [[\"green smote SVM\"], [8]], \"y\": [57.05951]}, {\"marker\": {\"color\": \"#54A24B\", \"line\": {\"color\": \"rgb(8,48,107)\", \"width\": 1.5}}, \"name\": \"MeanAccuracy\", \"offset\": -0.5, \"opacity\": 0.6, \"showlegend\": false, \"type\": \"bar\", \"width\": 10, \"x\": [[\"green smote SVM\"], [9]], \"y\": [null]}, {\"marker\": {\"color\": \"#54A24B\"}, \"name\": \"Accuracy\", \"showlegend\": false, \"type\": \"bar\", \"width\": 0.7, \"x\": [[\"green smote SVM\"], [9]], \"y\": [76.5261]}, {\"marker\": {\"color\": \"#E45756\", \"line\": {\"color\": \"rgb(8,48,107)\", \"width\": 1.5}}, \"name\": \"MeanFmeasure\", \"offset\": -0.5, \"opacity\": 0.6, \"showlegend\": false, \"type\": \"bar\", \"width\": 10, \"x\": [[\"green smote SVM\"], [9]], \"y\": [null]}, {\"marker\": {\"color\": \"#E45756\"}, \"name\": \"Fmeasure\", \"showlegend\": false, \"type\": \"bar\", \"width\": 0.7, \"x\": [[\"green smote SVM\"], [9]], \"y\": [55.3357609]}, {\"marker\": {\"color\": \"#54A24B\", \"line\": {\"color\": \"rgb(8,48,107)\", \"width\": 1.5}}, \"name\": \"MeanAccuracy\", \"offset\": -0.5, \"opacity\": 0.6, \"showlegend\": false, \"type\": \"bar\", \"width\": 10, \"x\": [[\"green smote SVM\"], [10]], \"y\": [null]}, {\"marker\": {\"color\": \"#54A24B\"}, \"name\": \"Accuracy\", \"showlegend\": false, \"type\": \"bar\", \"width\": 0.7, \"x\": [[\"green smote SVM\"], [10]], \"y\": [76.6829]}, {\"marker\": {\"color\": \"#E45756\", \"line\": {\"color\": \"rgb(8,48,107)\", \"width\": 1.5}}, \"name\": \"MeanFmeasure\", \"offset\": -0.5, \"opacity\": 0.6, \"showlegend\": false, \"type\": \"bar\", \"width\": 10, \"x\": [[\"green smote SVM\"], [10]], \"y\": [null]}, {\"marker\": {\"color\": \"#E45756\"}, \"name\": \"Fmeasure\", \"showlegend\": false, \"type\": \"bar\", \"width\": 0.7, \"x\": [[\"green smote SVM\"], [10]], \"y\": [55.0890002]}, {\"marker\": {\"color\": \"#54A24B\", \"line\": {\"color\": \"rgb(8,48,107)\", \"width\": 1.5}}, \"name\": \"MeanAccuracy\", \"offset\": -0.5, \"opacity\": 0.6, \"showlegend\": false, \"type\": \"bar\", \"width\": 10, \"x\": [[\"green smote tree\"], [1]], \"y\": [73.64797474]}, {\"marker\": {\"color\": \"#54A24B\"}, \"name\": \"Accuracy\", \"showlegend\": false, \"type\": \"bar\", \"width\": 0.7, \"x\": [[\"green smote tree\"], [1]], \"y\": [79.6635]}, {\"marker\": {\"color\": \"#E45756\", \"line\": {\"color\": \"rgb(8,48,107)\", \"width\": 1.5}}, \"name\": \"MeanFmeasure\", \"offset\": -0.5, \"opacity\": 0.6, \"showlegend\": false, \"type\": \"bar\", \"width\": 10, \"x\": [[\"green smote tree\"], [1]], \"y\": [33.07811182]}, {\"marker\": {\"color\": \"#E45756\"}, \"name\": \"Fmeasure\", \"showlegend\": false, \"type\": \"bar\", \"width\": 0.7, \"x\": [[\"green smote tree\"], [1]], \"y\": [22.4421577]}, {\"marker\": {\"color\": \"#54A24B\", \"line\": {\"color\": \"rgb(8,48,107)\", \"width\": 1.5}}, \"name\": \"MeanAccuracy\", \"offset\": -0.5, \"opacity\": 0.6, \"showlegend\": false, \"type\": \"bar\", \"width\": 10, \"x\": [[\"green smote tree\"], [2]], \"y\": [null]}, {\"marker\": {\"color\": \"#54A24B\"}, \"name\": \"Accuracy\", \"showlegend\": false, \"type\": \"bar\", \"width\": 0.7, \"x\": [[\"green smote tree\"], [2]], \"y\": [72.8196]}, {\"marker\": {\"color\": \"#E45756\", \"line\": {\"color\": \"rgb(8,48,107)\", \"width\": 1.5}}, \"name\": \"MeanFmeasure\", \"offset\": -0.5, \"opacity\": 0.6, \"showlegend\": false, \"type\": \"bar\", \"width\": 10, \"x\": [[\"green smote tree\"], [2]], \"y\": [null]}, {\"marker\": {\"color\": \"#E45756\"}, \"name\": \"Fmeasure\", \"showlegend\": false, \"type\": \"bar\", \"width\": 0.7, \"x\": [[\"green smote tree\"], [2]], \"y\": [21.978794699999998]}, {\"marker\": {\"color\": \"#54A24B\", \"line\": {\"color\": \"rgb(8,48,107)\", \"width\": 1.5}}, \"name\": \"MeanAccuracy\", \"offset\": -0.5, \"opacity\": 0.6, \"showlegend\": false, \"type\": \"bar\", \"width\": 10, \"x\": [[\"green smote tree\"], [3]], \"y\": [null]}, {\"marker\": {\"color\": \"#54A24B\"}, \"name\": \"Accuracy\", \"showlegend\": false, \"type\": \"bar\", \"width\": 0.7, \"x\": [[\"green smote tree\"], [3]], \"y\": [64.277]}, {\"marker\": {\"color\": \"#E45756\", \"line\": {\"color\": \"rgb(8,48,107)\", \"width\": 1.5}}, \"name\": \"MeanFmeasure\", \"offset\": -0.5, \"opacity\": 0.6, \"showlegend\": false, \"type\": \"bar\", \"width\": 10, \"x\": [[\"green smote tree\"], [3]], \"y\": [null]}, {\"marker\": {\"color\": \"#E45756\"}, \"name\": \"Fmeasure\", \"showlegend\": false, \"type\": \"bar\", \"width\": 0.7, \"x\": [[\"green smote tree\"], [3]], \"y\": [34.373320299999996]}, {\"marker\": {\"color\": \"#54A24B\", \"line\": {\"color\": \"rgb(8,48,107)\", \"width\": 1.5}}, \"name\": \"MeanAccuracy\", \"offset\": -0.5, \"opacity\": 0.6, \"showlegend\": false, \"type\": \"bar\", \"width\": 10, \"x\": [[\"green smote tree\"], [4]], \"y\": [null]}, {\"marker\": {\"color\": \"#54A24B\"}, \"name\": \"Accuracy\", \"showlegend\": false, \"type\": \"bar\", \"width\": 0.7, \"x\": [[\"green smote tree\"], [4]], \"y\": [66.9999]}, {\"marker\": {\"color\": \"#E45756\", \"line\": {\"color\": \"rgb(8,48,107)\", \"width\": 1.5}}, \"name\": \"MeanFmeasure\", \"offset\": -0.5, \"opacity\": 0.6, \"showlegend\": false, \"type\": \"bar\", \"width\": 10, \"x\": [[\"green smote tree\"], [4]], \"y\": [null]}, {\"marker\": {\"color\": \"#E45756\"}, \"name\": \"Fmeasure\", \"showlegend\": false, \"type\": \"bar\", \"width\": 0.7, \"x\": [[\"green smote tree\"], [4]], \"y\": [30.0478886]}, {\"marker\": {\"color\": \"#54A24B\", \"line\": {\"color\": \"rgb(8,48,107)\", \"width\": 1.5}}, \"name\": \"MeanAccuracy\", \"offset\": -0.5, \"opacity\": 0.6, \"showlegend\": false, \"type\": \"bar\", \"width\": 10, \"x\": [[\"green smote tree\"], [5]], \"y\": [null]}, {\"marker\": {\"color\": \"#54A24B\"}, \"name\": \"Accuracy\", \"showlegend\": false, \"type\": \"bar\", \"width\": 0.7, \"x\": [[\"green smote tree\"], [5]], \"y\": [80.0293]}, {\"marker\": {\"color\": \"#E45756\", \"line\": {\"color\": \"rgb(8,48,107)\", \"width\": 1.5}}, \"name\": \"MeanFmeasure\", \"offset\": -0.5, \"opacity\": 0.6, \"showlegend\": false, \"type\": \"bar\", \"width\": 10, \"x\": [[\"green smote tree\"], [5]], \"y\": [null]}, {\"marker\": {\"color\": \"#E45756\"}, \"name\": \"Fmeasure\", \"showlegend\": false, \"type\": \"bar\", \"width\": 0.7, \"x\": [[\"green smote tree\"], [5]], \"y\": [44.922473000000004]}, {\"marker\": {\"color\": \"#54A24B\", \"line\": {\"color\": \"rgb(8,48,107)\", \"width\": 1.5}}, \"name\": \"MeanAccuracy\", \"offset\": -0.5, \"opacity\": 0.6, \"showlegend\": false, \"type\": \"bar\", \"width\": 10, \"x\": [[\"green smote tree\"], [6]], \"y\": [null]}, {\"marker\": {\"color\": \"#54A24B\"}, \"name\": \"Accuracy\", \"showlegend\": false, \"type\": \"bar\", \"width\": 0.7, \"x\": [[\"green smote tree\"], [6]], \"y\": [60.8226]}, {\"marker\": {\"color\": \"#E45756\", \"line\": {\"color\": \"rgb(8,48,107)\", \"width\": 1.5}}, \"name\": \"MeanFmeasure\", \"offset\": -0.5, \"opacity\": 0.6, \"showlegend\": false, \"type\": \"bar\", \"width\": 10, \"x\": [[\"green smote tree\"], [6]], \"y\": [null]}, {\"marker\": {\"color\": \"#E45756\"}, \"name\": \"Fmeasure\", \"showlegend\": false, \"type\": \"bar\", \"width\": 0.7, \"x\": [[\"green smote tree\"], [6]], \"y\": [35.9380473]}, {\"marker\": {\"color\": \"#54A24B\", \"line\": {\"color\": \"#222A2A\", \"width\": 1.5}, \"opacity\": 0.75, \"size\": 10, \"symbol\": 2}, \"mode\": \"markers\", \"type\": \"scatter\", \"x\": [[\"green smote tree\"], [6]], \"y\": [80.3789]}, {\"marker\": {\"color\": \"#E45756\", \"line\": {\"color\": \"#222A2A\", \"width\": 1.5}, \"opacity\": 0.75, \"size\": 10, \"symbol\": 2}, \"mode\": \"markers\", \"type\": \"scatter\", \"x\": [[\"green smote tree\"], [6]], \"y\": [37.043984]}, {\"marker\": {\"color\": \"#54A24B\", \"line\": {\"color\": \"rgb(8,48,107)\", \"width\": 1.5}}, \"name\": \"MeanAccuracy\", \"offset\": -0.5, \"opacity\": 0.6, \"showlegend\": false, \"type\": \"bar\", \"width\": 10, \"x\": [[\"green smote tree\"], [7]], \"y\": [null]}, {\"marker\": {\"color\": \"#54A24B\"}, \"name\": \"Accuracy\", \"showlegend\": false, \"type\": \"bar\", \"width\": 0.7, \"x\": [[\"green smote tree\"], [7]], \"y\": [80.3463]}, {\"marker\": {\"color\": \"#E45756\", \"line\": {\"color\": \"rgb(8,48,107)\", \"width\": 1.5}}, \"name\": \"MeanFmeasure\", \"offset\": -0.5, \"opacity\": 0.6, \"showlegend\": false, \"type\": \"bar\", \"width\": 10, \"x\": [[\"green smote tree\"], [7]], \"y\": [null]}, {\"marker\": {\"color\": \"#E45756\"}, \"name\": \"Fmeasure\", \"showlegend\": false, \"type\": \"bar\", \"width\": 0.7, \"x\": [[\"green smote tree\"], [7]], \"y\": [33.241831899999994]}, {\"marker\": {\"color\": \"#54A24B\", \"line\": {\"color\": \"rgb(8,48,107)\", \"width\": 1.5}}, \"name\": \"MeanAccuracy\", \"offset\": -0.5, \"opacity\": 0.6, \"showlegend\": false, \"type\": \"bar\", \"width\": 10, \"x\": [[\"green smote tree\"], [8]], \"y\": [null]}, {\"marker\": {\"color\": \"#54A24B\"}, \"name\": \"Accuracy\", \"showlegend\": false, \"type\": \"bar\", \"width\": 0.7, \"x\": [[\"green smote tree\"], [8]], \"y\": [79.4603]}, {\"marker\": {\"color\": \"#E45756\", \"line\": {\"color\": \"rgb(8,48,107)\", \"width\": 1.5}}, \"name\": \"MeanFmeasure\", \"offset\": -0.5, \"opacity\": 0.6, \"showlegend\": false, \"type\": \"bar\", \"width\": 10, \"x\": [[\"green smote tree\"], [8]], \"y\": [null]}, {\"marker\": {\"color\": \"#E45756\"}, \"name\": \"Fmeasure\", \"showlegend\": false, \"type\": \"bar\", \"width\": 0.7, \"x\": [[\"green smote tree\"], [8]], \"y\": [26.647292]}, {\"marker\": {\"color\": \"#54A24B\", \"line\": {\"color\": \"rgb(8,48,107)\", \"width\": 1.5}}, \"name\": \"MeanAccuracy\", \"offset\": -0.5, \"opacity\": 0.6, \"showlegend\": false, \"type\": \"bar\", \"width\": 10, \"x\": [[\"green smote tree\"], [9]], \"y\": [null]}, {\"marker\": {\"color\": \"#54A24B\"}, \"name\": \"Accuracy\", \"showlegend\": false, \"type\": \"bar\", \"width\": 0.7, \"x\": [[\"green smote tree\"], [9]], \"y\": [77.5177]}, {\"marker\": {\"color\": \"#E45756\", \"line\": {\"color\": \"rgb(8,48,107)\", \"width\": 1.5}}, \"name\": \"MeanFmeasure\", \"offset\": -0.5, \"opacity\": 0.6, \"showlegend\": false, \"type\": \"bar\", \"width\": 10, \"x\": [[\"green smote tree\"], [9]], \"y\": [null]}, {\"marker\": {\"color\": \"#E45756\"}, \"name\": \"Fmeasure\", \"showlegend\": false, \"type\": \"bar\", \"width\": 0.7, \"x\": [[\"green smote tree\"], [9]], \"y\": [45.486918200000005]}, {\"marker\": {\"color\": \"#54A24B\", \"line\": {\"color\": \"rgb(8,48,107)\", \"width\": 1.5}}, \"name\": \"MeanAccuracy\", \"offset\": -0.5, \"opacity\": 0.6, \"showlegend\": false, \"type\": \"bar\", \"width\": 10, \"x\": [[\"green smote tree\"], [10]], \"y\": [null]}, {\"marker\": {\"color\": \"#54A24B\"}, \"name\": \"Accuracy\", \"showlegend\": false, \"type\": \"bar\", \"width\": 0.7, \"x\": [[\"green smote tree\"], [10]], \"y\": [78.0081]}, {\"marker\": {\"color\": \"#E45756\", \"line\": {\"color\": \"rgb(8,48,107)\", \"width\": 1.5}}, \"name\": \"MeanFmeasure\", \"offset\": -0.5, \"opacity\": 0.6, \"showlegend\": false, \"type\": \"bar\", \"width\": 10, \"x\": [[\"green smote tree\"], [10]], \"y\": [null]}, {\"marker\": {\"color\": \"#E45756\"}, \"name\": \"Fmeasure\", \"showlegend\": false, \"type\": \"bar\", \"width\": 0.7, \"x\": [[\"green smote tree\"], [10]], \"y\": [35.702394500000004]}, {\"marker\": {\"color\": \"#4C78A8\", \"line\": {\"color\": \"rgb(8,48,107)\", \"width\": 1.5}}, \"name\": \"MeanAccuracy\", \"offset\": -0.5, \"opacity\": 0.6, \"showlegend\": false, \"type\": \"bar\", \"width\": 10, \"x\": [[\"blue smote SVM\"], [1]], \"y\": [67.07253751]}, {\"marker\": {\"color\": \"#4C78A8\"}, \"name\": \"Accuracy\", \"showlegend\": false, \"type\": \"bar\", \"width\": 0.7, \"x\": [[\"blue smote SVM\"], [1]], \"y\": [76.4204]}, {\"marker\": {\"color\": \"#E45756\", \"line\": {\"color\": \"rgb(8,48,107)\", \"width\": 1.5}}, \"name\": \"MeanFmeasure\", \"offset\": -0.5, \"opacity\": 0.6, \"showlegend\": false, \"type\": \"bar\", \"width\": 10, \"x\": [[\"blue smote SVM\"], [1]], \"y\": [48.14122575]}, {\"marker\": {\"color\": \"#E45756\"}, \"name\": \"Fmeasure\", \"showlegend\": false, \"type\": \"bar\", \"width\": 0.7, \"x\": [[\"blue smote SVM\"], [1]], \"y\": [55.3758505]}, {\"marker\": {\"color\": \"#4C78A8\", \"line\": {\"color\": \"rgb(8,48,107)\", \"width\": 1.5}}, \"name\": \"MeanAccuracy\", \"offset\": -0.5, \"opacity\": 0.6, \"showlegend\": false, \"type\": \"bar\", \"width\": 10, \"x\": [[\"blue smote SVM\"], [2]], \"y\": [null]}, {\"marker\": {\"color\": \"#4C78A8\"}, \"name\": \"Accuracy\", \"showlegend\": false, \"type\": \"bar\", \"width\": 0.7, \"x\": [[\"blue smote SVM\"], [2]], \"y\": [77.1438]}, {\"marker\": {\"color\": \"#E45756\", \"line\": {\"color\": \"rgb(8,48,107)\", \"width\": 1.5}}, \"name\": \"MeanFmeasure\", \"offset\": -0.5, \"opacity\": 0.6, \"showlegend\": false, \"type\": \"bar\", \"width\": 10, \"x\": [[\"blue smote SVM\"], [2]], \"y\": [null]}, {\"marker\": {\"color\": \"#E45756\"}, \"name\": \"Fmeasure\", \"showlegend\": false, \"type\": \"bar\", \"width\": 0.7, \"x\": [[\"blue smote SVM\"], [2]], \"y\": [56.7116324]}, {\"marker\": {\"color\": \"#4C78A8\", \"line\": {\"color\": \"rgb(8,48,107)\", \"width\": 1.5}}, \"name\": \"MeanAccuracy\", \"offset\": -0.5, \"opacity\": 0.6, \"showlegend\": false, \"type\": \"bar\", \"width\": 10, \"x\": [[\"blue smote SVM\"], [3]], \"y\": [null]}, {\"marker\": {\"color\": \"#4C78A8\"}, \"name\": \"Accuracy\", \"showlegend\": false, \"type\": \"bar\", \"width\": 0.7, \"x\": [[\"blue smote SVM\"], [3]], \"y\": [80.9721]}, {\"marker\": {\"color\": \"#E45756\", \"line\": {\"color\": \"rgb(8,48,107)\", \"width\": 1.5}}, \"name\": \"MeanFmeasure\", \"offset\": -0.5, \"opacity\": 0.6, \"showlegend\": false, \"type\": \"bar\", \"width\": 10, \"x\": [[\"blue smote SVM\"], [3]], \"y\": [null]}, {\"marker\": {\"color\": \"#E45756\"}, \"name\": \"Fmeasure\", \"showlegend\": false, \"type\": \"bar\", \"width\": 0.7, \"x\": [[\"blue smote SVM\"], [3]], \"y\": [0.0]}, {\"marker\": {\"color\": \"#4C78A8\", \"line\": {\"color\": \"rgb(8,48,107)\", \"width\": 1.5}}, \"name\": \"MeanAccuracy\", \"offset\": -0.5, \"opacity\": 0.6, \"showlegend\": false, \"type\": \"bar\", \"width\": 10, \"x\": [[\"blue smote SVM\"], [4]], \"y\": [null]}, {\"marker\": {\"color\": \"#4C78A8\"}, \"name\": \"Accuracy\", \"showlegend\": false, \"type\": \"bar\", \"width\": 0.7, \"x\": [[\"blue smote SVM\"], [4]], \"y\": [76.7699]}, {\"marker\": {\"color\": \"#E45756\", \"line\": {\"color\": \"rgb(8,48,107)\", \"width\": 1.5}}, \"name\": \"MeanFmeasure\", \"offset\": -0.5, \"opacity\": 0.6, \"showlegend\": false, \"type\": \"bar\", \"width\": 10, \"x\": [[\"blue smote SVM\"], [4]], \"y\": [null]}, {\"marker\": {\"color\": \"#E45756\"}, \"name\": \"Fmeasure\", \"showlegend\": false, \"type\": \"bar\", \"width\": 0.7, \"x\": [[\"blue smote SVM\"], [4]], \"y\": [57.4067026]}, {\"marker\": {\"color\": \"#4C78A8\", \"line\": {\"color\": \"rgb(8,48,107)\", \"width\": 1.5}}, \"name\": \"MeanAccuracy\", \"offset\": -0.5, \"opacity\": 0.6, \"showlegend\": false, \"type\": \"bar\", \"width\": 10, \"x\": [[\"blue smote SVM\"], [5]], \"y\": [null]}, {\"marker\": {\"color\": \"#4C78A8\"}, \"name\": \"Accuracy\", \"showlegend\": false, \"type\": \"bar\", \"width\": 0.7, \"x\": [[\"blue smote SVM\"], [5]], \"y\": [76.2009]}, {\"marker\": {\"color\": \"#E45756\", \"line\": {\"color\": \"rgb(8,48,107)\", \"width\": 1.5}}, \"name\": \"MeanFmeasure\", \"offset\": -0.5, \"opacity\": 0.6, \"showlegend\": false, \"type\": \"bar\", \"width\": 10, \"x\": [[\"blue smote SVM\"], [5]], \"y\": [null]}, {\"marker\": {\"color\": \"#E45756\"}, \"name\": \"Fmeasure\", \"showlegend\": false, \"type\": \"bar\", \"width\": 0.7, \"x\": [[\"blue smote SVM\"], [5]], \"y\": [55.6499141]}, {\"marker\": {\"color\": \"#4C78A8\", \"line\": {\"color\": \"rgb(8,48,107)\", \"width\": 1.5}}, \"name\": \"MeanAccuracy\", \"offset\": -0.5, \"opacity\": 0.6, \"showlegend\": false, \"type\": \"bar\", \"width\": 10, \"x\": [[\"blue smote SVM\"], [6]], \"y\": [null]}, {\"marker\": {\"color\": \"#4C78A8\"}, \"name\": \"Accuracy\", \"showlegend\": false, \"type\": \"bar\", \"width\": 0.7, \"x\": [[\"blue smote SVM\"], [6]], \"y\": [19.0766]}, {\"marker\": {\"color\": \"#E45756\", \"line\": {\"color\": \"rgb(8,48,107)\", \"width\": 1.5}}, \"name\": \"MeanFmeasure\", \"offset\": -0.5, \"opacity\": 0.6, \"showlegend\": false, \"type\": \"bar\", \"width\": 10, \"x\": [[\"blue smote SVM\"], [6]], \"y\": [null]}, {\"marker\": {\"color\": \"#E45756\"}, \"name\": \"Fmeasure\", \"showlegend\": false, \"type\": \"bar\", \"width\": 0.7, \"x\": [[\"blue smote SVM\"], [6]], \"y\": [31.985013100000003]}, {\"marker\": {\"color\": \"#4C78A8\", \"line\": {\"color\": \"#222A2A\", \"width\": 1.5}, \"opacity\": 0.75, \"size\": 10, \"symbol\": 2}, \"mode\": \"markers\", \"type\": \"scatter\", \"x\": [[\"blue smote SVM\"], [6]], \"y\": [75.545]}, {\"marker\": {\"color\": \"#E45756\", \"line\": {\"color\": \"#222A2A\", \"width\": 1.5}, \"opacity\": 0.75, \"size\": 10, \"symbol\": 2}, \"mode\": \"markers\", \"type\": \"scatter\", \"x\": [[\"blue smote SVM\"], [6]], \"y\": [57.75690982]}, {\"marker\": {\"color\": \"#4C78A8\", \"line\": {\"color\": \"rgb(8,48,107)\", \"width\": 1.5}}, \"name\": \"MeanAccuracy\", \"offset\": -0.5, \"opacity\": 0.6, \"showlegend\": false, \"type\": \"bar\", \"width\": 10, \"x\": [[\"blue smote SVM\"], [7]], \"y\": [null]}, {\"marker\": {\"color\": \"#4C78A8\"}, \"name\": \"Accuracy\", \"showlegend\": false, \"type\": \"bar\", \"width\": 0.7, \"x\": [[\"blue smote SVM\"], [7]], \"y\": [76.4448]}, {\"marker\": {\"color\": \"#E45756\", \"line\": {\"color\": \"rgb(8,48,107)\", \"width\": 1.5}}, \"name\": \"MeanFmeasure\", \"offset\": -0.5, \"opacity\": 0.6, \"showlegend\": false, \"type\": \"bar\", \"width\": 10, \"x\": [[\"blue smote SVM\"], [7]], \"y\": [null]}, {\"marker\": {\"color\": \"#E45756\"}, \"name\": \"Fmeasure\", \"showlegend\": false, \"type\": \"bar\", \"width\": 0.7, \"x\": [[\"blue smote SVM\"], [7]], \"y\": [54.8879726]}, {\"marker\": {\"color\": \"#4C78A8\", \"line\": {\"color\": \"rgb(8,48,107)\", \"width\": 1.5}}, \"name\": \"MeanAccuracy\", \"offset\": -0.5, \"opacity\": 0.6, \"showlegend\": false, \"type\": \"bar\", \"width\": 10, \"x\": [[\"blue smote SVM\"], [8]], \"y\": [null]}, {\"marker\": {\"color\": \"#4C78A8\"}, \"name\": \"Accuracy\", \"showlegend\": false, \"type\": \"bar\", \"width\": 0.7, \"x\": [[\"blue smote SVM\"], [8]], \"y\": [77.4445]}, {\"marker\": {\"color\": \"#E45756\", \"line\": {\"color\": \"rgb(8,48,107)\", \"width\": 1.5}}, \"name\": \"MeanFmeasure\", \"offset\": -0.5, \"opacity\": 0.6, \"showlegend\": false, \"type\": \"bar\", \"width\": 10, \"x\": [[\"blue smote SVM\"], [8]], \"y\": [null]}, {\"marker\": {\"color\": \"#E45756\"}, \"name\": \"Fmeasure\", \"showlegend\": false, \"type\": \"bar\", \"width\": 0.7, \"x\": [[\"blue smote SVM\"], [8]], \"y\": [57.91021670000001]}, {\"marker\": {\"color\": \"#4C78A8\", \"line\": {\"color\": \"rgb(8,48,107)\", \"width\": 1.5}}, \"name\": \"MeanAccuracy\", \"offset\": -0.5, \"opacity\": 0.6, \"showlegend\": false, \"type\": \"bar\", \"width\": 10, \"x\": [[\"blue smote SVM\"], [9]], \"y\": [null]}, {\"marker\": {\"color\": \"#4C78A8\"}, \"name\": \"Accuracy\", \"showlegend\": false, \"type\": \"bar\", \"width\": 0.7, \"x\": [[\"blue smote SVM\"], [9]], \"y\": [76.7049]}, {\"marker\": {\"color\": \"#E45756\", \"line\": {\"color\": \"rgb(8,48,107)\", \"width\": 1.5}}, \"name\": \"MeanFmeasure\", \"offset\": -0.5, \"opacity\": 0.6, \"showlegend\": false, \"type\": \"bar\", \"width\": 10, \"x\": [[\"blue smote SVM\"], [9]], \"y\": [null]}, {\"marker\": {\"color\": \"#E45756\"}, \"name\": \"Fmeasure\", \"showlegend\": false, \"type\": \"bar\", \"width\": 0.7, \"x\": [[\"blue smote SVM\"], [9]], \"y\": [56.40426360000001]}, {\"marker\": {\"color\": \"#4C78A8\", \"line\": {\"color\": \"rgb(8,48,107)\", \"width\": 1.5}}, \"name\": \"MeanAccuracy\", \"offset\": -0.5, \"opacity\": 0.6, \"showlegend\": false, \"type\": \"bar\", \"width\": 10, \"x\": [[\"blue smote SVM\"], [10]], \"y\": [null]}, {\"marker\": {\"color\": \"#4C78A8\"}, \"name\": \"Accuracy\", \"showlegend\": false, \"type\": \"bar\", \"width\": 0.7, \"x\": [[\"blue smote SVM\"], [10]], \"y\": [76.1707]}, {\"marker\": {\"color\": \"#E45756\", \"line\": {\"color\": \"rgb(8,48,107)\", \"width\": 1.5}}, \"name\": \"MeanFmeasure\", \"offset\": -0.5, \"opacity\": 0.6, \"showlegend\": false, \"type\": \"bar\", \"width\": 10, \"x\": [[\"blue smote SVM\"], [10]], \"y\": [null]}, {\"marker\": {\"color\": \"#E45756\"}, \"name\": \"Fmeasure\", \"showlegend\": false, \"type\": \"bar\", \"width\": 0.7, \"x\": [[\"blue smote SVM\"], [10]], \"y\": [55.0806919]}],\n                        {\"barmode\": \"overlay\", \"height\": 400, \"margin\": {\"b\": 10, \"l\": 10, \"pad\": 2, \"r\": 10, \"t\": 10}, \"template\": {\"data\": {\"bar\": [{\"error_x\": {\"color\": \"#2a3f5f\"}, \"error_y\": {\"color\": \"#2a3f5f\"}, \"marker\": {\"line\": {\"color\": \"#E5ECF6\", \"width\": 0.5}}, \"type\": \"bar\"}], \"barpolar\": [{\"marker\": {\"line\": {\"color\": \"#E5ECF6\", \"width\": 0.5}}, \"type\": \"barpolar\"}], \"carpet\": [{\"aaxis\": {\"endlinecolor\": \"#2a3f5f\", \"gridcolor\": \"white\", \"linecolor\": \"white\", \"minorgridcolor\": \"white\", \"startlinecolor\": \"#2a3f5f\"}, \"baxis\": {\"endlinecolor\": \"#2a3f5f\", \"gridcolor\": \"white\", \"linecolor\": \"white\", \"minorgridcolor\": \"white\", \"startlinecolor\": \"#2a3f5f\"}, \"type\": \"carpet\"}], \"choropleth\": [{\"colorbar\": {\"outlinewidth\": 0, \"ticks\": \"\"}, \"type\": \"choropleth\"}], \"contour\": [{\"colorbar\": {\"outlinewidth\": 0, \"ticks\": \"\"}, \"colorscale\": [[0.0, \"#0d0887\"], [0.1111111111111111, \"#46039f\"], [0.2222222222222222, \"#7201a8\"], [0.3333333333333333, \"#9c179e\"], [0.4444444444444444, \"#bd3786\"], [0.5555555555555556, \"#d8576b\"], [0.6666666666666666, \"#ed7953\"], [0.7777777777777778, \"#fb9f3a\"], [0.8888888888888888, \"#fdca26\"], [1.0, \"#f0f921\"]], \"type\": \"contour\"}], \"contourcarpet\": [{\"colorbar\": {\"outlinewidth\": 0, \"ticks\": \"\"}, \"type\": \"contourcarpet\"}], \"heatmap\": [{\"colorbar\": {\"outlinewidth\": 0, \"ticks\": \"\"}, \"colorscale\": [[0.0, \"#0d0887\"], [0.1111111111111111, \"#46039f\"], [0.2222222222222222, \"#7201a8\"], [0.3333333333333333, \"#9c179e\"], [0.4444444444444444, \"#bd3786\"], [0.5555555555555556, \"#d8576b\"], [0.6666666666666666, \"#ed7953\"], [0.7777777777777778, \"#fb9f3a\"], [0.8888888888888888, \"#fdca26\"], [1.0, \"#f0f921\"]], \"type\": \"heatmap\"}], \"heatmapgl\": [{\"colorbar\": {\"outlinewidth\": 0, \"ticks\": \"\"}, \"colorscale\": [[0.0, \"#0d0887\"], [0.1111111111111111, \"#46039f\"], [0.2222222222222222, \"#7201a8\"], [0.3333333333333333, \"#9c179e\"], [0.4444444444444444, \"#bd3786\"], [0.5555555555555556, \"#d8576b\"], [0.6666666666666666, \"#ed7953\"], [0.7777777777777778, \"#fb9f3a\"], [0.8888888888888888, \"#fdca26\"], [1.0, \"#f0f921\"]], \"type\": \"heatmapgl\"}], \"histogram\": [{\"marker\": {\"colorbar\": {\"outlinewidth\": 0, \"ticks\": \"\"}}, \"type\": \"histogram\"}], \"histogram2d\": [{\"colorbar\": {\"outlinewidth\": 0, \"ticks\": \"\"}, \"colorscale\": [[0.0, \"#0d0887\"], [0.1111111111111111, \"#46039f\"], [0.2222222222222222, \"#7201a8\"], [0.3333333333333333, \"#9c179e\"], [0.4444444444444444, \"#bd3786\"], [0.5555555555555556, \"#d8576b\"], [0.6666666666666666, \"#ed7953\"], [0.7777777777777778, \"#fb9f3a\"], [0.8888888888888888, \"#fdca26\"], [1.0, \"#f0f921\"]], \"type\": \"histogram2d\"}], \"histogram2dcontour\": [{\"colorbar\": {\"outlinewidth\": 0, \"ticks\": \"\"}, \"colorscale\": [[0.0, \"#0d0887\"], [0.1111111111111111, \"#46039f\"], [0.2222222222222222, \"#7201a8\"], [0.3333333333333333, \"#9c179e\"], [0.4444444444444444, \"#bd3786\"], [0.5555555555555556, \"#d8576b\"], [0.6666666666666666, \"#ed7953\"], [0.7777777777777778, \"#fb9f3a\"], [0.8888888888888888, \"#fdca26\"], [1.0, \"#f0f921\"]], \"type\": \"histogram2dcontour\"}], \"mesh3d\": [{\"colorbar\": {\"outlinewidth\": 0, \"ticks\": \"\"}, \"type\": \"mesh3d\"}], \"parcoords\": [{\"line\": {\"colorbar\": {\"outlinewidth\": 0, \"ticks\": \"\"}}, \"type\": \"parcoords\"}], \"pie\": [{\"automargin\": true, \"type\": \"pie\"}], \"scatter\": [{\"marker\": {\"colorbar\": {\"outlinewidth\": 0, \"ticks\": \"\"}}, \"type\": \"scatter\"}], \"scatter3d\": [{\"line\": {\"colorbar\": {\"outlinewidth\": 0, \"ticks\": \"\"}}, \"marker\": {\"colorbar\": {\"outlinewidth\": 0, \"ticks\": \"\"}}, \"type\": \"scatter3d\"}], \"scattercarpet\": [{\"marker\": {\"colorbar\": {\"outlinewidth\": 0, \"ticks\": \"\"}}, \"type\": \"scattercarpet\"}], \"scattergeo\": [{\"marker\": {\"colorbar\": {\"outlinewidth\": 0, \"ticks\": \"\"}}, \"type\": \"scattergeo\"}], \"scattergl\": [{\"marker\": {\"colorbar\": {\"outlinewidth\": 0, \"ticks\": \"\"}}, \"type\": \"scattergl\"}], \"scattermapbox\": [{\"marker\": {\"colorbar\": {\"outlinewidth\": 0, \"ticks\": \"\"}}, \"type\": \"scattermapbox\"}], \"scatterpolar\": [{\"marker\": {\"colorbar\": {\"outlinewidth\": 0, \"ticks\": \"\"}}, \"type\": \"scatterpolar\"}], \"scatterpolargl\": [{\"marker\": {\"colorbar\": {\"outlinewidth\": 0, \"ticks\": \"\"}}, \"type\": \"scatterpolargl\"}], \"scatterternary\": [{\"marker\": {\"colorbar\": {\"outlinewidth\": 0, \"ticks\": \"\"}}, \"type\": \"scatterternary\"}], \"surface\": [{\"colorbar\": {\"outlinewidth\": 0, \"ticks\": \"\"}, \"colorscale\": [[0.0, \"#0d0887\"], [0.1111111111111111, \"#46039f\"], [0.2222222222222222, \"#7201a8\"], [0.3333333333333333, \"#9c179e\"], [0.4444444444444444, \"#bd3786\"], [0.5555555555555556, \"#d8576b\"], [0.6666666666666666, \"#ed7953\"], [0.7777777777777778, \"#fb9f3a\"], [0.8888888888888888, \"#fdca26\"], [1.0, \"#f0f921\"]], \"type\": \"surface\"}], \"table\": [{\"cells\": {\"fill\": {\"color\": \"#EBF0F8\"}, \"line\": {\"color\": \"white\"}}, \"header\": {\"fill\": {\"color\": \"#C8D4E3\"}, \"line\": {\"color\": \"white\"}}, \"type\": \"table\"}]}, \"layout\": {\"annotationdefaults\": {\"arrowcolor\": \"#2a3f5f\", \"arrowhead\": 0, \"arrowwidth\": 1}, \"coloraxis\": {\"colorbar\": {\"outlinewidth\": 0, \"ticks\": \"\"}}, \"colorscale\": {\"diverging\": [[0, \"#8e0152\"], [0.1, \"#c51b7d\"], [0.2, \"#de77ae\"], [0.3, \"#f1b6da\"], [0.4, \"#fde0ef\"], [0.5, \"#f7f7f7\"], [0.6, \"#e6f5d0\"], [0.7, \"#b8e186\"], [0.8, \"#7fbc41\"], [0.9, \"#4d9221\"], [1, \"#276419\"]], \"sequential\": [[0.0, \"#0d0887\"], [0.1111111111111111, \"#46039f\"], [0.2222222222222222, \"#7201a8\"], [0.3333333333333333, \"#9c179e\"], [0.4444444444444444, \"#bd3786\"], [0.5555555555555556, \"#d8576b\"], [0.6666666666666666, \"#ed7953\"], [0.7777777777777778, \"#fb9f3a\"], [0.8888888888888888, \"#fdca26\"], [1.0, \"#f0f921\"]], \"sequentialminus\": [[0.0, \"#0d0887\"], [0.1111111111111111, \"#46039f\"], [0.2222222222222222, \"#7201a8\"], [0.3333333333333333, \"#9c179e\"], [0.4444444444444444, \"#bd3786\"], [0.5555555555555556, \"#d8576b\"], [0.6666666666666666, \"#ed7953\"], [0.7777777777777778, \"#fb9f3a\"], [0.8888888888888888, \"#fdca26\"], [1.0, \"#f0f921\"]]}, \"colorway\": [\"#636efa\", \"#EF553B\", \"#00cc96\", \"#ab63fa\", \"#FFA15A\", \"#19d3f3\", \"#FF6692\", \"#B6E880\", \"#FF97FF\", \"#FECB52\"], \"font\": {\"color\": \"#2a3f5f\"}, \"geo\": {\"bgcolor\": \"white\", \"lakecolor\": \"white\", \"landcolor\": \"#E5ECF6\", \"showlakes\": true, \"showland\": true, \"subunitcolor\": \"white\"}, \"hoverlabel\": {\"align\": \"left\"}, \"hovermode\": \"closest\", \"mapbox\": {\"style\": \"light\"}, \"paper_bgcolor\": \"white\", \"plot_bgcolor\": \"#E5ECF6\", \"polar\": {\"angularaxis\": {\"gridcolor\": \"white\", \"linecolor\": \"white\", \"ticks\": \"\"}, \"bgcolor\": \"#E5ECF6\", \"radialaxis\": {\"gridcolor\": \"white\", \"linecolor\": \"white\", \"ticks\": \"\"}}, \"scene\": {\"xaxis\": {\"backgroundcolor\": \"#E5ECF6\", \"gridcolor\": \"white\", \"gridwidth\": 2, \"linecolor\": \"white\", \"showbackground\": true, \"ticks\": \"\", \"zerolinecolor\": \"white\"}, \"yaxis\": {\"backgroundcolor\": \"#E5ECF6\", \"gridcolor\": \"white\", \"gridwidth\": 2, \"linecolor\": \"white\", \"showbackground\": true, \"ticks\": \"\", \"zerolinecolor\": \"white\"}, \"zaxis\": {\"backgroundcolor\": \"#E5ECF6\", \"gridcolor\": \"white\", \"gridwidth\": 2, \"linecolor\": \"white\", \"showbackground\": true, \"ticks\": \"\", \"zerolinecolor\": \"white\"}}, \"shapedefaults\": {\"line\": {\"color\": \"#2a3f5f\"}}, \"ternary\": {\"aaxis\": {\"gridcolor\": \"white\", \"linecolor\": \"white\", \"ticks\": \"\"}, \"baxis\": {\"gridcolor\": \"white\", \"linecolor\": \"white\", \"ticks\": \"\"}, \"bgcolor\": \"#E5ECF6\", \"caxis\": {\"gridcolor\": \"white\", \"linecolor\": \"white\", \"ticks\": \"\"}}, \"title\": {\"x\": 0.05}, \"xaxis\": {\"automargin\": true, \"gridcolor\": \"white\", \"linecolor\": \"white\", \"ticks\": \"\", \"title\": {\"standoff\": 15}, \"zerolinecolor\": \"white\", \"zerolinewidth\": 2}, \"yaxis\": {\"automargin\": true, \"gridcolor\": \"white\", \"linecolor\": \"white\", \"ticks\": \"\", \"title\": {\"standoff\": 15}, \"zerolinecolor\": \"white\", \"zerolinewidth\": 2}}}, \"width\": 1000, \"xaxis\": {\"linecolor\": \"black\", \"mirror\": true, \"range\": [-1, 60], \"tickfont\": {\"size\": 10}, \"title\": {\"text\": \"K-fold test - Experiment\"}}, \"yaxis\": {\"dtick\": 5, \"linecolor\": \"black\", \"mirror\": true, \"range\": [0, 85], \"tick0\": 0, \"title\": {\"text\": \"Fmeasure - Accuracy\"}}},\n                        {\"responsive\": true}\n                    ).then(function(){\n                            \nvar gd = document.getElementById('4eb968d9-c221-4b11-9844-2404ef668320');\nvar x = new MutationObserver(function (mutations, observer) {{\n        var display = window.getComputedStyle(gd).display;\n        if (!display || display === 'none') {{\n            console.log([gd, 'removed!']);\n            Plotly.purge(gd);\n            observer.disconnect();\n        }}\n}});\n\n// Listen for the removal of the full notebook cells\nvar notebookContainer = gd.closest('#notebook-container');\nif (notebookContainer) {{\n    x.observe(notebookContainer, {childList: true});\n}}\n\n// Listen for the clearing of the current output cell\nvar outputEl = gd.closest('.output');\nif (outputEl) {{\n    x.observe(outputEl, {childList: true});\n}}\n\n                        })\n                };\n                });\n            </script>\n        </div>"
     },
     "metadata": {}
    }
   ],
   "source": [
    "# function below sets the color based on amount\n",
    "def SetMarkerForm(x):\n",
    "    Symbol1=0 # Imbalanced\n",
    "    Symbol2=5 # Random\n",
    "    Symbol3=2 # SMOTE\n",
    "\n",
    "    if(x==\"Imbalanced\"):\n",
    "        return Symbol1\n",
    "    elif(x==\"random undersampling\"):\n",
    "        return Symbol2\n",
    "    else:\n",
    "        return Symbol3\n",
    "\n",
    "# function below sets the color based on amount\n",
    "def SetMarkerColor(x):\n",
    "    color1=px.colors.qualitative.T10[0] # Complete - blue\n",
    "    color2=px.colors.qualitative.T10[2] # No cleaning - red\n",
    "    color3=px.colors.qualitative.T10[0] # No filtering - orange\n",
    "    color4=px.colors.qualitative.T10[0] # No segment - celeste\n",
    "    color5=px.colors.qualitative.T10[0] # Reduced inputs - green\n",
    "\n",
    "    if(x==\"Complete\"):\n",
    "        return color1\n",
    "    elif(x==\"No cleaning\"):\n",
    "        return color2\n",
    "    elif(x==\"No filtering\"):\n",
    "        return color3\n",
    "    elif(x==\"No segment\"):\n",
    "        return color4\n",
    "    else:\n",
    "        return color5\n",
    "\n",
    "# function below sets the color based on amount\n",
    "def SetBorderMarkerColor(x):\n",
    "    borderColorSVM  = px.colors.qualitative.T10[7]    # Pastel pink\n",
    "    borderColorTree = px.colors.qualitative.Dark24[5] # Black\n",
    "    if(x==\"SVM\"):\n",
    "        return borderColorSVM\n",
    "    elif(x==\"Tree\"):\n",
    "        return borderColorTree\n",
    "    else:\n",
    "        return borderColorTree\n",
    "\n",
    "FmeasureColor = px.colors.qualitative.T10[2]\n",
    "\n",
    "\n",
    "fig = go.Figure()\n",
    "\n",
    "for i in range(len(data)):\n",
    "    idxMean = max( 0, math.floor((i-1)/10) )\n",
    "    markerSel   = SetMarkerForm(data.balanceType[i])\n",
    "    colorSel    = SetMarkerColor(data.Setting[i])\n",
    "    borderColor = SetBorderMarkerColor(data.classifierType[i])\n",
    "\n",
    "    fig.add_trace( # Accuracy K-Fold Mean\n",
    "        go.Bar(\n",
    "            x=[ [data.Name.values[i]], [data.foldExecuted.values[i]] ],\n",
    "            y=[data.MeanAccuracy.values[i]],\n",
    "            name=\"MeanAccuracy\",\n",
    "            width=10,\n",
    "            offset=-0.5,\n",
    "            marker_color=colorSel,\n",
    "            marker_line_color='rgb(8,48,107)',\n",
    "            marker_line_width=1.5,\n",
    "            opacity=0.6,\n",
    "            showlegend=True if i==1 else False,\n",
    "        )\n",
    "    )\n",
    "    fig.add_trace( # Accuracy each k-fold\n",
    "        go.Bar(\n",
    "            x=[ [data.Name.values[i]], [data.foldExecuted.values[i]] ],\n",
    "            y=[data.accuracy.values[i]],\n",
    "            name=\"Accuracy\",\n",
    "            width=0.7,\n",
    "            marker_color=colorSel,\n",
    "            showlegend=True if i==1 else False,\n",
    "        )\n",
    "    )\n",
    "    fig.add_trace( # F-measure K-Fold Mean\n",
    "        go.Bar(\n",
    "            x=[ [data.Name.values[i]], [data.foldExecuted.values[i]] ],\n",
    "            y=[data.MeanFMeasure.values[i]],\n",
    "            name=\"MeanFmeasure\",\n",
    "            width=10,\n",
    "            offset=-0.5,\n",
    "            marker_color=FmeasureColor,\n",
    "            marker_line_color='rgb(8,48,107)',\n",
    "            marker_line_width=1.5,\n",
    "            opacity=0.6,\n",
    "            showlegend=True if i==1 else False,\n",
    "        )\n",
    "    )\n",
    "    \n",
    "    fig.add_trace( # F-measure each k-fold\n",
    "        go.Bar(\n",
    "            x=[ [data.Name.values[i]], [data.foldExecuted.values[i]] ],\n",
    "            y=[data.Fmeasure.values[i]*100],\n",
    "            name=\"Fmeasure\",\n",
    "            width=0.7,\n",
    "            marker_color=FmeasureColor,\n",
    "            showlegend=True if i==1 else False,\n",
    "        )\n",
    "    )\n",
    "\n",
    "    if (i % 10) == 5:\n",
    "        fig.add_trace( # LINEA Accuracy Test\n",
    "            go.Scatter(\n",
    "                x=[ [data.Name.values[i]], [data.foldExecuted.values[i]] ],\n",
    "                y=[dataTest.TestAccuracy.values[idxMean]],\n",
    "                mode='markers',\n",
    "                marker={\n",
    "                    'symbol': markerSel,\n",
    "                    'color' : colorSel,\n",
    "                    'size'  : 10,\n",
    "                    'opacity': 0.75,\n",
    "                    'line'  : {\n",
    "                        'width': 1.5,\n",
    "                        'color': borderColor,\n",
    "                    },\n",
    "                },\n",
    "            )\n",
    "        )\n",
    "        fig.add_trace( # LINEA F-measure Test\n",
    "            go.Scatter(\n",
    "                x=[ [data.Name.values[i]], [data.foldExecuted.values[i]] ],\n",
    "                y=[dataTest.TestFmeasure.values[idxMean]],\n",
    "                mode='markers',\n",
    "                marker={\n",
    "                    'symbol': markerSel,\n",
    "                    'color' : FmeasureColor,\n",
    "                    'size'  : 10,\n",
    "                    'opacity': 0.75,\n",
    "                    'line'  : {\n",
    "                        'width': 1.5,\n",
    "                        'color': borderColor,\n",
    "                    },\n",
    "                },\n",
    "            )\n",
    "        )\n",
    "\n",
    "fig.update_layout(\n",
    "    barmode='overlay',\n",
    "    #showlegend=False,\n",
    "    width=1000,\n",
    "    height=400,\n",
    "    xaxis= {\n",
    "        'linecolor': 'black',\n",
    "        #'linewidth': 1,\n",
    "        'mirror': True,\n",
    "        'title_text': \"K-fold test - Experiment\",\n",
    "        \"range\":      [ -1, 60 ],\n",
    "        \"tickfont\": {\n",
    "            \"size\":   10\n",
    "        }\n",
    "    },\n",
    "    yaxis= {\n",
    "        'linecolor': 'black',\n",
    "        #'linewidth': 1,\n",
    "        'mirror':     True,\n",
    "        'title_text': \"Fmeasure - Accuracy\",\n",
    "        'tick0':      0,\n",
    "        'dtick':      5,\n",
    "        \"range\":      [ 0, 85 ],\n",
    "    },\n",
    "    margin={\n",
    "        'l':   10,\n",
    "        'r':   10,\n",
    "        'b':   10,\n",
    "        't':   10,\n",
    "        'pad': 2\n",
    "    },\n",
    "    #bargap=0.015, # gap between bars of adjacent location coordinates.\n",
    "    #bargroupgap=0.01 # gap between bars of the same location coordinate.\n",
    ")\n",
    "\n",
    "fig.show() # Para que salga el resultado\n",
    "pio.write_image(fig, \"figura.svg\")"
   ]
  }
 ],
 "metadata": {
  "language_info": {
   "name": "python",
   "codemirror_mode": {
    "name": "ipython",
    "version": 3
   },
   "version": "3.7.6-final"
  },
  "orig_nbformat": 2,
  "file_extension": ".py",
  "mimetype": "text/x-python",
  "name": "python",
  "npconvert_exporter": "python",
  "pygments_lexer": "ipython3",
  "version": 3,
  "kernelspec": {
   "name": "python3",
   "display_name": "Python 3"
  }
 },
 "nbformat": 4,
 "nbformat_minor": 2
}